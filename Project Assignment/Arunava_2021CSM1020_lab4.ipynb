{
  "nbformat": 4,
  "nbformat_minor": 0,
  "metadata": {
    "colab": {
      "name": "Arunava_2021CSM1020_lab4.ipynb",
      "provenance": [],
      "collapsed_sections": []
    },
    "kernelspec": {
      "name": "python3",
      "display_name": "Python 3"
    },
    "language_info": {
      "name": "python"
    }
  },
  "cells": [
    {
      "cell_type": "code",
      "execution_count": null,
      "metadata": {
        "id": "X9YI1dATomUl",
        "colab": {
          "base_uri": "https://localhost:8080/"
        },
        "outputId": "2cfcf93c-ca57-4a70-f4f2-4d077dc0c547"
      },
      "outputs": [
        {
          "output_type": "stream",
          "name": "stdout",
          "text": [
            "Drive already mounted at /content/gdrive; to attempt to forcibly remount, call drive.mount(\"/content/gdrive\", force_remount=True).\n"
          ]
        }
      ],
      "source": [
        "from google.colab import drive\n",
        "drive.mount('/content/gdrive')"
      ]
    },
    {
      "cell_type": "code",
      "source": [
        "%cd /content/gdrive/MyDrive/Colab Notebooks/conf_matrix_and_calibration-main/experiments"
      ],
      "metadata": {
        "colab": {
          "base_uri": "https://localhost:8080/"
        },
        "id": "qtu2zpONp0v2",
        "outputId": "4c143753-2fff-43d9-ae3c-82287e63116a"
      },
      "execution_count": null,
      "outputs": [
        {
          "output_type": "stream",
          "name": "stdout",
          "text": [
            "/content/gdrive/MyDrive/Colab Notebooks/conf_matrix_and_calibration-main/experiments\n"
          ]
        }
      ]
    },
    {
      "cell_type": "code",
      "source": [
        "!pip install attrdict"
      ],
      "metadata": {
        "colab": {
          "base_uri": "https://localhost:8080/"
        },
        "id": "ZedwCrk-sEfy",
        "outputId": "601ea542-0e90-4af2-9ce5-1add8e943151"
      },
      "execution_count": null,
      "outputs": [
        {
          "output_type": "stream",
          "name": "stdout",
          "text": [
            "Requirement already satisfied: attrdict in /usr/local/lib/python3.7/dist-packages (2.0.1)\n",
            "Requirement already satisfied: six in /usr/local/lib/python3.7/dist-packages (from attrdict) (1.15.0)\n"
          ]
        }
      ]
    },
    {
      "cell_type": "code",
      "source": [
        "!pip install deepdish"
      ],
      "metadata": {
        "colab": {
          "base_uri": "https://localhost:8080/"
        },
        "id": "UyrEjpwK8aR8",
        "outputId": "db99a31a-d33d-4f42-f7b7-3ad7b7396003"
      },
      "execution_count": null,
      "outputs": [
        {
          "output_type": "stream",
          "name": "stdout",
          "text": [
            "Requirement already satisfied: deepdish in /usr/local/lib/python3.7/dist-packages (0.3.7)\n",
            "Requirement already satisfied: numpy in /usr/local/lib/python3.7/dist-packages (from deepdish) (1.21.6)\n",
            "Requirement already satisfied: tables in /usr/local/lib/python3.7/dist-packages (from deepdish) (3.7.0)\n",
            "Requirement already satisfied: scipy in /usr/local/lib/python3.7/dist-packages (from deepdish) (1.4.1)\n",
            "Requirement already satisfied: packaging in /usr/local/lib/python3.7/dist-packages (from tables->deepdish) (21.3)\n",
            "Requirement already satisfied: numexpr>=2.6.2 in /usr/local/lib/python3.7/dist-packages (from tables->deepdish) (2.8.1)\n",
            "Requirement already satisfied: pyparsing!=3.0.5,>=2.0.2 in /usr/local/lib/python3.7/dist-packages (from packaging->tables->deepdish) (3.0.8)\n"
          ]
        }
      ]
    },
    {
      "cell_type": "code",
      "source": [
        "!pip install Pyro4"
      ],
      "metadata": {
        "colab": {
          "base_uri": "https://localhost:8080/"
        },
        "id": "PctL8GSJ9NSX",
        "outputId": "2cba8557-99a0-4f68-f2d8-2391116906e0"
      },
      "execution_count": null,
      "outputs": [
        {
          "output_type": "stream",
          "name": "stdout",
          "text": [
            "Requirement already satisfied: Pyro4 in /usr/local/lib/python3.7/dist-packages (4.82)\n",
            "Requirement already satisfied: serpent>=1.27 in /usr/local/lib/python3.7/dist-packages (from Pyro4) (1.40)\n"
          ]
        }
      ]
    },
    {
      "cell_type": "code",
      "source": [
        "!pip install pyro-ppl"
      ],
      "metadata": {
        "colab": {
          "base_uri": "https://localhost:8080/"
        },
        "id": "50T0UENL-1p8",
        "outputId": "de8c717a-4a7b-41ff-ef46-80b8b3fee510"
      },
      "execution_count": null,
      "outputs": [
        {
          "output_type": "stream",
          "name": "stdout",
          "text": [
            "Requirement already satisfied: pyro-ppl in /usr/local/lib/python3.7/dist-packages (1.8.1)\n",
            "Requirement already satisfied: numpy>=1.7 in /usr/local/lib/python3.7/dist-packages (from pyro-ppl) (1.21.6)\n",
            "Requirement already satisfied: pyro-api>=0.1.1 in /usr/local/lib/python3.7/dist-packages (from pyro-ppl) (0.1.2)\n",
            "Requirement already satisfied: opt-einsum>=2.3.2 in /usr/local/lib/python3.7/dist-packages (from pyro-ppl) (3.3.0)\n",
            "Requirement already satisfied: torch>=1.11.0 in /usr/local/lib/python3.7/dist-packages (from pyro-ppl) (1.11.0+cu113)\n",
            "Requirement already satisfied: tqdm>=4.36 in /usr/local/lib/python3.7/dist-packages (from pyro-ppl) (4.64.0)\n",
            "Requirement already satisfied: typing-extensions in /usr/local/lib/python3.7/dist-packages (from torch>=1.11.0->pyro-ppl) (4.2.0)\n"
          ]
        }
      ]
    },
    {
      "cell_type": "code",
      "source": [
        "!pip install uncertainty-calibration"
      ],
      "metadata": {
        "colab": {
          "base_uri": "https://localhost:8080/"
        },
        "id": "ciRy4U1I_pQO",
        "outputId": "9f81c873-ac3f-4112-f568-d25ff83172a5"
      },
      "execution_count": null,
      "outputs": [
        {
          "output_type": "stream",
          "name": "stdout",
          "text": [
            "Requirement already satisfied: uncertainty-calibration in /usr/local/lib/python3.7/dist-packages (0.0.9)\n",
            "Requirement already satisfied: sklearn in /usr/local/lib/python3.7/dist-packages (from uncertainty-calibration) (0.0)\n",
            "Requirement already satisfied: numpy in /usr/local/lib/python3.7/dist-packages (from uncertainty-calibration) (1.21.6)\n",
            "Requirement already satisfied: parameterized in /usr/local/lib/python3.7/dist-packages (from uncertainty-calibration) (0.8.1)\n",
            "Requirement already satisfied: scikit-learn in /usr/local/lib/python3.7/dist-packages (from sklearn->uncertainty-calibration) (1.0.2)\n",
            "Requirement already satisfied: scipy>=1.1.0 in /usr/local/lib/python3.7/dist-packages (from scikit-learn->sklearn->uncertainty-calibration) (1.4.1)\n",
            "Requirement already satisfied: threadpoolctl>=2.0.0 in /usr/local/lib/python3.7/dist-packages (from scikit-learn->sklearn->uncertainty-calibration) (3.1.0)\n",
            "Requirement already satisfied: joblib>=0.11 in /usr/local/lib/python3.7/dist-packages (from scikit-learn->sklearn->uncertainty-calibration) (1.1.0)\n"
          ]
        }
      ]
    },
    {
      "cell_type": "markdown",
      "source": [
        "# Q.1. Reproduce Results: [25 points]"
      ],
      "metadata": {
        "id": "5SYVwQHJ1hfl"
      }
    },
    {
      "cell_type": "code",
      "source": [
        "!python calibration_experiment.py"
      ],
      "metadata": {
        "colab": {
          "base_uri": "https://localhost:8080/"
        },
        "id": "6SySxYVuqHHn",
        "outputId": "4abe6762-5586-4680-f1a8-8358800c148b"
      },
      "execution_count": null,
      "outputs": [
        {
          "output_type": "stream",
          "name": "stdout",
          "text": [
            "Models:   0% 0/4 [00:00<?, ?it/s]\n",
            "Runs:   0% 0/25 [00:00<?, ?it/s]\u001b[A\n",
            "Runs:   4% 1/25 [00:03<01:28,  3.70s/it]\u001b[A\n",
            "Runs:   8% 2/25 [00:07<01:26,  3.77s/it]\u001b[A\n",
            "Runs:  12% 3/25 [00:11<01:23,  3.80s/it]\u001b[A\n",
            "Runs:  16% 4/25 [00:15<01:18,  3.75s/it]\u001b[A\n",
            "Runs:  20% 5/25 [00:18<01:14,  3.72s/it]\u001b[A\n",
            "Runs:  24% 6/25 [00:22<01:10,  3.70s/it]\u001b[A\n",
            "Runs:  28% 7/25 [00:26<01:07,  3.72s/it]\u001b[A\n",
            "Runs:  32% 8/25 [00:29<01:03,  3.75s/it]\u001b[A\n",
            "Runs:  36% 9/25 [00:33<01:00,  3.76s/it]\u001b[A\n",
            "Runs:  40% 10/25 [00:37<00:56,  3.78s/it]\u001b[A\n",
            "Runs:  44% 11/25 [00:41<00:52,  3.75s/it]\u001b[A\n",
            "Runs:  48% 12/25 [00:44<00:48,  3.74s/it]\u001b[A\n",
            "Runs:  52% 13/25 [00:48<00:45,  3.77s/it]\u001b[A\n",
            "Runs:  56% 14/25 [00:52<00:41,  3.79s/it]\u001b[A\n",
            "Runs:  60% 15/25 [00:56<00:37,  3.79s/it]\u001b[A\n",
            "Runs:  64% 16/25 [01:00<00:33,  3.76s/it]\u001b[A\n",
            "Runs:  68% 17/25 [01:03<00:30,  3.79s/it]\u001b[A\n",
            "Runs:  72% 18/25 [01:07<00:26,  3.81s/it]\u001b[A\n",
            "Runs:  76% 19/25 [01:11<00:22,  3.76s/it]\u001b[A\n",
            "Runs:  80% 20/25 [01:15<00:18,  3.73s/it]\u001b[A\n",
            "Runs:  84% 21/25 [01:18<00:14,  3.71s/it]\u001b[A\n",
            "Runs:  88% 22/25 [01:22<00:11,  3.71s/it]\u001b[A\n",
            "Runs:  92% 23/25 [01:26<00:07,  3.73s/it]\u001b[A\n",
            "Runs:  96% 24/25 [01:29<00:03,  3.71s/it]\u001b[A\n",
            "Runs: 100% 25/25 [01:33<00:00,  3.71s/it]\u001b[A\n",
            "Models:  25% 1/4 [01:33<04:41, 93.91s/it]\n",
            "Runs:   0% 0/25 [00:00<?, ?it/s]\u001b[A\n",
            "Runs:   4% 1/25 [00:03<01:26,  3.62s/it]\u001b[A\n",
            "Runs:   8% 2/25 [00:07<01:23,  3.63s/it]\u001b[A\n",
            "Runs:  12% 3/25 [00:10<01:19,  3.64s/it]\u001b[A\n",
            "Runs:  16% 4/25 [00:14<01:16,  3.64s/it]\u001b[A\n",
            "Runs:  20% 5/25 [00:18<01:12,  3.61s/it]\u001b[A\n",
            "Runs:  24% 6/25 [00:21<01:08,  3.61s/it]\u001b[A\n",
            "Runs:  28% 7/25 [00:25<01:04,  3.61s/it]\u001b[A\n",
            "Runs:  32% 8/25 [00:28<01:01,  3.62s/it]\u001b[A\n",
            "Runs:  36% 9/25 [00:32<00:58,  3.63s/it]\u001b[A\n",
            "Runs:  40% 10/25 [00:36<00:54,  3.63s/it]\u001b[A\n",
            "Runs:  44% 11/25 [00:39<00:50,  3.63s/it]\u001b[A\n",
            "Runs:  48% 12/25 [00:43<00:47,  3.64s/it]\u001b[A\n",
            "Runs:  52% 13/25 [00:47<00:43,  3.63s/it]\u001b[A\n",
            "Runs:  56% 14/25 [00:50<00:39,  3.61s/it]\u001b[A\n",
            "Runs:  60% 15/25 [00:54<00:36,  3.61s/it]\u001b[A\n",
            "Runs:  64% 16/25 [00:57<00:32,  3.61s/it]\u001b[A\n",
            "Runs:  68% 17/25 [01:01<00:28,  3.61s/it]\u001b[A\n",
            "Runs:  72% 18/25 [01:05<00:25,  3.60s/it]\u001b[A\n",
            "Runs:  76% 19/25 [01:08<00:21,  3.59s/it]\u001b[A\n",
            "Runs:  80% 20/25 [01:12<00:18,  3.66s/it]\u001b[A\n",
            "Runs:  84% 21/25 [01:16<00:14,  3.65s/it]\u001b[A\n",
            "Runs:  88% 22/25 [01:19<00:10,  3.64s/it]\u001b[A\n",
            "Runs:  92% 23/25 [01:23<00:07,  3.66s/it]\u001b[A\n",
            "Runs:  96% 24/25 [01:27<00:03,  3.65s/it]\u001b[A\n",
            "Runs: 100% 25/25 [01:30<00:00,  3.64s/it]\u001b[A\n",
            "Models:  50% 2/4 [03:04<03:04, 92.21s/it]\n",
            "Runs:   0% 0/25 [00:00<?, ?it/s]\u001b[A\n",
            "Runs:   4% 1/25 [00:03<01:28,  3.67s/it]\u001b[A\n",
            "Runs:   8% 2/25 [00:07<01:24,  3.67s/it]\u001b[A\n",
            "Runs:  12% 3/25 [00:11<01:20,  3.67s/it]\u001b[A\n",
            "Runs:  16% 4/25 [00:14<01:17,  3.67s/it]\u001b[A\n",
            "Runs:  20% 5/25 [00:18<01:13,  3.66s/it]\u001b[A\n",
            "Runs:  24% 6/25 [00:21<01:09,  3.65s/it]\u001b[A\n",
            "Runs:  28% 7/25 [00:25<01:05,  3.66s/it]\u001b[A\n",
            "Runs:  32% 8/25 [00:29<01:02,  3.66s/it]\u001b[A\n",
            "Runs:  36% 9/25 [00:32<00:58,  3.66s/it]\u001b[A\n",
            "Runs:  40% 10/25 [00:36<00:55,  3.67s/it]\u001b[A\n",
            "Runs:  44% 11/25 [00:40<00:51,  3.65s/it]\u001b[A\n",
            "Runs:  48% 12/25 [00:43<00:47,  3.64s/it]\u001b[A\n",
            "Runs:  52% 13/25 [00:47<00:43,  3.65s/it]\u001b[A\n",
            "Runs:  56% 14/25 [00:51<00:41,  3.77s/it]\u001b[A\n",
            "Runs:  60% 15/25 [00:58<00:48,  4.82s/it]\u001b[A\n",
            "Runs:  64% 16/25 [01:08<00:55,  6.19s/it]\u001b[A\n",
            "Runs:  68% 17/25 [01:15<00:52,  6.55s/it]\u001b[A\n",
            "Runs:  72% 18/25 [01:21<00:45,  6.48s/it]\u001b[A\n",
            "Runs:  76% 19/25 [01:27<00:38,  6.35s/it]\u001b[A\n",
            "Runs:  80% 20/25 [01:36<00:34,  6.93s/it]\u001b[A\n",
            "Runs:  84% 21/25 [01:39<00:23,  5.95s/it]\u001b[A\n",
            "Runs:  88% 22/25 [01:43<00:15,  5.27s/it]\u001b[A\n",
            "Runs:  92% 23/25 [01:47<00:09,  4.77s/it]\u001b[A\n",
            "Runs:  96% 24/25 [01:50<00:04,  4.44s/it]\u001b[A\n",
            "Runs: 100% 25/25 [01:54<00:00,  4.20s/it]\u001b[A\n",
            "Models:  75% 3/4 [04:59<01:42, 102.55s/it]\n",
            "Runs:   0% 0/25 [00:00<?, ?it/s]\u001b[A\n",
            "Runs:   4% 1/25 [00:03<01:26,  3.61s/it]\u001b[A\n",
            "Runs:   8% 2/25 [00:07<01:21,  3.56s/it]\u001b[A\n",
            "Runs:  12% 3/25 [00:10<01:17,  3.54s/it]\u001b[A\n",
            "Runs:  16% 4/25 [00:14<01:15,  3.57s/it]\u001b[A\n",
            "Runs:  20% 5/25 [00:17<01:11,  3.59s/it]\u001b[A\n",
            "Runs:  24% 6/25 [00:21<01:08,  3.59s/it]\u001b[A\n",
            "Runs:  28% 7/25 [00:25<01:04,  3.60s/it]\u001b[A\n",
            "Runs:  32% 8/25 [00:28<01:01,  3.60s/it]\u001b[A\n",
            "Runs:  36% 9/25 [00:32<00:57,  3.58s/it]\u001b[A\n",
            "Runs:  40% 10/25 [00:35<00:53,  3.57s/it]\u001b[A\n",
            "Runs:  44% 11/25 [00:39<00:50,  3.58s/it]\u001b[A\n",
            "Runs:  48% 12/25 [00:43<00:46,  3.60s/it]\u001b[A\n",
            "Runs:  52% 13/25 [00:46<00:43,  3.59s/it]\u001b[A\n",
            "Runs:  56% 14/25 [00:50<00:39,  3.56s/it]\u001b[A\n",
            "Runs:  60% 15/25 [00:54<00:36,  3.67s/it]\u001b[A\n",
            "Runs:  64% 16/25 [00:57<00:32,  3.64s/it]\u001b[A\n",
            "Runs:  68% 17/25 [01:01<00:29,  3.65s/it]\u001b[A\n",
            "Runs:  72% 18/25 [01:04<00:25,  3.62s/it]\u001b[A\n",
            "Runs:  76% 19/25 [01:08<00:21,  3.62s/it]\u001b[A\n",
            "Runs:  80% 20/25 [01:11<00:17,  3.58s/it]\u001b[A\n",
            "Runs:  84% 21/25 [01:15<00:14,  3.59s/it]\u001b[A\n",
            "Runs:  88% 22/25 [01:19<00:10,  3.56s/it]\u001b[A\n",
            "Runs:  92% 23/25 [01:22<00:07,  3.57s/it]\u001b[A\n",
            "Runs:  96% 24/25 [01:26<00:03,  3.54s/it]\u001b[A\n",
            "Runs: 100% 25/25 [01:29<00:00,  3.55s/it]\u001b[A\n",
            "Models: 100% 4/4 [06:29<00:00, 97.45s/it]\n"
          ]
        }
      ]
    },
    {
      "cell_type": "code",
      "source": [
        "!python calibrate_combo_experiment.py"
      ],
      "metadata": {
        "colab": {
          "base_uri": "https://localhost:8080/"
        },
        "id": "7d3xhRc2RaBA",
        "outputId": "57ba3efd-d747-4678-8653-272730911fed"
      },
      "execution_count": null,
      "outputs": [
        {
          "output_type": "stream",
          "name": "stdout",
          "text": [
            "Models:   0% 0/4 [00:00<?, ?it/s]\n",
            "Runs:   0% 0/25 [00:00<?, ?it/s]\u001b[A\n",
            "Runs:   4% 1/25 [00:03<01:21,  3.40s/it]\u001b[A\n",
            "Runs:   8% 2/25 [00:05<00:59,  2.60s/it]\u001b[A\n",
            "Runs:  12% 3/25 [00:07<00:50,  2.29s/it]\u001b[A\n",
            "Runs:  16% 4/25 [00:09<00:44,  2.11s/it]\u001b[A\n",
            "Runs:  20% 5/25 [00:11<00:41,  2.08s/it]\u001b[A\n",
            "Runs:  24% 6/25 [00:13<00:38,  2.01s/it]\u001b[A\n",
            "Runs:  28% 7/25 [00:14<00:33,  1.87s/it]\u001b[A\n",
            "Runs:  32% 8/25 [00:16<00:31,  1.84s/it]\u001b[A\n",
            "Runs:  36% 9/25 [00:18<00:29,  1.86s/it]\u001b[A\n",
            "Runs:  40% 10/25 [00:20<00:28,  1.90s/it]\u001b[A\n",
            "Runs:  44% 11/25 [00:21<00:25,  1.79s/it]\u001b[A\n",
            "Runs:  48% 12/25 [00:23<00:23,  1.85s/it]\u001b[A\n",
            "Runs:  52% 13/25 [00:25<00:22,  1.88s/it]\u001b[A\n",
            "Runs:  56% 14/25 [00:27<00:20,  1.87s/it]\u001b[A\n",
            "Runs:  60% 15/25 [00:29<00:18,  1.85s/it]\u001b[A\n",
            "Runs:  64% 16/25 [00:31<00:16,  1.87s/it]\u001b[A\n",
            "Runs:  68% 17/25 [00:33<00:14,  1.80s/it]\u001b[A\n",
            "Runs:  72% 18/25 [00:34<00:12,  1.84s/it]\u001b[A\n",
            "Runs:  76% 19/25 [00:36<00:11,  1.84s/it]\u001b[A\n",
            "Runs:  80% 20/25 [00:38<00:09,  1.81s/it]\u001b[A\n",
            "Runs:  84% 21/25 [00:40<00:07,  1.79s/it]\u001b[A\n",
            "Runs:  88% 22/25 [00:42<00:05,  1.84s/it]\u001b[A\n",
            "Runs:  92% 23/25 [00:44<00:03,  1.84s/it]\u001b[A\n",
            "Runs:  96% 24/25 [00:45<00:01,  1.85s/it]\u001b[A\n",
            "Runs: 100% 25/25 [00:47<00:00,  1.85s/it]\u001b[A\n",
            "Models:  25% 1/4 [00:48<02:25, 48.43s/it]\n",
            "Runs:   0% 0/25 [00:00<?, ?it/s]\u001b[A\n",
            "Runs:   4% 1/25 [00:01<00:47,  1.99s/it]\u001b[A\n",
            "Runs:   8% 2/25 [00:04<00:46,  2.03s/it]\u001b[A\n",
            "Runs:  12% 3/25 [00:05<00:41,  1.91s/it]\u001b[A\n",
            "Runs:  16% 4/25 [00:07<00:36,  1.76s/it]\u001b[A\n",
            "Runs:  20% 5/25 [00:09<00:36,  1.82s/it]\u001b[A\n",
            "Runs:  24% 6/25 [00:11<00:36,  1.90s/it]\u001b[A\n",
            "Runs:  28% 7/25 [00:13<00:35,  1.98s/it]\u001b[A\n",
            "Runs:  32% 8/25 [00:15<00:34,  2.01s/it]\u001b[A\n",
            "Runs:  36% 9/25 [00:17<00:32,  2.02s/it]\u001b[A\n",
            "Runs:  40% 10/25 [00:19<00:29,  1.96s/it]\u001b[A\n",
            "Runs:  44% 11/25 [00:21<00:26,  1.91s/it]\u001b[A\n",
            "Runs:  48% 12/25 [00:22<00:24,  1.85s/it]\u001b[A\n",
            "Runs:  52% 13/25 [00:24<00:22,  1.90s/it]\u001b[A\n",
            "Runs:  56% 14/25 [00:26<00:20,  1.85s/it]\u001b[A\n",
            "Runs:  60% 15/25 [00:28<00:18,  1.90s/it]\u001b[A\n",
            "Runs:  64% 16/25 [00:30<00:16,  1.82s/it]\u001b[A\n",
            "Runs:  68% 17/25 [00:32<00:14,  1.83s/it]\u001b[A\n",
            "Runs:  72% 18/25 [00:34<00:12,  1.85s/it]\u001b[A\n",
            "Runs:  76% 19/25 [00:35<00:11,  1.85s/it]\u001b[A\n",
            "Runs:  80% 20/25 [00:37<00:09,  1.86s/it]\u001b[A\n",
            "Runs:  84% 21/25 [00:39<00:07,  1.93s/it]\u001b[A\n",
            "Runs:  88% 22/25 [00:41<00:05,  1.93s/it]\u001b[A\n",
            "Runs:  92% 23/25 [00:43<00:03,  1.81s/it]\u001b[A\n",
            "Runs:  96% 24/25 [00:45<00:01,  1.87s/it]\u001b[A\n",
            "Runs: 100% 25/25 [00:47<00:00,  1.90s/it]\u001b[A\n",
            "Models:  50% 2/4 [01:36<01:35, 47.98s/it]\n",
            "Runs:   0% 0/25 [00:00<?, ?it/s]\u001b[A\n",
            "Runs:   4% 1/25 [00:02<00:48,  2.01s/it]\u001b[A\n",
            "Runs:   8% 2/25 [00:03<00:44,  1.94s/it]\u001b[A\n",
            "Runs:  12% 3/25 [00:05<00:44,  2.01s/it]\u001b[A\n",
            "Runs:  16% 4/25 [00:07<00:39,  1.89s/it]\u001b[A\n",
            "Runs:  20% 5/25 [00:09<00:37,  1.88s/it]\u001b[A\n",
            "Runs:  24% 6/25 [00:11<00:34,  1.84s/it]\u001b[A\n",
            "Runs:  28% 7/25 [00:13<00:35,  2.00s/it]\u001b[A\n",
            "Runs:  32% 8/25 [00:15<00:34,  2.02s/it]\u001b[A\n",
            "Runs:  36% 9/25 [00:17<00:31,  1.99s/it]\u001b[A\n",
            "Runs:  40% 10/25 [00:19<00:28,  1.93s/it]\u001b[A\n",
            "Runs:  44% 11/25 [00:21<00:25,  1.83s/it]\u001b[A\n",
            "Runs:  48% 12/25 [00:22<00:23,  1.79s/it]\u001b[A\n",
            "Runs:  52% 13/25 [00:24<00:21,  1.81s/it]\u001b[A\n",
            "Runs:  56% 14/25 [00:26<00:20,  1.87s/it]\u001b[A\n",
            "Runs:  60% 15/25 [00:28<00:18,  1.83s/it]\u001b[A\n",
            "Runs:  64% 16/25 [00:30<00:16,  1.85s/it]\u001b[A\n",
            "Runs:  68% 17/25 [00:31<00:14,  1.82s/it]\u001b[A\n",
            "Runs:  72% 18/25 [00:33<00:12,  1.82s/it]\u001b[A\n",
            "Runs:  76% 19/25 [00:35<00:10,  1.79s/it]\u001b[A\n",
            "Runs:  80% 20/25 [00:37<00:09,  1.88s/it]\u001b[A\n",
            "Runs:  84% 21/25 [00:39<00:07,  1.92s/it]\u001b[A\n",
            "Runs:  88% 22/25 [00:41<00:05,  1.93s/it]\u001b[A\n",
            "Runs:  92% 23/25 [00:43<00:03,  1.97s/it]\u001b[A\n",
            "Runs:  96% 24/25 [00:45<00:01,  1.95s/it]\u001b[A\n",
            "Runs: 100% 25/25 [00:47<00:00,  1.90s/it]\u001b[A\n",
            "Models:  75% 3/4 [02:23<00:47, 47.83s/it]\n",
            "Runs:   0% 0/25 [00:00<?, ?it/s]\u001b[A\n",
            "Runs:   4% 1/25 [00:01<00:43,  1.81s/it]\u001b[A\n",
            "Runs:   8% 2/25 [00:03<00:40,  1.78s/it]\u001b[A\n",
            "Runs:  12% 3/25 [00:05<00:42,  1.91s/it]\u001b[A\n",
            "Runs:  16% 4/25 [00:07<00:40,  1.92s/it]\u001b[A\n",
            "Runs:  20% 5/25 [00:09<00:39,  1.96s/it]\u001b[A\n",
            "Runs:  24% 6/25 [00:11<00:36,  1.94s/it]\u001b[A\n",
            "Runs:  28% 7/25 [00:13<00:35,  1.95s/it]\u001b[A\n",
            "Runs:  32% 8/25 [00:15<00:32,  1.91s/it]\u001b[A\n",
            "Runs:  36% 9/25 [00:16<00:28,  1.76s/it]\u001b[A\n",
            "Runs:  40% 10/25 [00:18<00:26,  1.79s/it]\u001b[A\n",
            "Runs:  44% 11/25 [00:20<00:25,  1.83s/it]\u001b[A\n",
            "Runs:  48% 12/25 [00:22<00:24,  1.85s/it]\u001b[A\n",
            "Runs:  52% 13/25 [00:24<00:23,  1.93s/it]\u001b[A\n",
            "Runs:  56% 14/25 [00:26<00:20,  1.85s/it]\u001b[A\n",
            "Runs:  60% 15/25 [00:27<00:17,  1.76s/it]\u001b[A\n",
            "Runs:  64% 16/25 [00:29<00:15,  1.77s/it]\u001b[A\n",
            "Runs:  68% 17/25 [00:31<00:14,  1.77s/it]\u001b[A\n",
            "Runs:  72% 18/25 [00:33<00:12,  1.82s/it]\u001b[A\n",
            "Runs:  76% 19/25 [00:35<00:11,  1.89s/it]\u001b[A\n",
            "Runs:  80% 20/25 [00:37<00:09,  1.85s/it]\u001b[A\n",
            "Runs:  84% 21/25 [00:39<00:07,  1.89s/it]\u001b[A\n",
            "Runs:  88% 22/25 [00:41<00:05,  1.97s/it]\u001b[A\n",
            "Runs:  92% 23/25 [00:43<00:03,  1.95s/it]\u001b[A\n",
            "Runs:  96% 24/25 [00:44<00:01,  1.87s/it]\u001b[A\n",
            "Runs: 100% 25/25 [00:46<00:00,  1.82s/it]\u001b[A\n",
            "Models: 100% 4/4 [03:10<00:00, 47.65s/it]\n"
          ]
        }
      ]
    },
    {
      "cell_type": "code",
      "source": [
        "#Accuracy data for densnet model:\n",
        "import pandas as pd\n",
        "p=pd.read_csv('/content/gdrive/MyDrive/Colab Notebooks/conf_matrix_and_calibration-main/experiments/calibration_experimentdensenet-bc-L190-k40_accuracy.csv')\n",
        "print('This is the accuracy data generated by densnet using cifar10h dataset')\n",
        "p"
      ],
      "metadata": {
        "colab": {
          "base_uri": "https://localhost:8080/",
          "height": 912
        },
        "id": "lv67Pf4SNhks",
        "outputId": "5e7fc16d-d31c-4da9-9a7c-8e2d0feda46b"
      },
      "execution_count": null,
      "outputs": [
        {
          "output_type": "stream",
          "name": "stdout",
          "text": [
            "This is the accuracy data generated by densnet using cifar10h dataset\n"
          ]
        },
        {
          "output_type": "execute_result",
          "data": {
            "text/plain": [
              "       human     model  comb none  comb confusion  comb temperature scaling  \\\n",
              "0   0.950000  0.963667   0.973667        0.962000                  0.978000   \n",
              "1   0.950333  0.966333   0.977333        0.964333                  0.977333   \n",
              "2   0.953667  0.970333   0.978667        0.967333                  0.980333   \n",
              "3   0.954667  0.972333   0.981333        0.971333                  0.982000   \n",
              "4   0.955333  0.964333   0.977000        0.958333                  0.979333   \n",
              "5   0.954667  0.968667   0.978667        0.967333                  0.981000   \n",
              "6   0.956000  0.969333   0.979667        0.970333                  0.979333   \n",
              "7   0.953333  0.971000   0.978333        0.971000                  0.979667   \n",
              "8   0.952000  0.965333   0.975333        0.964667                  0.979000   \n",
              "9   0.956000  0.966333   0.978333        0.966667                  0.978667   \n",
              "10  0.953000  0.967333   0.976000        0.964667                  0.978667   \n",
              "11  0.955333  0.972333   0.980000        0.968667                  0.981000   \n",
              "12  0.947333  0.964000   0.973333        0.965000                  0.976000   \n",
              "13  0.951667  0.965667   0.978333        0.968333                  0.978667   \n",
              "14  0.958667  0.965000   0.979333        0.967333                  0.981667   \n",
              "15  0.958333  0.968667   0.979333        0.966000                  0.981667   \n",
              "16  0.952333  0.968333   0.978333        0.967667                  0.981000   \n",
              "17  0.949667  0.963000   0.975333        0.962000                  0.976667   \n",
              "18  0.958333  0.967000   0.976000        0.966000                  0.979667   \n",
              "19  0.951333  0.969000   0.979000        0.965000                  0.980667   \n",
              "20  0.950333  0.968333   0.975667        0.965000                  0.977333   \n",
              "21  0.953667  0.973333   0.981333        0.967667                  0.981000   \n",
              "22  0.952667  0.967667   0.979667        0.964000                  0.980000   \n",
              "23  0.955667  0.962000   0.977667        0.961667                  0.981000   \n",
              "24  0.961333  0.967667   0.978000        0.970667                  0.982333   \n",
              "\n",
              "    comb ensemble temperature scaling  comb imax binning  \n",
              "0                            0.977000           0.977667  \n",
              "1                            0.977333           0.977333  \n",
              "2                            0.979333           0.979667  \n",
              "3                            0.979000           0.982333  \n",
              "4                            0.979000           0.979667  \n",
              "5                            0.980333           0.982000  \n",
              "6                            0.977667           0.979000  \n",
              "7                            0.978333           0.978333  \n",
              "8                            0.976667           0.979000  \n",
              "9                            0.977333           0.978667  \n",
              "10                           0.977000           0.978000  \n",
              "11                           0.979667           0.982333  \n",
              "12                           0.976667           0.976333  \n",
              "13                           0.979000           0.980333  \n",
              "14                           0.978333           0.980000  \n",
              "15                           0.980000           0.979333  \n",
              "16                           0.979000           0.980333  \n",
              "17                           0.974000           0.976000  \n",
              "18                           0.979000           0.979333  \n",
              "19                           0.979667           0.980000  \n",
              "20                           0.976000           0.977667  \n",
              "21                           0.978333           0.980667  \n",
              "22                           0.977667           0.980667  \n",
              "23                           0.980000           0.981333  \n",
              "24                           0.982333           0.983000  "
            ],
            "text/html": [
              "\n",
              "  <div id=\"df-862aa06f-d602-4e90-b447-5a844b677940\">\n",
              "    <div class=\"colab-df-container\">\n",
              "      <div>\n",
              "<style scoped>\n",
              "    .dataframe tbody tr th:only-of-type {\n",
              "        vertical-align: middle;\n",
              "    }\n",
              "\n",
              "    .dataframe tbody tr th {\n",
              "        vertical-align: top;\n",
              "    }\n",
              "\n",
              "    .dataframe thead th {\n",
              "        text-align: right;\n",
              "    }\n",
              "</style>\n",
              "<table border=\"1\" class=\"dataframe\">\n",
              "  <thead>\n",
              "    <tr style=\"text-align: right;\">\n",
              "      <th></th>\n",
              "      <th>human</th>\n",
              "      <th>model</th>\n",
              "      <th>comb none</th>\n",
              "      <th>comb confusion</th>\n",
              "      <th>comb temperature scaling</th>\n",
              "      <th>comb ensemble temperature scaling</th>\n",
              "      <th>comb imax binning</th>\n",
              "    </tr>\n",
              "  </thead>\n",
              "  <tbody>\n",
              "    <tr>\n",
              "      <th>0</th>\n",
              "      <td>0.950000</td>\n",
              "      <td>0.963667</td>\n",
              "      <td>0.973667</td>\n",
              "      <td>0.962000</td>\n",
              "      <td>0.978000</td>\n",
              "      <td>0.977000</td>\n",
              "      <td>0.977667</td>\n",
              "    </tr>\n",
              "    <tr>\n",
              "      <th>1</th>\n",
              "      <td>0.950333</td>\n",
              "      <td>0.966333</td>\n",
              "      <td>0.977333</td>\n",
              "      <td>0.964333</td>\n",
              "      <td>0.977333</td>\n",
              "      <td>0.977333</td>\n",
              "      <td>0.977333</td>\n",
              "    </tr>\n",
              "    <tr>\n",
              "      <th>2</th>\n",
              "      <td>0.953667</td>\n",
              "      <td>0.970333</td>\n",
              "      <td>0.978667</td>\n",
              "      <td>0.967333</td>\n",
              "      <td>0.980333</td>\n",
              "      <td>0.979333</td>\n",
              "      <td>0.979667</td>\n",
              "    </tr>\n",
              "    <tr>\n",
              "      <th>3</th>\n",
              "      <td>0.954667</td>\n",
              "      <td>0.972333</td>\n",
              "      <td>0.981333</td>\n",
              "      <td>0.971333</td>\n",
              "      <td>0.982000</td>\n",
              "      <td>0.979000</td>\n",
              "      <td>0.982333</td>\n",
              "    </tr>\n",
              "    <tr>\n",
              "      <th>4</th>\n",
              "      <td>0.955333</td>\n",
              "      <td>0.964333</td>\n",
              "      <td>0.977000</td>\n",
              "      <td>0.958333</td>\n",
              "      <td>0.979333</td>\n",
              "      <td>0.979000</td>\n",
              "      <td>0.979667</td>\n",
              "    </tr>\n",
              "    <tr>\n",
              "      <th>5</th>\n",
              "      <td>0.954667</td>\n",
              "      <td>0.968667</td>\n",
              "      <td>0.978667</td>\n",
              "      <td>0.967333</td>\n",
              "      <td>0.981000</td>\n",
              "      <td>0.980333</td>\n",
              "      <td>0.982000</td>\n",
              "    </tr>\n",
              "    <tr>\n",
              "      <th>6</th>\n",
              "      <td>0.956000</td>\n",
              "      <td>0.969333</td>\n",
              "      <td>0.979667</td>\n",
              "      <td>0.970333</td>\n",
              "      <td>0.979333</td>\n",
              "      <td>0.977667</td>\n",
              "      <td>0.979000</td>\n",
              "    </tr>\n",
              "    <tr>\n",
              "      <th>7</th>\n",
              "      <td>0.953333</td>\n",
              "      <td>0.971000</td>\n",
              "      <td>0.978333</td>\n",
              "      <td>0.971000</td>\n",
              "      <td>0.979667</td>\n",
              "      <td>0.978333</td>\n",
              "      <td>0.978333</td>\n",
              "    </tr>\n",
              "    <tr>\n",
              "      <th>8</th>\n",
              "      <td>0.952000</td>\n",
              "      <td>0.965333</td>\n",
              "      <td>0.975333</td>\n",
              "      <td>0.964667</td>\n",
              "      <td>0.979000</td>\n",
              "      <td>0.976667</td>\n",
              "      <td>0.979000</td>\n",
              "    </tr>\n",
              "    <tr>\n",
              "      <th>9</th>\n",
              "      <td>0.956000</td>\n",
              "      <td>0.966333</td>\n",
              "      <td>0.978333</td>\n",
              "      <td>0.966667</td>\n",
              "      <td>0.978667</td>\n",
              "      <td>0.977333</td>\n",
              "      <td>0.978667</td>\n",
              "    </tr>\n",
              "    <tr>\n",
              "      <th>10</th>\n",
              "      <td>0.953000</td>\n",
              "      <td>0.967333</td>\n",
              "      <td>0.976000</td>\n",
              "      <td>0.964667</td>\n",
              "      <td>0.978667</td>\n",
              "      <td>0.977000</td>\n",
              "      <td>0.978000</td>\n",
              "    </tr>\n",
              "    <tr>\n",
              "      <th>11</th>\n",
              "      <td>0.955333</td>\n",
              "      <td>0.972333</td>\n",
              "      <td>0.980000</td>\n",
              "      <td>0.968667</td>\n",
              "      <td>0.981000</td>\n",
              "      <td>0.979667</td>\n",
              "      <td>0.982333</td>\n",
              "    </tr>\n",
              "    <tr>\n",
              "      <th>12</th>\n",
              "      <td>0.947333</td>\n",
              "      <td>0.964000</td>\n",
              "      <td>0.973333</td>\n",
              "      <td>0.965000</td>\n",
              "      <td>0.976000</td>\n",
              "      <td>0.976667</td>\n",
              "      <td>0.976333</td>\n",
              "    </tr>\n",
              "    <tr>\n",
              "      <th>13</th>\n",
              "      <td>0.951667</td>\n",
              "      <td>0.965667</td>\n",
              "      <td>0.978333</td>\n",
              "      <td>0.968333</td>\n",
              "      <td>0.978667</td>\n",
              "      <td>0.979000</td>\n",
              "      <td>0.980333</td>\n",
              "    </tr>\n",
              "    <tr>\n",
              "      <th>14</th>\n",
              "      <td>0.958667</td>\n",
              "      <td>0.965000</td>\n",
              "      <td>0.979333</td>\n",
              "      <td>0.967333</td>\n",
              "      <td>0.981667</td>\n",
              "      <td>0.978333</td>\n",
              "      <td>0.980000</td>\n",
              "    </tr>\n",
              "    <tr>\n",
              "      <th>15</th>\n",
              "      <td>0.958333</td>\n",
              "      <td>0.968667</td>\n",
              "      <td>0.979333</td>\n",
              "      <td>0.966000</td>\n",
              "      <td>0.981667</td>\n",
              "      <td>0.980000</td>\n",
              "      <td>0.979333</td>\n",
              "    </tr>\n",
              "    <tr>\n",
              "      <th>16</th>\n",
              "      <td>0.952333</td>\n",
              "      <td>0.968333</td>\n",
              "      <td>0.978333</td>\n",
              "      <td>0.967667</td>\n",
              "      <td>0.981000</td>\n",
              "      <td>0.979000</td>\n",
              "      <td>0.980333</td>\n",
              "    </tr>\n",
              "    <tr>\n",
              "      <th>17</th>\n",
              "      <td>0.949667</td>\n",
              "      <td>0.963000</td>\n",
              "      <td>0.975333</td>\n",
              "      <td>0.962000</td>\n",
              "      <td>0.976667</td>\n",
              "      <td>0.974000</td>\n",
              "      <td>0.976000</td>\n",
              "    </tr>\n",
              "    <tr>\n",
              "      <th>18</th>\n",
              "      <td>0.958333</td>\n",
              "      <td>0.967000</td>\n",
              "      <td>0.976000</td>\n",
              "      <td>0.966000</td>\n",
              "      <td>0.979667</td>\n",
              "      <td>0.979000</td>\n",
              "      <td>0.979333</td>\n",
              "    </tr>\n",
              "    <tr>\n",
              "      <th>19</th>\n",
              "      <td>0.951333</td>\n",
              "      <td>0.969000</td>\n",
              "      <td>0.979000</td>\n",
              "      <td>0.965000</td>\n",
              "      <td>0.980667</td>\n",
              "      <td>0.979667</td>\n",
              "      <td>0.980000</td>\n",
              "    </tr>\n",
              "    <tr>\n",
              "      <th>20</th>\n",
              "      <td>0.950333</td>\n",
              "      <td>0.968333</td>\n",
              "      <td>0.975667</td>\n",
              "      <td>0.965000</td>\n",
              "      <td>0.977333</td>\n",
              "      <td>0.976000</td>\n",
              "      <td>0.977667</td>\n",
              "    </tr>\n",
              "    <tr>\n",
              "      <th>21</th>\n",
              "      <td>0.953667</td>\n",
              "      <td>0.973333</td>\n",
              "      <td>0.981333</td>\n",
              "      <td>0.967667</td>\n",
              "      <td>0.981000</td>\n",
              "      <td>0.978333</td>\n",
              "      <td>0.980667</td>\n",
              "    </tr>\n",
              "    <tr>\n",
              "      <th>22</th>\n",
              "      <td>0.952667</td>\n",
              "      <td>0.967667</td>\n",
              "      <td>0.979667</td>\n",
              "      <td>0.964000</td>\n",
              "      <td>0.980000</td>\n",
              "      <td>0.977667</td>\n",
              "      <td>0.980667</td>\n",
              "    </tr>\n",
              "    <tr>\n",
              "      <th>23</th>\n",
              "      <td>0.955667</td>\n",
              "      <td>0.962000</td>\n",
              "      <td>0.977667</td>\n",
              "      <td>0.961667</td>\n",
              "      <td>0.981000</td>\n",
              "      <td>0.980000</td>\n",
              "      <td>0.981333</td>\n",
              "    </tr>\n",
              "    <tr>\n",
              "      <th>24</th>\n",
              "      <td>0.961333</td>\n",
              "      <td>0.967667</td>\n",
              "      <td>0.978000</td>\n",
              "      <td>0.970667</td>\n",
              "      <td>0.982333</td>\n",
              "      <td>0.982333</td>\n",
              "      <td>0.983000</td>\n",
              "    </tr>\n",
              "  </tbody>\n",
              "</table>\n",
              "</div>\n",
              "      <button class=\"colab-df-convert\" onclick=\"convertToInteractive('df-862aa06f-d602-4e90-b447-5a844b677940')\"\n",
              "              title=\"Convert this dataframe to an interactive table.\"\n",
              "              style=\"display:none;\">\n",
              "        \n",
              "  <svg xmlns=\"http://www.w3.org/2000/svg\" height=\"24px\"viewBox=\"0 0 24 24\"\n",
              "       width=\"24px\">\n",
              "    <path d=\"M0 0h24v24H0V0z\" fill=\"none\"/>\n",
              "    <path d=\"M18.56 5.44l.94 2.06.94-2.06 2.06-.94-2.06-.94-.94-2.06-.94 2.06-2.06.94zm-11 1L8.5 8.5l.94-2.06 2.06-.94-2.06-.94L8.5 2.5l-.94 2.06-2.06.94zm10 10l.94 2.06.94-2.06 2.06-.94-2.06-.94-.94-2.06-.94 2.06-2.06.94z\"/><path d=\"M17.41 7.96l-1.37-1.37c-.4-.4-.92-.59-1.43-.59-.52 0-1.04.2-1.43.59L10.3 9.45l-7.72 7.72c-.78.78-.78 2.05 0 2.83L4 21.41c.39.39.9.59 1.41.59.51 0 1.02-.2 1.41-.59l7.78-7.78 2.81-2.81c.8-.78.8-2.07 0-2.86zM5.41 20L4 18.59l7.72-7.72 1.47 1.35L5.41 20z\"/>\n",
              "  </svg>\n",
              "      </button>\n",
              "      \n",
              "  <style>\n",
              "    .colab-df-container {\n",
              "      display:flex;\n",
              "      flex-wrap:wrap;\n",
              "      gap: 12px;\n",
              "    }\n",
              "\n",
              "    .colab-df-convert {\n",
              "      background-color: #E8F0FE;\n",
              "      border: none;\n",
              "      border-radius: 50%;\n",
              "      cursor: pointer;\n",
              "      display: none;\n",
              "      fill: #1967D2;\n",
              "      height: 32px;\n",
              "      padding: 0 0 0 0;\n",
              "      width: 32px;\n",
              "    }\n",
              "\n",
              "    .colab-df-convert:hover {\n",
              "      background-color: #E2EBFA;\n",
              "      box-shadow: 0px 1px 2px rgba(60, 64, 67, 0.3), 0px 1px 3px 1px rgba(60, 64, 67, 0.15);\n",
              "      fill: #174EA6;\n",
              "    }\n",
              "\n",
              "    [theme=dark] .colab-df-convert {\n",
              "      background-color: #3B4455;\n",
              "      fill: #D2E3FC;\n",
              "    }\n",
              "\n",
              "    [theme=dark] .colab-df-convert:hover {\n",
              "      background-color: #434B5C;\n",
              "      box-shadow: 0px 1px 3px 1px rgba(0, 0, 0, 0.15);\n",
              "      filter: drop-shadow(0px 1px 2px rgba(0, 0, 0, 0.3));\n",
              "      fill: #FFFFFF;\n",
              "    }\n",
              "  </style>\n",
              "\n",
              "      <script>\n",
              "        const buttonEl =\n",
              "          document.querySelector('#df-862aa06f-d602-4e90-b447-5a844b677940 button.colab-df-convert');\n",
              "        buttonEl.style.display =\n",
              "          google.colab.kernel.accessAllowed ? 'block' : 'none';\n",
              "\n",
              "        async function convertToInteractive(key) {\n",
              "          const element = document.querySelector('#df-862aa06f-d602-4e90-b447-5a844b677940');\n",
              "          const dataTable =\n",
              "            await google.colab.kernel.invokeFunction('convertToInteractive',\n",
              "                                                     [key], {});\n",
              "          if (!dataTable) return;\n",
              "\n",
              "          const docLinkHtml = 'Like what you see? Visit the ' +\n",
              "            '<a target=\"_blank\" href=https://colab.research.google.com/notebooks/data_table.ipynb>data table notebook</a>'\n",
              "            + ' to learn more about interactive tables.';\n",
              "          element.innerHTML = '';\n",
              "          dataTable['output_type'] = 'display_data';\n",
              "          await google.colab.output.renderOutput(dataTable, element);\n",
              "          const docLink = document.createElement('div');\n",
              "          docLink.innerHTML = docLinkHtml;\n",
              "          element.appendChild(docLink);\n",
              "        }\n",
              "      </script>\n",
              "    </div>\n",
              "  </div>\n",
              "  "
            ]
          },
          "metadata": {},
          "execution_count": 12
        }
      ]
    },
    {
      "cell_type": "code",
      "source": [
        "#Accuracy data for densnet model:\n",
        "p=pd.read_csv('/content/gdrive/MyDrive/Colab Notebooks/conf_matrix_and_calibration-main/experiments/calibration_experimentpreresnet-110_accuracy.csv')\n",
        "print('This is the accuracy data generated by preresnet using cifar10h dataset')\n",
        "p"
      ],
      "metadata": {
        "colab": {
          "base_uri": "https://localhost:8080/",
          "height": 912
        },
        "id": "RWfAadwPVytU",
        "outputId": "b3336568-733a-424d-81f0-f71804f574ba"
      },
      "execution_count": null,
      "outputs": [
        {
          "output_type": "stream",
          "name": "stdout",
          "text": [
            "This is the accuracy data generated by preresnet using cifar10h dataset\n"
          ]
        },
        {
          "output_type": "execute_result",
          "data": {
            "text/plain": [
              "       human     model  comb none  comb confusion  comb temperature scaling  \\\n",
              "0   0.950000  0.948667   0.968667        0.954667                  0.971000   \n",
              "1   0.950333  0.950667   0.969667        0.954667                  0.976000   \n",
              "2   0.953667  0.949000   0.972000        0.950667                  0.974000   \n",
              "3   0.954667  0.953000   0.972667        0.961333                  0.978667   \n",
              "4   0.955333  0.944000   0.966667        0.955667                  0.974667   \n",
              "5   0.954667  0.952667   0.972667        0.960667                  0.976000   \n",
              "6   0.956000  0.956000   0.974333        0.962333                  0.978333   \n",
              "7   0.953333  0.950667   0.973333        0.957000                  0.977667   \n",
              "8   0.952000  0.951000   0.971333        0.956333                  0.974667   \n",
              "9   0.956000  0.950000   0.970000        0.959667                  0.974667   \n",
              "10  0.953000  0.952667   0.970667        0.957000                  0.973333   \n",
              "11  0.955333  0.958333   0.974000        0.962000                  0.979000   \n",
              "12  0.947333  0.949333   0.969667        0.950333                  0.974333   \n",
              "13  0.951667  0.948333   0.974000        0.957667                  0.975333   \n",
              "14  0.958667  0.955333   0.972667        0.962333                  0.974667   \n",
              "15  0.958333  0.952667   0.969667        0.960333                  0.976333   \n",
              "16  0.952333  0.946667   0.970000        0.957000                  0.977000   \n",
              "17  0.949667  0.949667   0.969667        0.951000                  0.973667   \n",
              "18  0.958333  0.947000   0.970333        0.955000                  0.976667   \n",
              "19  0.951333  0.944333   0.967667        0.952667                  0.972667   \n",
              "20  0.950333  0.947667   0.968667        0.952000                  0.970667   \n",
              "21  0.953667  0.952333   0.973667        0.955000                  0.976000   \n",
              "22  0.952667  0.946000   0.968667        0.952333                  0.974000   \n",
              "23  0.955667  0.944667   0.970667        0.951667                  0.976667   \n",
              "24  0.961333  0.950000   0.973667        0.960333                  0.981000   \n",
              "\n",
              "    comb ensemble temperature scaling  comb imax binning  \n",
              "0                            0.971333           0.970333  \n",
              "1                            0.976333           0.975000  \n",
              "2                            0.974000           0.974667  \n",
              "3                            0.978667           0.977667  \n",
              "4                            0.974667           0.974000  \n",
              "5                            0.976333           0.977000  \n",
              "6                            0.978333           0.978000  \n",
              "7                            0.977667           0.977333  \n",
              "8                            0.974667           0.974333  \n",
              "9                            0.973667           0.974000  \n",
              "10                           0.973000           0.973667  \n",
              "11                           0.979000           0.979000  \n",
              "12                           0.974667           0.974667  \n",
              "13                           0.975000           0.977000  \n",
              "14                           0.974333           0.974667  \n",
              "15                           0.976333           0.977000  \n",
              "16                           0.977333           0.977333  \n",
              "17                           0.973333           0.973000  \n",
              "18                           0.976000           0.977333  \n",
              "19                           0.972333           0.972667  \n",
              "20                           0.970333           0.971333  \n",
              "21                           0.976000           0.979333  \n",
              "22                           0.974333           0.974000  \n",
              "23                           0.977000           0.978333  \n",
              "24                           0.981333           0.981333  "
            ],
            "text/html": [
              "\n",
              "  <div id=\"df-fd8967ad-15aa-40ed-9b99-d9225d75427c\">\n",
              "    <div class=\"colab-df-container\">\n",
              "      <div>\n",
              "<style scoped>\n",
              "    .dataframe tbody tr th:only-of-type {\n",
              "        vertical-align: middle;\n",
              "    }\n",
              "\n",
              "    .dataframe tbody tr th {\n",
              "        vertical-align: top;\n",
              "    }\n",
              "\n",
              "    .dataframe thead th {\n",
              "        text-align: right;\n",
              "    }\n",
              "</style>\n",
              "<table border=\"1\" class=\"dataframe\">\n",
              "  <thead>\n",
              "    <tr style=\"text-align: right;\">\n",
              "      <th></th>\n",
              "      <th>human</th>\n",
              "      <th>model</th>\n",
              "      <th>comb none</th>\n",
              "      <th>comb confusion</th>\n",
              "      <th>comb temperature scaling</th>\n",
              "      <th>comb ensemble temperature scaling</th>\n",
              "      <th>comb imax binning</th>\n",
              "    </tr>\n",
              "  </thead>\n",
              "  <tbody>\n",
              "    <tr>\n",
              "      <th>0</th>\n",
              "      <td>0.950000</td>\n",
              "      <td>0.948667</td>\n",
              "      <td>0.968667</td>\n",
              "      <td>0.954667</td>\n",
              "      <td>0.971000</td>\n",
              "      <td>0.971333</td>\n",
              "      <td>0.970333</td>\n",
              "    </tr>\n",
              "    <tr>\n",
              "      <th>1</th>\n",
              "      <td>0.950333</td>\n",
              "      <td>0.950667</td>\n",
              "      <td>0.969667</td>\n",
              "      <td>0.954667</td>\n",
              "      <td>0.976000</td>\n",
              "      <td>0.976333</td>\n",
              "      <td>0.975000</td>\n",
              "    </tr>\n",
              "    <tr>\n",
              "      <th>2</th>\n",
              "      <td>0.953667</td>\n",
              "      <td>0.949000</td>\n",
              "      <td>0.972000</td>\n",
              "      <td>0.950667</td>\n",
              "      <td>0.974000</td>\n",
              "      <td>0.974000</td>\n",
              "      <td>0.974667</td>\n",
              "    </tr>\n",
              "    <tr>\n",
              "      <th>3</th>\n",
              "      <td>0.954667</td>\n",
              "      <td>0.953000</td>\n",
              "      <td>0.972667</td>\n",
              "      <td>0.961333</td>\n",
              "      <td>0.978667</td>\n",
              "      <td>0.978667</td>\n",
              "      <td>0.977667</td>\n",
              "    </tr>\n",
              "    <tr>\n",
              "      <th>4</th>\n",
              "      <td>0.955333</td>\n",
              "      <td>0.944000</td>\n",
              "      <td>0.966667</td>\n",
              "      <td>0.955667</td>\n",
              "      <td>0.974667</td>\n",
              "      <td>0.974667</td>\n",
              "      <td>0.974000</td>\n",
              "    </tr>\n",
              "    <tr>\n",
              "      <th>5</th>\n",
              "      <td>0.954667</td>\n",
              "      <td>0.952667</td>\n",
              "      <td>0.972667</td>\n",
              "      <td>0.960667</td>\n",
              "      <td>0.976000</td>\n",
              "      <td>0.976333</td>\n",
              "      <td>0.977000</td>\n",
              "    </tr>\n",
              "    <tr>\n",
              "      <th>6</th>\n",
              "      <td>0.956000</td>\n",
              "      <td>0.956000</td>\n",
              "      <td>0.974333</td>\n",
              "      <td>0.962333</td>\n",
              "      <td>0.978333</td>\n",
              "      <td>0.978333</td>\n",
              "      <td>0.978000</td>\n",
              "    </tr>\n",
              "    <tr>\n",
              "      <th>7</th>\n",
              "      <td>0.953333</td>\n",
              "      <td>0.950667</td>\n",
              "      <td>0.973333</td>\n",
              "      <td>0.957000</td>\n",
              "      <td>0.977667</td>\n",
              "      <td>0.977667</td>\n",
              "      <td>0.977333</td>\n",
              "    </tr>\n",
              "    <tr>\n",
              "      <th>8</th>\n",
              "      <td>0.952000</td>\n",
              "      <td>0.951000</td>\n",
              "      <td>0.971333</td>\n",
              "      <td>0.956333</td>\n",
              "      <td>0.974667</td>\n",
              "      <td>0.974667</td>\n",
              "      <td>0.974333</td>\n",
              "    </tr>\n",
              "    <tr>\n",
              "      <th>9</th>\n",
              "      <td>0.956000</td>\n",
              "      <td>0.950000</td>\n",
              "      <td>0.970000</td>\n",
              "      <td>0.959667</td>\n",
              "      <td>0.974667</td>\n",
              "      <td>0.973667</td>\n",
              "      <td>0.974000</td>\n",
              "    </tr>\n",
              "    <tr>\n",
              "      <th>10</th>\n",
              "      <td>0.953000</td>\n",
              "      <td>0.952667</td>\n",
              "      <td>0.970667</td>\n",
              "      <td>0.957000</td>\n",
              "      <td>0.973333</td>\n",
              "      <td>0.973000</td>\n",
              "      <td>0.973667</td>\n",
              "    </tr>\n",
              "    <tr>\n",
              "      <th>11</th>\n",
              "      <td>0.955333</td>\n",
              "      <td>0.958333</td>\n",
              "      <td>0.974000</td>\n",
              "      <td>0.962000</td>\n",
              "      <td>0.979000</td>\n",
              "      <td>0.979000</td>\n",
              "      <td>0.979000</td>\n",
              "    </tr>\n",
              "    <tr>\n",
              "      <th>12</th>\n",
              "      <td>0.947333</td>\n",
              "      <td>0.949333</td>\n",
              "      <td>0.969667</td>\n",
              "      <td>0.950333</td>\n",
              "      <td>0.974333</td>\n",
              "      <td>0.974667</td>\n",
              "      <td>0.974667</td>\n",
              "    </tr>\n",
              "    <tr>\n",
              "      <th>13</th>\n",
              "      <td>0.951667</td>\n",
              "      <td>0.948333</td>\n",
              "      <td>0.974000</td>\n",
              "      <td>0.957667</td>\n",
              "      <td>0.975333</td>\n",
              "      <td>0.975000</td>\n",
              "      <td>0.977000</td>\n",
              "    </tr>\n",
              "    <tr>\n",
              "      <th>14</th>\n",
              "      <td>0.958667</td>\n",
              "      <td>0.955333</td>\n",
              "      <td>0.972667</td>\n",
              "      <td>0.962333</td>\n",
              "      <td>0.974667</td>\n",
              "      <td>0.974333</td>\n",
              "      <td>0.974667</td>\n",
              "    </tr>\n",
              "    <tr>\n",
              "      <th>15</th>\n",
              "      <td>0.958333</td>\n",
              "      <td>0.952667</td>\n",
              "      <td>0.969667</td>\n",
              "      <td>0.960333</td>\n",
              "      <td>0.976333</td>\n",
              "      <td>0.976333</td>\n",
              "      <td>0.977000</td>\n",
              "    </tr>\n",
              "    <tr>\n",
              "      <th>16</th>\n",
              "      <td>0.952333</td>\n",
              "      <td>0.946667</td>\n",
              "      <td>0.970000</td>\n",
              "      <td>0.957000</td>\n",
              "      <td>0.977000</td>\n",
              "      <td>0.977333</td>\n",
              "      <td>0.977333</td>\n",
              "    </tr>\n",
              "    <tr>\n",
              "      <th>17</th>\n",
              "      <td>0.949667</td>\n",
              "      <td>0.949667</td>\n",
              "      <td>0.969667</td>\n",
              "      <td>0.951000</td>\n",
              "      <td>0.973667</td>\n",
              "      <td>0.973333</td>\n",
              "      <td>0.973000</td>\n",
              "    </tr>\n",
              "    <tr>\n",
              "      <th>18</th>\n",
              "      <td>0.958333</td>\n",
              "      <td>0.947000</td>\n",
              "      <td>0.970333</td>\n",
              "      <td>0.955000</td>\n",
              "      <td>0.976667</td>\n",
              "      <td>0.976000</td>\n",
              "      <td>0.977333</td>\n",
              "    </tr>\n",
              "    <tr>\n",
              "      <th>19</th>\n",
              "      <td>0.951333</td>\n",
              "      <td>0.944333</td>\n",
              "      <td>0.967667</td>\n",
              "      <td>0.952667</td>\n",
              "      <td>0.972667</td>\n",
              "      <td>0.972333</td>\n",
              "      <td>0.972667</td>\n",
              "    </tr>\n",
              "    <tr>\n",
              "      <th>20</th>\n",
              "      <td>0.950333</td>\n",
              "      <td>0.947667</td>\n",
              "      <td>0.968667</td>\n",
              "      <td>0.952000</td>\n",
              "      <td>0.970667</td>\n",
              "      <td>0.970333</td>\n",
              "      <td>0.971333</td>\n",
              "    </tr>\n",
              "    <tr>\n",
              "      <th>21</th>\n",
              "      <td>0.953667</td>\n",
              "      <td>0.952333</td>\n",
              "      <td>0.973667</td>\n",
              "      <td>0.955000</td>\n",
              "      <td>0.976000</td>\n",
              "      <td>0.976000</td>\n",
              "      <td>0.979333</td>\n",
              "    </tr>\n",
              "    <tr>\n",
              "      <th>22</th>\n",
              "      <td>0.952667</td>\n",
              "      <td>0.946000</td>\n",
              "      <td>0.968667</td>\n",
              "      <td>0.952333</td>\n",
              "      <td>0.974000</td>\n",
              "      <td>0.974333</td>\n",
              "      <td>0.974000</td>\n",
              "    </tr>\n",
              "    <tr>\n",
              "      <th>23</th>\n",
              "      <td>0.955667</td>\n",
              "      <td>0.944667</td>\n",
              "      <td>0.970667</td>\n",
              "      <td>0.951667</td>\n",
              "      <td>0.976667</td>\n",
              "      <td>0.977000</td>\n",
              "      <td>0.978333</td>\n",
              "    </tr>\n",
              "    <tr>\n",
              "      <th>24</th>\n",
              "      <td>0.961333</td>\n",
              "      <td>0.950000</td>\n",
              "      <td>0.973667</td>\n",
              "      <td>0.960333</td>\n",
              "      <td>0.981000</td>\n",
              "      <td>0.981333</td>\n",
              "      <td>0.981333</td>\n",
              "    </tr>\n",
              "  </tbody>\n",
              "</table>\n",
              "</div>\n",
              "      <button class=\"colab-df-convert\" onclick=\"convertToInteractive('df-fd8967ad-15aa-40ed-9b99-d9225d75427c')\"\n",
              "              title=\"Convert this dataframe to an interactive table.\"\n",
              "              style=\"display:none;\">\n",
              "        \n",
              "  <svg xmlns=\"http://www.w3.org/2000/svg\" height=\"24px\"viewBox=\"0 0 24 24\"\n",
              "       width=\"24px\">\n",
              "    <path d=\"M0 0h24v24H0V0z\" fill=\"none\"/>\n",
              "    <path d=\"M18.56 5.44l.94 2.06.94-2.06 2.06-.94-2.06-.94-.94-2.06-.94 2.06-2.06.94zm-11 1L8.5 8.5l.94-2.06 2.06-.94-2.06-.94L8.5 2.5l-.94 2.06-2.06.94zm10 10l.94 2.06.94-2.06 2.06-.94-2.06-.94-.94-2.06-.94 2.06-2.06.94z\"/><path d=\"M17.41 7.96l-1.37-1.37c-.4-.4-.92-.59-1.43-.59-.52 0-1.04.2-1.43.59L10.3 9.45l-7.72 7.72c-.78.78-.78 2.05 0 2.83L4 21.41c.39.39.9.59 1.41.59.51 0 1.02-.2 1.41-.59l7.78-7.78 2.81-2.81c.8-.78.8-2.07 0-2.86zM5.41 20L4 18.59l7.72-7.72 1.47 1.35L5.41 20z\"/>\n",
              "  </svg>\n",
              "      </button>\n",
              "      \n",
              "  <style>\n",
              "    .colab-df-container {\n",
              "      display:flex;\n",
              "      flex-wrap:wrap;\n",
              "      gap: 12px;\n",
              "    }\n",
              "\n",
              "    .colab-df-convert {\n",
              "      background-color: #E8F0FE;\n",
              "      border: none;\n",
              "      border-radius: 50%;\n",
              "      cursor: pointer;\n",
              "      display: none;\n",
              "      fill: #1967D2;\n",
              "      height: 32px;\n",
              "      padding: 0 0 0 0;\n",
              "      width: 32px;\n",
              "    }\n",
              "\n",
              "    .colab-df-convert:hover {\n",
              "      background-color: #E2EBFA;\n",
              "      box-shadow: 0px 1px 2px rgba(60, 64, 67, 0.3), 0px 1px 3px 1px rgba(60, 64, 67, 0.15);\n",
              "      fill: #174EA6;\n",
              "    }\n",
              "\n",
              "    [theme=dark] .colab-df-convert {\n",
              "      background-color: #3B4455;\n",
              "      fill: #D2E3FC;\n",
              "    }\n",
              "\n",
              "    [theme=dark] .colab-df-convert:hover {\n",
              "      background-color: #434B5C;\n",
              "      box-shadow: 0px 1px 3px 1px rgba(0, 0, 0, 0.15);\n",
              "      filter: drop-shadow(0px 1px 2px rgba(0, 0, 0, 0.3));\n",
              "      fill: #FFFFFF;\n",
              "    }\n",
              "  </style>\n",
              "\n",
              "      <script>\n",
              "        const buttonEl =\n",
              "          document.querySelector('#df-fd8967ad-15aa-40ed-9b99-d9225d75427c button.colab-df-convert');\n",
              "        buttonEl.style.display =\n",
              "          google.colab.kernel.accessAllowed ? 'block' : 'none';\n",
              "\n",
              "        async function convertToInteractive(key) {\n",
              "          const element = document.querySelector('#df-fd8967ad-15aa-40ed-9b99-d9225d75427c');\n",
              "          const dataTable =\n",
              "            await google.colab.kernel.invokeFunction('convertToInteractive',\n",
              "                                                     [key], {});\n",
              "          if (!dataTable) return;\n",
              "\n",
              "          const docLinkHtml = 'Like what you see? Visit the ' +\n",
              "            '<a target=\"_blank\" href=https://colab.research.google.com/notebooks/data_table.ipynb>data table notebook</a>'\n",
              "            + ' to learn more about interactive tables.';\n",
              "          element.innerHTML = '';\n",
              "          dataTable['output_type'] = 'display_data';\n",
              "          await google.colab.output.renderOutput(dataTable, element);\n",
              "          const docLink = document.createElement('div');\n",
              "          docLink.innerHTML = docLinkHtml;\n",
              "          element.appendChild(docLink);\n",
              "        }\n",
              "      </script>\n",
              "    </div>\n",
              "  </div>\n",
              "  "
            ]
          },
          "metadata": {},
          "execution_count": 13
        }
      ]
    },
    {
      "cell_type": "code",
      "source": [
        "%cd /content/gdrive/MyDrive/Colab Notebooks/conf_matrix_and_calibration-main/Output_check"
      ],
      "metadata": {
        "id": "GD4XMhXs9g-5",
        "colab": {
          "base_uri": "https://localhost:8080/"
        },
        "outputId": "0c14936a-beb2-4254-a80d-10b14815dee0"
      },
      "execution_count": null,
      "outputs": [
        {
          "output_type": "stream",
          "name": "stdout",
          "text": [
            "/content/gdrive/MyDrive/Colab Notebooks/conf_matrix_and_calibration-main/Output_check\n"
          ]
        }
      ]
    },
    {
      "cell_type": "markdown",
      "source": [
        "# For calibration_experiment file:"
      ],
      "metadata": {
        "id": "DEMcUDfChx66"
      }
    },
    {
      "cell_type": "code",
      "source": [
        "import pandas as pd\n",
        "densnet=pd.read_csv('/content/gdrive/MyDrive/Colab Notebooks/conf_matrix_and_calibration-main/Output_check/calibration_experimentdensenet-bc-L190-k40_accuracy.csv')\n",
        "preresnet=pd.read_csv('/content/gdrive/MyDrive/Colab Notebooks/conf_matrix_and_calibration-main/Output_check/calibration_experimentpreresnet-110_accuracy.csv')\n",
        "r_low_accuracy=pd.read_csv('/content/gdrive/MyDrive/Colab Notebooks/conf_matrix_and_calibration-main/Output_check/calibration_experimentr_low_acc_accuracy.csv')\n",
        "resnet=pd.read_csv('/content/gdrive/MyDrive/Colab Notebooks/conf_matrix_and_calibration-main/Output_check/calibration_experimentresnet-110_accuracy.csv')"
      ],
      "metadata": {
        "id": "2dsuBYhiyrhS"
      },
      "execution_count": null,
      "outputs": []
    },
    {
      "cell_type": "code",
      "source": [
        "densnet_error=((1-densnet.mean())*100).round(2)\n",
        "preresnet_error=((1-preresnet.mean())*100).round(2)\n",
        "r_low_accuracy_error=((1-r_low_accuracy.mean())*100).round(2)\n",
        "resnet_error=((1-resnet.mean())*100).round(2)"
      ],
      "metadata": {
        "id": "P-n9utetzUSM"
      },
      "execution_count": null,
      "outputs": []
    },
    {
      "cell_type": "code",
      "source": [
        "densnet_std=(densnet.std()*100).round(2)\n",
        "preresnet_std=((preresnet.std())*100).round(2)\n",
        "r_low_accuracy_std=((r_low_accuracy.std())*100).round(2)\n",
        "resnet_std=((resnet.std())*100).round(2)"
      ],
      "metadata": {
        "id": "qM6z2LlLz9h0"
      },
      "execution_count": null,
      "outputs": []
    },
    {
      "cell_type": "code",
      "source": [
        "!pip install texttable"
      ],
      "metadata": {
        "colab": {
          "base_uri": "https://localhost:8080/"
        },
        "id": "K5osotNG178a",
        "outputId": "6bd553af-7b56-4baa-be1b-e09dd40a4be0"
      },
      "execution_count": null,
      "outputs": [
        {
          "output_type": "stream",
          "name": "stdout",
          "text": [
            "Requirement already satisfied: texttable in /usr/local/lib/python3.7/dist-packages (1.6.4)\n"
          ]
        }
      ]
    },
    {
      "cell_type": "code",
      "source": [
        "d_ts=str(densnet_error['comb temperature scaling'])+ ' ' +u\"\\u00B1\" + ' '+ str(densnet_std['comb temperature scaling'])\n",
        "d_ets=str(densnet_error['comb ensemble temperature scaling'])+ ' ' +u\"\\u00B1\" + ' '+ str(densnet_std['comb ensemble temperature scaling'])\n",
        "d_imax=str(densnet_error['comb imax binning'])+ ' ' +u\"\\u00B1\" + ' '+ str(densnet_std['comb imax binning'])\n",
        "res_ts=str(resnet_error['comb temperature scaling'])+ ' ' +u\"\\u00B1\" + ' '+ str(resnet_std['comb temperature scaling'])\n",
        "res_ets=str(resnet_error['comb ensemble temperature scaling'])+ ' ' +u\"\\u00B1\" + ' '+ str(resnet_std['comb ensemble temperature scaling'])\n",
        "res_imax=str(resnet_error['comb imax binning'])+ ' ' +u\"\\u00B1\" + ' '+ str(resnet_std['comb imax binning'])\n",
        "r_low_ts=str(r_low_accuracy_error['comb temperature scaling'])+ ' ' +u\"\\u00B1\" + ' '+ str(r_low_accuracy_std['comb temperature scaling'])\n",
        "r_low_ets=str(r_low_accuracy_error['comb ensemble temperature scaling'])+ ' ' +u\"\\u00B1\" + ' '+ str(r_low_accuracy_std['comb ensemble temperature scaling'])\n",
        "r_low_imax=str(r_low_accuracy_error['comb imax binning'])+ ' ' +u\"\\u00B1\" + ' '+ str(r_low_accuracy_std['comb imax binning'])\n",
        "p_ts=str(preresnet_error['comb temperature scaling'])+ ' ' +u\"\\u00B1\" + ' '+ str(preresnet_std['comb temperature scaling'])\n",
        "p_ets=str(preresnet_error['comb ensemble temperature scaling'])+ ' ' +u\"\\u00B1\" + ' '+ str(preresnet_std['comb ensemble temperature scaling'])\n",
        "p_imax=str(preresnet_error['comb imax binning'])+ ' ' +u\"\\u00B1\" + ' '+ str(preresnet_std['comb imax binning'])\n",
        "d_m=str(densnet_error['model'])+ ' ' +u\"\\u00B1\" + ' '+ str(densnet_std['model'])\n",
        "p_m=str(preresnet_error['model'])+ ' ' +u\"\\u00B1\" + ' '+ str(preresnet_std['model'])\n",
        "res_m=str(resnet_error['model'])+ ' ' +u\"\\u00B1\" + ' '+ str(resnet_std['model'])\n",
        "r_low_m=str(r_low_accuracy_error['model'])+ ' ' +u\"\\u00B1\" + ' '+ str(r_low_accuracy_std['model'])\n",
        "#print(r_low_imax)"
      ],
      "metadata": {
        "id": "Wh24ICS121Ye"
      },
      "execution_count": null,
      "outputs": []
    },
    {
      "cell_type": "code",
      "source": [
        "from texttable import Texttable\n",
        "t = Texttable()\n",
        "t.add_rows([['Model Name','Model','TS','ETS','IMax'],['ResNet-110',r_low_m,r_low_ts,r_low_ets,r_low_imax],['ResNet-164',res_m,res_ts,res_ets,res_imax],['PreResNet-164',p_m,p_ts,p_ets,p_imax],['DenseNet-BC',d_m,d_ts,d_ets,d_imax]])\n",
        "print(t.draw())"
      ],
      "metadata": {
        "colab": {
          "base_uri": "https://localhost:8080/"
        },
        "id": "rHef9--31D9E",
        "outputId": "fd8d8aa0-6f05-42c7-f1af-c259b15fa6b6"
      },
      "execution_count": null,
      "outputs": [
        {
          "output_type": "stream",
          "name": "stdout",
          "text": [
            "+---------------+--------------+-------------+-------------+-------------+\n",
            "|  Model Name   |    Model     |     TS      |     ETS     |    IMax     |\n",
            "+===============+==============+=============+=============+=============+\n",
            "| ResNet-110    | 11.28 ± 0.44 | 3.74 ± 0.24 | 3.76 ± 0.25 | 3.8 ± 0.24  |\n",
            "+---------------+--------------+-------------+-------------+-------------+\n",
            "| ResNet-164    | 6.1 ± 0.38   | 2.85 ± 0.22 | 2.82 ± 0.23 | 2.85 ± 0.23 |\n",
            "+---------------+--------------+-------------+-------------+-------------+\n",
            "| PreResNet-164 | 5.0 ± 0.36   | 2.45 ± 0.24 | 2.46 ± 0.25 | 2.43 ± 0.26 |\n",
            "+---------------+--------------+-------------+-------------+-------------+\n",
            "| DenseNet-BC   | 3.25 ± 0.3   | 2.03 ± 0.17 | 2.17 ± 0.17 | 2.04 ± 0.18 |\n",
            "+---------------+--------------+-------------+-------------+-------------+\n"
          ]
        }
      ]
    },
    {
      "cell_type": "markdown",
      "source": [
        "# For calibration_combo_experiment file:"
      ],
      "metadata": {
        "id": "9dfVEl2Xhp34"
      }
    },
    {
      "cell_type": "code",
      "source": [
        "densnet=pd.read_csv('/content/gdrive/MyDrive/Colab Notebooks/conf_matrix_and_calibration-main/Output_check/cifar10hdensenet-bc-L190-k40_calibration.csv')\n",
        "preresnet=pd.read_csv('/content/gdrive/MyDrive/Colab Notebooks/conf_matrix_and_calibration-main/Output_check/cifar10hpreresnet-110_calibration.csv')\n",
        "r_low_accuracy=pd.read_csv('/content/gdrive/MyDrive/Colab Notebooks/conf_matrix_and_calibration-main/Output_check/cifar10hr_low_acc_calibration.csv')\n",
        "resnet=pd.read_csv('/content/gdrive/MyDrive/Colab Notebooks/conf_matrix_and_calibration-main/Output_check/cifar10hresnet-110_calibration.csv')"
      ],
      "metadata": {
        "id": "3IWzL7ImgH3k"
      },
      "execution_count": null,
      "outputs": []
    },
    {
      "cell_type": "code",
      "source": [
        "densnet_ece=densnet.loc[densnet['metric']=='ECE (M)']\n",
        "densnet_ece.append(densnet.loc[densnet['metric']=='ECE (W)'])\n",
        "densnet_cwece=densnet.loc[densnet['metric']=='cwECE (MNT)']\n",
        "densnet_cwece.append(densnet.loc[densnet['metric']=='cwECE (MT)'])\n",
        "densnet_cwece.append(densnet.loc[densnet['metric']=='cwECE (WNT)'])\n",
        "densnet_cwece.append(densnet.loc[densnet['metric']=='cwECE (WT)'])\n",
        "preresnet_ece=preresnet.loc[preresnet['metric']=='ECE (M)']\n",
        "preresnet_ece.append(preresnet.loc[preresnet['metric']=='ECE (W)'])\n",
        "preresnet_cwece=preresnet.loc[preresnet['metric']=='cwECE (MNT)']\n",
        "preresnet_cwece.append(preresnet.loc[preresnet['metric']=='cwECE (MT)'])\n",
        "preresnet_cwece.append(preresnet.loc[preresnet['metric']=='cwECE (WNT)'])\n",
        "preresnet_cwece.append(preresnet.loc[preresnet['metric']=='cwECE (WT)'])\n",
        "r_low_accuracy_ece=r_low_accuracy.loc[r_low_accuracy['metric']=='ECE (M)']\n",
        "r_low_accuracy_ece.append(r_low_accuracy.loc[r_low_accuracy['metric']=='ECE (W)'])\n",
        "r_low_accuracy_cwece=r_low_accuracy.loc[r_low_accuracy['metric']=='cwECE (MNT)']\n",
        "r_low_accuracy_cwece.append(r_low_accuracy.loc[r_low_accuracy['metric']=='cwECE (MT)'])\n",
        "r_low_accuracy_cwece.append(r_low_accuracy.loc[r_low_accuracy['metric']=='cwECE (WNT)'])\n",
        "r_low_accuracy_cwece.append(r_low_accuracy.loc[r_low_accuracy['metric']=='cwECE (WT)'])\n",
        "resnet_ece=resnet.loc[resnet['metric']=='ECE (M)']\n",
        "resnet_ece.append(resnet.loc[resnet['metric']=='ECE (W)'])\n",
        "resnet_cwece=resnet.loc[resnet['metric']=='cwECE (MNT)']\n",
        "resnet_cwece.append(resnet.loc[resnet['metric']=='cwECE (MT)'])\n",
        "resnet_cwece.append(resnet.loc[resnet['metric']=='cwECE (WNT)'])\n",
        "resnet_cwece.append(resnet.loc[resnet['metric']=='cwECE (WT)'])\n",
        "densnet_nll=densnet.loc[densnet['metric']=='NLL']\n",
        "preresnet_nll=preresnet.loc[densnet['metric']=='NLL']\n",
        "resnet_nll=resnet.loc[densnet['metric']=='NLL']\n",
        "r_low_accuracy_nll=r_low_accuracy.loc[densnet['metric']=='NLL']"
      ],
      "metadata": {
        "id": "WyEH3zIhy6WO"
      },
      "execution_count": null,
      "outputs": []
    },
    {
      "cell_type": "code",
      "source": [
        "densnet_ece=densnet_ece.drop(['calibration method', 'metric'], axis = 1)\n",
        "densnet_cwece=densnet_cwece.drop(['calibration method', 'metric'], axis = 1)\n",
        "densnet_nll=densnet_nll.drop(['calibration method', 'metric'], axis = 1)\n",
        "preresnet_ece=preresnet_ece.drop(['calibration method', 'metric'], axis = 1)\n",
        "preresnet_cwece=preresnet_cwece.drop(['calibration method', 'metric'], axis = 1)\n",
        "preresnet_nll=preresnet_nll.drop(['calibration method', 'metric'], axis = 1)\n",
        "r_low_accuracy_ece=r_low_accuracy_ece.drop(['calibration method', 'metric'], axis = 1)\n",
        "r_low_accuracy_cwece=r_low_accuracy_cwece.drop(['calibration method', 'metric'], axis = 1)\n",
        "r_low_accuracy_nll=r_low_accuracy_nll.drop(['calibration method', 'metric'], axis = 1)\n",
        "resnet_ece=resnet_ece.drop(['calibration method', 'metric'], axis = 1)\n",
        "resnet_cwece=resnet_cwece.drop(['calibration method', 'metric'], axis = 1)\n",
        "resnet_nll=resnet_nll.drop(['calibration method', 'metric'], axis = 1)"
      ],
      "metadata": {
        "id": "aPZZUB6cy_yI"
      },
      "execution_count": null,
      "outputs": []
    },
    {
      "cell_type": "code",
      "source": [
        ""
      ],
      "metadata": {
        "id": "KBAGyEnk_s-_"
      },
      "execution_count": null,
      "outputs": []
    },
    {
      "cell_type": "code",
      "source": [
        "densnet_ece_error=((densnet_ece.mean())*100).round(2)\n",
        "preresnet_ece_error=((preresnet_ece.mean())*100).round(2)\n",
        "r_low_accuracy_ece_error=((r_low_accuracy_ece.mean())*100).round(2)\n",
        "resnet_ece_error=((resnet_ece.mean())*100).round(2)\n",
        "densnet_cwece_error=((densnet_cwece.mean())*100).round(2)\n",
        "preresnet_cwece_error=((preresnet_cwece.mean())*100).round(2)\n",
        "r_low_accuracy_cwece_error=((r_low_accuracy_cwece.mean())*100).round(2)\n",
        "resnet_cwece_error=((resnet_cwece.mean())*100).round(2)\n",
        "densnet_nll_error=((densnet_nll.mean())).round(2)\n",
        "preresnet_nll_error=((preresnet_nll.mean())).round(2)\n",
        "r_low_accuracy_nll_error=((r_low_accuracy_nll.mean())).round(2)\n",
        "resnet_nll_error=((resnet_nll.mean())).round(2)"
      ],
      "metadata": {
        "id": "eMk-c2iB1SsU"
      },
      "execution_count": null,
      "outputs": []
    },
    {
      "cell_type": "code",
      "source": [
        "densnet_cwece_error"
      ],
      "metadata": {
        "colab": {
          "base_uri": "https://localhost:8080/"
        },
        "id": "Q8uhahuT_wqJ",
        "outputId": "753dd2e9-02ec-41f7-a97c-2a940dd5ce9e"
      },
      "execution_count": null,
      "outputs": [
        {
          "output_type": "execute_result",
          "data": {
            "text/plain": [
              "model              0.23\n",
              "comb               0.11\n",
              "comb (post cal)    0.10\n",
              "dtype: float64"
            ]
          },
          "metadata": {},
          "execution_count": 128
        }
      ]
    },
    {
      "cell_type": "code",
      "source": [
        "densnet_ece_std=((densnet_ece.std())*100).round(2)\n",
        "preresnet_ece_std=((preresnet_ece.std())*100).round(2)\n",
        "r_low_accuracy_ece_std=((r_low_accuracy_ece.std())*100).round(2)\n",
        "resnet_ece_std=((resnet_ece.std())*100).round(2)\n",
        "densnet_cwece_std=((densnet_cwece.std())*100).round(2)\n",
        "preresnet_cwece_std=((preresnet_cwece.std())*100).round(2)\n",
        "r_low_accuracy_cwece_std=((r_low_accuracy_cwece.std())*100).round(2)\n",
        "resnet_cwece_std=((resnet_cwece.std())*100).round(2)\n",
        "densnet_nll_std=((densnet_nll.std())).round(2)\n",
        "preresnet_nll_std=((preresnet_nll.std())).round(2)\n",
        "r_low_accuracy_nll_std=((r_low_accuracy_nll.std())).round(2)\n",
        "resnet_nll_std=((resnet_nll.std())).round(2)"
      ],
      "metadata": {
        "id": "CBinealY1bZv"
      },
      "execution_count": null,
      "outputs": []
    },
    {
      "cell_type": "code",
      "source": [
        "print(\"For Metric ECE:\")\n",
        "print(\"Model Name     \",\"     Model\",\"              Comb.\",\"          Recall. Comb.\")\n",
        "print(\"ResNet-110      \",resnet_ece_error['model'], '',u\"\\u00B1\" ,'',resnet_ece_std['model'],\"     \",resnet_ece_error['comb'], '',u\"\\u00B1\" ,'',resnet_ece_std['comb'],\"     \",resnet_ece_error['comb (post cal)'], '',u\"\\u00B1\" ,'',resnet_ece_std['comb (post cal)'])\n",
        "print(\"ResNet-164      \",r_low_accuracy_ece_error['model'], '',u\"\\u00B1\" ,'',r_low_accuracy_ece_std['model'],\"      \",r_low_accuracy_ece_error['comb'], '',u\"\\u00B1\" ,'',r_low_accuracy_ece_std['comb'],\"     \",r_low_accuracy_ece_error['comb (post cal)'], '',u\"\\u00B1\" ,'',r_low_accuracy_ece_std['comb (post cal)'])\n",
        "print(\"PreResNet-164   \",preresnet_ece_error['model'], '',u\"\\u00B1\" ,'',preresnet_ece_std['model'],\"     \",preresnet_ece_error['comb'], '',u\"\\u00B1\" ,'',preresnet_ece_std['comb'],\"     \",preresnet_ece_error['comb (post cal)'], '',u\"\\u00B1\" ,'',preresnet_ece_std['comb (post cal)'])\n",
        "print(\"DenseNet-BC     \",densnet_ece_error['model'], '',u\"\\u00B1\" ,'',densnet_ece_std['model'],\"     \",densnet_ece_error['comb'], '',u\"\\u00B1\" ,'',densnet_ece_std['comb'],\"     \",densnet_ece_error['comb (post cal)'], '',u\"\\u00B1\" ,'',densnet_ece_std['comb (post cal)'])"
      ],
      "metadata": {
        "colab": {
          "base_uri": "https://localhost:8080/"
        },
        "id": "mO_zE_LS3TxI",
        "outputId": "314f043c-7e63-4588-d16b-ea61c33e12a8"
      },
      "execution_count": null,
      "outputs": [
        {
          "output_type": "stream",
          "name": "stdout",
          "text": [
            "For Metric ECE:\n",
            "Model Name           Model               Comb.           Recall. Comb.\n",
            "ResNet-110       2.26  ±  0.59       1.45  ±  0.24       0.96  ±  0.26\n",
            "ResNet-164       3.76  ±  1.1        1.85  ±  0.31       1.02  ±  0.32\n",
            "PreResNet-164    2.52  ±  0.45       1.58  ±  0.29       1.23  ±  0.31\n",
            "DenseNet-BC      1.86  ±  0.34       1.34  ±  0.23       1.08  ±  0.25\n"
          ]
        }
      ]
    },
    {
      "cell_type": "code",
      "source": [
        "print(\"For Metric cwECE:\")\n",
        "print(\"Model Name     \",\"     Model\",\"              Comb.\",\"          Recall. Comb.\")\n",
        "print(\"ResNet-110      \",r_low_accuracy_cwece_error['model'], '',u\"\\u00B1\" ,'',r_low_accuracy_cwece_std['model'],\"     \",r_low_accuracy_cwece_error['comb'], '',u\"\\u00B1\" ,'',r_low_accuracy_cwece_std['comb'],\"     \",r_low_accuracy_cwece_error['comb (post cal)'], '',u\"\\u00B1\" ,'',r_low_accuracy_cwece_std['comb (post cal)'])\n",
        "print(\"ResNet-164      \",resnet_cwece_error['model'], '',u\"\\u00B1\" ,'',resnet_cwece_std['model'],\"     \",resnet_cwece_error['comb'], '',u\"\\u00B1\" ,'',resnet_cwece_std['comb'],\"     \",resnet_cwece_error['comb (post cal)'], '',u\"\\u00B1\" ,'',resnet_cwece_std['comb (post cal)'])\n",
        "print(\"PreResNet-164   \",preresnet_cwece_error['model'], '',u\"\\u00B1\" ,'',preresnet_cwece_std['model'],\"     \",preresnet_cwece_error['comb'], '',u\"\\u00B1\" ,'',preresnet_cwece_std['comb'],\"     \",preresnet_cwece_error['comb (post cal)'], '',u\"\\u00B1\" ,'',preresnet_cwece_std['comb (post cal)'])\n",
        "print(\"DenseNet-BC     \",densnet_cwece_error['model'], '',u\"\\u00B1\" ,'',densnet_cwece_std['model'],\"     \",densnet_cwece_error['comb'], '',u\"\\u00B1\" ,'',densnet_cwece_std['comb'],\"     \",densnet_cwece_error['comb (post cal)'], '',u\"\\u00B1\" ,'',densnet_cwece_std['comb (post cal)'])"
      ],
      "metadata": {
        "colab": {
          "base_uri": "https://localhost:8080/"
        },
        "id": "-aYClt-f3DxQ",
        "outputId": "e8c76e88-6021-49d0-eb30-4e7333627996"
      },
      "execution_count": null,
      "outputs": [
        {
          "output_type": "stream",
          "name": "stdout",
          "text": [
            "For Metric cwECE:\n",
            "Model Name           Model               Comb.           Recall. Comb.\n",
            "ResNet-110       0.67  ±  0.12       0.21  ±  0.05       0.2  ±  0.04\n",
            "ResNet-164       0.35  ±  0.06       0.15  ±  0.03       0.15  ±  0.03\n",
            "PreResNet-164    0.29  ±  0.03       0.13  ±  0.03       0.13  ±  0.03\n",
            "DenseNet-BC      0.23  ±  0.03       0.11  ±  0.02       0.1  ±  0.02\n"
          ]
        }
      ]
    },
    {
      "cell_type": "code",
      "source": [
        "print(\"For Metric NLL:\")\n",
        "print(\"Model Name     \",\"     Model\",\"              Comb.\",\"          Recall. Comb.\")\n",
        "print(\"ResNet-110      \",r_low_accuracy_nll_error['model'], '',u\"\\u00B1\" ,'',r_low_accuracy_nll_std['model'],\"     \",r_low_accuracy_nll_error['comb'], '',u\"\\u00B1\" ,'',r_low_accuracy_nll_std['comb'],\"     \",r_low_accuracy_nll_error['comb (post cal)'], '',u\"\\u00B1\" ,'',r_low_accuracy_nll_std['comb (post cal)'])\n",
        "print(\"ResNet-164      \",resnet_nll_error['model'], '',u\"\\u00B1\" ,'',resnet_nll_std['model'],\"     \",resnet_nll_error['comb'], '',u\"\\u00B1\" ,'',resnet_nll_std['comb'],\"      \",resnet_nll_error['comb (post cal)'], '',u\"\\u00B1\" ,'',resnet_nll_std['comb (post cal)'])\n",
        "print(\"PreResNet-164   \",preresnet_nll_error['model'], '',u\"\\u00B1\" ,'',preresnet_nll_std['model'],\"      \",preresnet_nll_error['comb'], '',u\"\\u00B1\" ,'',preresnet_nll_std['comb'],\"     \",preresnet_nll_error['comb (post cal)'], '',u\"\\u00B1\" ,'',preresnet_nll_std['comb (post cal)'])\n",
        "print(\"DenseNet-BC     \",densnet_nll_error['model'], '',u\"\\u00B1\" ,'',densnet_nll_std['model'],\"     \",densnet_nll_error['comb'], '',u\"\\u00B1\" ,'',densnet_nll_std['comb'],\"     \",densnet_nll_error['comb (post cal)'], '',u\"\\u00B1\" ,'',densnet_nll_std['comb (post cal)'])"
      ],
      "metadata": {
        "colab": {
          "base_uri": "https://localhost:8080/"
        },
        "id": "M4kVqsUZIAW4",
        "outputId": "36f8214d-b541-447e-fbf2-8cf54e9a3c2c"
      },
      "execution_count": null,
      "outputs": [
        {
          "output_type": "stream",
          "name": "stdout",
          "text": [
            "For Metric NLL:\n",
            "Model Name           Model               Comb.           Recall. Comb.\n",
            "ResNet-110       0.37  ±  0.03       0.15  ±  0.02       0.13  ±  0.01\n",
            "ResNet-164       0.22  ±  0.02       0.1  ±  0.01        0.09  ±  0.01\n",
            "PreResNet-164    0.2  ±  0.02        0.11  ±  0.02       0.09  ±  0.01\n",
            "DenseNet-BC      0.15  ±  0.02       0.09  ±  0.02       0.07  ±  0.01\n"
          ]
        }
      ]
    },
    {
      "cell_type": "markdown",
      "source": [
        "# Are you able to get the same results as reported by the authors?"
      ],
      "metadata": {
        "id": "wQsBS2lj9CWX"
      }
    },
    {
      "cell_type": "markdown",
      "source": [
        "From the above chart we can observe that the result produced by running the experiment again using the author's code on this system, is almost similar to the result given in the paper."
      ],
      "metadata": {
        "id": "AkXNWI41CBMs"
      }
    },
    {
      "cell_type": "markdown",
      "source": [
        "# Comment on the challenges faced."
      ],
      "metadata": {
        "id": "08Q3J6Wo9K7u"
      }
    },
    {
      "cell_type": "markdown",
      "source": [
        "1. In data_utils file there was two functions with similar name. We have to comment the second copy of the function to run that file.\n",
        "2. In the code it was given that the data file was in the data directory but it was not. so we have to shift data files from there.\n",
        "3. The output path for the files generated by the code was not matched. So we have also changed that output file path for proper execution of this code.\n",
        "4. 4 to 5 additional libraries were instlled in Colab."
      ],
      "metadata": {
        "id": "mrjXDBtjE5fq"
      }
    },
    {
      "cell_type": "markdown",
      "source": [
        "# List all the hyper-parameters values that authors didn’t mention and you need to make your own choice for the same."
      ],
      "metadata": {
        "id": "zz5ZVfEH9Qu-"
      }
    },
    {
      "cell_type": "markdown",
      "source": [
        "1. Output path: Which has been changed\n",
        "2. cifar10h run function: Was not called before\n",
        "3. seed: Need to be changed\n",
        "4. Calibration Parameters: Need to be assigned\n",
        "5. Confusion Matrix: Parameters for human"
      ],
      "metadata": {
        "id": "rt0yXOxKF7B2"
      }
    },
    {
      "cell_type": "markdown",
      "source": [
        "# New insights from the paper"
      ],
      "metadata": {
        "id": "Vz66t5M39Yte"
      }
    },
    {
      "cell_type": "markdown",
      "source": [
        "1. This paper has proven that the output of the human model which is a non-probablistic information can be combined effeciently with probablistic information of machine learning model.\n",
        "2. The authors had used Baysian approach to eleminate the problem of high variance due to quadratic size confusion matrix.\n",
        "3. For caibration parameter estimation, simpler version of MAP approach is effective.\n",
        "4. They had used unsupervised learning approach that is capable of learning both calibration parameters and confusion matrix parameters from a combination dataset.\n",
        "5. It is evident from the result that combination accuracy is\n",
        "dependent not only on the human and machine accuracies but on their confidence ratios as well.\n"
      ],
      "metadata": {
        "id": "I9oIj4DfPi70"
      }
    },
    {
      "cell_type": "markdown",
      "source": [
        "# Q.2. Model Multiple Humans: [35 points]"
      ],
      "metadata": {
        "id": "_7lJq8XcyHow"
      }
    },
    {
      "cell_type": "markdown",
      "source": [
        "# Mention your approach for modelling more than one human on the CIFAR-10 dataset."
      ],
      "metadata": {
        "id": "DgrLc7QK0Xth"
      }
    },
    {
      "cell_type": "markdown",
      "source": [
        "1. Here we have used decision of 3 humans.\n",
        "2. We have collected the output of each of these human decision.\n",
        "3. After for each and every object identification we have considered that if all the humans predictts the same label for an object then the object will be identified by that label as there is no confusion in making that decision.\n",
        "4. In case all of them give different predicted label then the object can be identified by randomly chosen label of those huans.\n",
        "5. Also in case of a situatiion where two of the humans predict same label where the other human predicts different label, here based on the majority voting rule we will idenfiy the obejct by majority predicted label."
      ],
      "metadata": {
        "id": "oWcVZc5X1Cdo"
      }
    },
    {
      "cell_type": "code",
      "source": [
        "%cd /content/gdrive/MyDrive/Colab Notebooks/conf_matrix_and_calibration-main/experiments"
      ],
      "metadata": {
        "colab": {
          "base_uri": "https://localhost:8080/"
        },
        "id": "i0aaG3vxIoGi",
        "outputId": "6c9e833e-6454-4525-8533-281637da3b89"
      },
      "execution_count": null,
      "outputs": [
        {
          "output_type": "stream",
          "name": "stdout",
          "text": [
            "/content/gdrive/MyDrive/Colab Notebooks/conf_matrix_and_calibration-main/experiments\n"
          ]
        }
      ]
    },
    {
      "cell_type": "code",
      "source": [
        "!python calibration_experiment2.py"
      ],
      "metadata": {
        "colab": {
          "base_uri": "https://localhost:8080/"
        },
        "id": "fyyV1KOqIyxO",
        "outputId": "a7a10309-2275-42c8-87e8-40ada0b6da18"
      },
      "execution_count": null,
      "outputs": [
        {
          "output_type": "stream",
          "name": "stdout",
          "text": [
            "Models:   0% 0/4 [00:00<?, ?it/s]\n",
            "Runs:   0% 0/25 [00:00<?, ?it/s]\u001b[A\n",
            "Runs:   4% 1/25 [00:03<01:28,  3.69s/it]\u001b[A\n",
            "Runs:   8% 2/25 [00:07<01:26,  3.75s/it]\u001b[A\n",
            "Runs:  12% 3/25 [00:11<01:23,  3.80s/it]\u001b[A\n",
            "Runs:  16% 4/25 [00:15<01:18,  3.75s/it]\u001b[A\n",
            "Runs:  20% 5/25 [00:18<01:14,  3.73s/it]\u001b[A\n",
            "Runs:  24% 6/25 [00:22<01:11,  3.74s/it]\u001b[A\n",
            "Runs:  28% 7/25 [00:26<01:07,  3.77s/it]\u001b[A\n",
            "Runs:  32% 8/25 [00:30<01:04,  3.79s/it]\u001b[A\n",
            "Runs:  36% 9/25 [00:33<01:00,  3.81s/it]\u001b[A\n",
            "Runs:  40% 10/25 [00:37<00:57,  3.83s/it]\u001b[A\n",
            "Runs:  44% 11/25 [00:41<00:53,  3.81s/it]\u001b[A\n",
            "Runs:  48% 12/25 [00:45<00:49,  3.78s/it]\u001b[A\n",
            "Runs:  52% 13/25 [00:49<00:45,  3.82s/it]\u001b[A\n",
            "Runs:  56% 14/25 [00:53<00:42,  3.82s/it]\u001b[A\n",
            "Runs:  60% 15/25 [00:56<00:38,  3.81s/it]\u001b[A\n",
            "Runs:  64% 16/25 [01:00<00:33,  3.77s/it]\u001b[A\n",
            "Runs:  68% 17/25 [01:04<00:30,  3.80s/it]\u001b[A\n",
            "Runs:  72% 18/25 [01:08<00:26,  3.81s/it]\u001b[A\n",
            "Runs:  76% 19/25 [01:11<00:22,  3.79s/it]\u001b[A\n",
            "Runs:  80% 20/25 [01:15<00:18,  3.78s/it]\u001b[A\n",
            "Runs:  84% 21/25 [01:19<00:15,  3.76s/it]\u001b[A\n",
            "Runs:  88% 22/25 [01:23<00:11,  3.77s/it]\u001b[A\n",
            "Runs:  92% 23/25 [01:27<00:07,  3.79s/it]\u001b[A\n",
            "Runs:  96% 24/25 [01:30<00:03,  3.77s/it]\u001b[A\n",
            "Runs: 100% 25/25 [01:34<00:00,  3.76s/it]\u001b[A\n",
            "Models:  25% 1/4 [01:35<04:45, 95.09s/it]\n",
            "Runs:   0% 0/25 [00:00<?, ?it/s]\u001b[A\n",
            "Runs:   4% 1/25 [00:03<01:28,  3.69s/it]\u001b[A\n",
            "Runs:   8% 2/25 [00:07<01:26,  3.75s/it]\u001b[A\n",
            "Runs:  12% 3/25 [00:11<01:21,  3.70s/it]\u001b[A\n",
            "Runs:  16% 4/25 [00:14<01:17,  3.67s/it]\u001b[A\n",
            "Runs:  20% 5/25 [00:18<01:12,  3.65s/it]\u001b[A\n",
            "Runs:  24% 6/25 [00:21<01:09,  3.65s/it]\u001b[A\n",
            "Runs:  28% 7/25 [00:25<01:05,  3.65s/it]\u001b[A\n",
            "Runs:  32% 8/25 [00:29<01:02,  3.68s/it]\u001b[A\n",
            "Runs:  36% 9/25 [00:33<00:58,  3.67s/it]\u001b[A\n",
            "Runs:  40% 10/25 [00:36<00:55,  3.67s/it]\u001b[A\n",
            "Runs:  44% 11/25 [00:40<00:51,  3.65s/it]\u001b[A\n",
            "Runs:  48% 12/25 [00:43<00:47,  3.64s/it]\u001b[A\n",
            "Runs:  52% 13/25 [00:47<00:44,  3.68s/it]\u001b[A\n",
            "Runs:  56% 14/25 [00:51<00:40,  3.66s/it]\u001b[A\n",
            "Runs:  60% 15/25 [00:54<00:36,  3.67s/it]\u001b[A\n",
            "Runs:  64% 16/25 [00:58<00:32,  3.66s/it]\u001b[A\n",
            "Runs:  68% 17/25 [01:02<00:29,  3.66s/it]\u001b[A\n",
            "Runs:  72% 18/25 [01:05<00:25,  3.66s/it]\u001b[A\n",
            "Runs:  76% 19/25 [01:09<00:21,  3.66s/it]\u001b[A\n",
            "Runs:  80% 20/25 [01:13<00:18,  3.69s/it]\u001b[A\n",
            "Runs:  84% 21/25 [01:17<00:14,  3.67s/it]\u001b[A\n",
            "Runs:  88% 22/25 [01:20<00:11,  3.68s/it]\u001b[A\n",
            "Runs:  92% 23/25 [01:24<00:07,  3.70s/it]\u001b[A\n",
            "Runs:  96% 24/25 [01:28<00:03,  3.68s/it]\u001b[A\n",
            "Runs: 100% 25/25 [01:31<00:00,  3.66s/it]\u001b[A\n",
            "Models:  50% 2/4 [03:07<03:06, 93.43s/it]\n",
            "Runs:   0% 0/25 [00:00<?, ?it/s]\u001b[A\n",
            "Runs:   4% 1/25 [00:03<01:26,  3.61s/it]\u001b[A\n",
            "Runs:   8% 2/25 [00:07<01:23,  3.65s/it]\u001b[A\n",
            "Runs:  12% 3/25 [00:10<01:20,  3.66s/it]\u001b[A\n",
            "Runs:  16% 4/25 [00:14<01:17,  3.71s/it]\u001b[A\n",
            "Runs:  20% 5/25 [00:18<01:14,  3.71s/it]\u001b[A\n",
            "Runs:  24% 6/25 [00:22<01:10,  3.69s/it]\u001b[A\n",
            "Runs:  28% 7/25 [00:25<01:06,  3.70s/it]\u001b[A\n",
            "Runs:  32% 8/25 [00:29<01:02,  3.69s/it]\u001b[A\n",
            "Runs:  36% 9/25 [00:33<00:58,  3.67s/it]\u001b[A\n",
            "Runs:  40% 10/25 [00:36<00:54,  3.66s/it]\u001b[A\n",
            "Runs:  44% 11/25 [00:40<00:51,  3.66s/it]\u001b[A\n",
            "Runs:  48% 12/25 [00:43<00:47,  3.63s/it]\u001b[A\n",
            "Runs:  52% 13/25 [00:47<00:43,  3.64s/it]\u001b[A\n",
            "Runs:  56% 14/25 [00:51<00:40,  3.64s/it]\u001b[A\n",
            "Runs:  60% 15/25 [00:54<00:36,  3.64s/it]\u001b[A\n",
            "Runs:  64% 16/25 [00:58<00:32,  3.64s/it]\u001b[A\n",
            "Runs:  68% 17/25 [01:02<00:29,  3.63s/it]\u001b[A\n",
            "Runs:  72% 18/25 [01:05<00:25,  3.64s/it]\u001b[A\n",
            "Runs:  76% 19/25 [01:09<00:21,  3.64s/it]\u001b[A\n",
            "Runs:  80% 20/25 [01:13<00:18,  3.65s/it]\u001b[A\n",
            "Runs:  84% 21/25 [01:16<00:14,  3.65s/it]\u001b[A\n",
            "Runs:  88% 22/25 [01:20<00:11,  3.70s/it]\u001b[A\n",
            "Runs:  92% 23/25 [01:24<00:07,  3.70s/it]\u001b[A\n",
            "Runs:  96% 24/25 [01:27<00:03,  3.69s/it]\u001b[A\n",
            "Runs: 100% 25/25 [01:31<00:00,  3.68s/it]\u001b[A\n",
            "Models:  75% 3/4 [04:39<01:32, 92.86s/it]\n",
            "Runs:   0% 0/25 [00:00<?, ?it/s]\u001b[A\n",
            "Runs:   4% 1/25 [00:03<01:28,  3.70s/it]\u001b[A\n",
            "Runs:   8% 2/25 [00:07<01:22,  3.61s/it]\u001b[A\n",
            "Runs:  12% 3/25 [00:10<01:18,  3.58s/it]\u001b[A\n",
            "Runs:  16% 4/25 [00:14<01:16,  3.63s/it]\u001b[A\n",
            "Runs:  20% 5/25 [00:18<01:13,  3.65s/it]\u001b[A\n",
            "Runs:  24% 6/25 [00:21<01:09,  3.67s/it]\u001b[A\n",
            "Runs:  28% 7/25 [00:25<01:06,  3.67s/it]\u001b[A\n",
            "Runs:  32% 8/25 [00:29<01:01,  3.64s/it]\u001b[A\n",
            "Runs:  36% 9/25 [00:32<00:57,  3.61s/it]\u001b[A\n",
            "Runs:  40% 10/25 [00:36<00:53,  3.57s/it]\u001b[A\n",
            "Runs:  44% 11/25 [00:39<00:50,  3.59s/it]\u001b[A\n",
            "Runs:  48% 12/25 [00:43<00:46,  3.61s/it]\u001b[A\n",
            "Runs:  52% 13/25 [00:47<00:43,  3.60s/it]\u001b[A\n",
            "Runs:  56% 14/25 [00:50<00:39,  3.58s/it]\u001b[A\n",
            "Runs:  60% 15/25 [00:54<00:36,  3.61s/it]\u001b[A\n",
            "Runs:  64% 16/25 [00:57<00:32,  3.64s/it]\u001b[A\n",
            "Runs:  68% 17/25 [01:01<00:29,  3.65s/it]\u001b[A\n",
            "Runs:  72% 18/25 [01:05<00:25,  3.62s/it]\u001b[A\n",
            "Runs:  76% 19/25 [01:08<00:21,  3.63s/it]\u001b[A\n",
            "Runs:  80% 20/25 [01:12<00:18,  3.61s/it]\u001b[A\n",
            "Runs:  84% 21/25 [01:16<00:14,  3.63s/it]\u001b[A\n",
            "Runs:  88% 22/25 [01:19<00:10,  3.61s/it]\u001b[A\n",
            "Runs:  92% 23/25 [01:23<00:07,  3.63s/it]\u001b[A\n",
            "Runs:  96% 24/25 [01:26<00:03,  3.60s/it]\u001b[A\n",
            "Runs: 100% 25/25 [01:30<00:00,  3.61s/it]\u001b[A\n",
            "Models: 100% 4/4 [06:10<00:00, 92.63s/it]\n"
          ]
        }
      ]
    },
    {
      "cell_type": "markdown",
      "source": [
        "# Now, regenerate all the results generated in the previous section using the multiple human labels."
      ],
      "metadata": {
        "id": "cw_PIiY10auD"
      }
    },
    {
      "cell_type": "code",
      "source": [
        "%cd /content/gdrive/MyDrive/Colab Notebooks/conf_matrix_and_calibration-main/experiments/Multiple_human"
      ],
      "metadata": {
        "colab": {
          "base_uri": "https://localhost:8080/"
        },
        "id": "z3Pqrq0HPHst",
        "outputId": "7c25def8-0ef7-427f-a79b-8c49c30be4ae"
      },
      "execution_count": null,
      "outputs": [
        {
          "output_type": "stream",
          "name": "stdout",
          "text": [
            "/content/gdrive/MyDrive/Colab Notebooks/conf_matrix_and_calibration-main/experiments/Multiple_human\n"
          ]
        }
      ]
    },
    {
      "cell_type": "code",
      "source": [
        "densnet=pd.read_csv('/content/gdrive/MyDrive/Colab Notebooks/conf_matrix_and_calibration-main/experiments/Multiple_human/Multiple_humandensenet-bc-L190-k40_accuracy.csv')\n",
        "preresnet=pd.read_csv('/content/gdrive/MyDrive/Colab Notebooks/conf_matrix_and_calibration-main/experiments/Multiple_human/Multiple_humanpreresnet-110_accuracy.csv')\n",
        "r_low_accuracy=pd.read_csv('/content/gdrive/MyDrive/Colab Notebooks/conf_matrix_and_calibration-main/experiments/Multiple_human/Multiple_humanr_low_acc_accuracy.csv')\n",
        "resnet=pd.read_csv('/content/gdrive/MyDrive/Colab Notebooks/conf_matrix_and_calibration-main/experiments/Multiple_human/Multiple_humanresnet-110_accuracy.csv')"
      ],
      "metadata": {
        "id": "5WR4wBlrPQuJ"
      },
      "execution_count": null,
      "outputs": []
    },
    {
      "cell_type": "code",
      "source": [
        "densnet_error=((1-densnet.mean())*100).round(2)\n",
        "preresnet_error=((1-preresnet.mean())*100).round(2)\n",
        "r_low_accuracy_error=((1-r_low_accuracy.mean())*100).round(2)\n",
        "resnet_error=((1-resnet.mean())*100).round(2)\n",
        "densnet_std=(densnet.std()*100).round(2)\n",
        "preresnet_std=((preresnet.std())*100).round(2)\n",
        "r_low_accuracy_std=((r_low_accuracy.std())*100).round(2)\n",
        "resnet_std=((resnet.std())*100).round(2)"
      ],
      "metadata": {
        "id": "wnNUPxJJPa6A"
      },
      "execution_count": null,
      "outputs": []
    },
    {
      "cell_type": "code",
      "source": [
        "d_ts=str(densnet_error['comb temperature scaling'])+ ' ' +u\"\\u00B1\" + ' '+ str(densnet_std['comb temperature scaling'])\n",
        "d_ets=str(densnet_error['comb ensemble temperature scaling'])+ ' ' +u\"\\u00B1\" + ' '+ str(densnet_std['comb ensemble temperature scaling'])\n",
        "d_imax=str(densnet_error['comb imax binning'])+ ' ' +u\"\\u00B1\" + ' '+ str(densnet_std['comb imax binning'])\n",
        "res_ts=str(resnet_error['comb temperature scaling'])+ ' ' +u\"\\u00B1\" + ' '+ str(resnet_std['comb temperature scaling'])\n",
        "res_ets=str(resnet_error['comb ensemble temperature scaling'])+ ' ' +u\"\\u00B1\" + ' '+ str(resnet_std['comb ensemble temperature scaling'])\n",
        "res_imax=str(resnet_error['comb imax binning'])+ ' ' +u\"\\u00B1\" + ' '+ str(resnet_std['comb imax binning'])\n",
        "r_low_ts=str(r_low_accuracy_error['comb temperature scaling'])+ ' ' +u\"\\u00B1\" + ' '+ str(r_low_accuracy_std['comb temperature scaling'])\n",
        "r_low_ets=str(r_low_accuracy_error['comb ensemble temperature scaling'])+ ' ' +u\"\\u00B1\" + ' '+ str(r_low_accuracy_std['comb ensemble temperature scaling'])\n",
        "r_low_imax=str(r_low_accuracy_error['comb imax binning'])+ ' ' +u\"\\u00B1\" + ' '+ str(r_low_accuracy_std['comb imax binning'])\n",
        "p_ts=str(preresnet_error['comb temperature scaling'])+ ' ' +u\"\\u00B1\" + ' '+ str(preresnet_std['comb temperature scaling'])\n",
        "p_ets=str(preresnet_error['comb ensemble temperature scaling'])+ ' ' +u\"\\u00B1\" + ' '+ str(preresnet_std['comb ensemble temperature scaling'])\n",
        "p_imax=str(preresnet_error['comb imax binning'])+ ' ' +u\"\\u00B1\" + ' '+ str(preresnet_std['comb imax binning'])\n",
        "d_m=str(densnet_error['model'])+ ' ' +u\"\\u00B1\" + ' '+ str(densnet_std['model'])\n",
        "p_m=str(preresnet_error['model'])+ ' ' +u\"\\u00B1\" + ' '+ str(preresnet_std['model'])\n",
        "res_m=str(resnet_error['model'])+ ' ' +u\"\\u00B1\" + ' '+ str(resnet_std['model'])\n",
        "r_low_m=str(r_low_accuracy_error['model'])+ ' ' +u\"\\u00B1\" + ' '+ str(r_low_accuracy_std['model'])\n",
        "print(r_low_imax)"
      ],
      "metadata": {
        "colab": {
          "base_uri": "https://localhost:8080/"
        },
        "id": "4FstnZanPuC8",
        "outputId": "542f264b-f8ab-48d7-e806-fe61c6b1f74f"
      },
      "execution_count": null,
      "outputs": [
        {
          "output_type": "stream",
          "name": "stdout",
          "text": [
            "2.83 ± 0.26\n"
          ]
        }
      ]
    },
    {
      "cell_type": "code",
      "source": [
        "from texttable import Texttable\n",
        "t = Texttable()\n",
        "t.add_rows([['Model Name','Model','TS','ETS','IMax'],['ResNet-110',r_low_m,r_low_ts,r_low_ets,r_low_imax],['ResNet-164',res_m,res_ts,res_ets,res_imax],['PreResNet-164',p_m,p_ts,p_ets,p_imax],['DenseNet-BC',d_m,d_ts,d_ets,d_imax]])\n",
        "print(t.draw())"
      ],
      "metadata": {
        "colab": {
          "base_uri": "https://localhost:8080/"
        },
        "id": "JbicCHiiP-rx",
        "outputId": "c69afab0-593a-4dce-f358-f76fdb2611e2"
      },
      "execution_count": null,
      "outputs": [
        {
          "output_type": "stream",
          "name": "stdout",
          "text": [
            "+---------------+--------------+-------------+-------------+-------------+\n",
            "|  Model Name   |    Model     |     TS      |     ETS     |    IMax     |\n",
            "+===============+==============+=============+=============+=============+\n",
            "| ResNet-110    | 11.28 ± 0.44 | 2.75 ± 0.26 | 2.73 ± 0.27 | 2.83 ± 0.26 |\n",
            "+---------------+--------------+-------------+-------------+-------------+\n",
            "| ResNet-164    | 6.1 ± 0.38   | 2.09 ± 0.24 | 2.09 ± 0.25 | 2.07 ± 0.24 |\n",
            "+---------------+--------------+-------------+-------------+-------------+\n",
            "| PreResNet-164 | 5.0 ± 0.36   | 1.83 ± 0.22 | 1.82 ± 0.21 | 1.86 ± 0.23 |\n",
            "+---------------+--------------+-------------+-------------+-------------+\n",
            "| DenseNet-BC   | 3.25 ± 0.3   | 1.86 ± 0.19 | 1.99 ± 0.22 | 1.81 ± 0.21 |\n",
            "+---------------+--------------+-------------+-------------+-------------+\n"
          ]
        }
      ]
    },
    {
      "cell_type": "markdown",
      "source": [
        "# Comment on your observations. How does the error rates perform with respect to different error rates of human models?"
      ],
      "metadata": {
        "id": "GrOh0y3P0kkN"
      }
    },
    {
      "cell_type": "markdown",
      "source": [
        "Here from the above table we can see that the error rates for each model have been reduced by significant margin using multiple human approach. As because decision of multiple human gives a more accurate decision towards identifying an object in a picture of cifar10h dataset."
      ],
      "metadata": {
        "id": "cAXRiNWGz0IL"
      }
    },
    {
      "cell_type": "markdown",
      "source": [
        "# Also, mention the use-cases or application with such an approach where there are more than one human decision makers in a human-AI team."
      ],
      "metadata": {
        "id": "pwDM0IDR1Nrf"
      }
    },
    {
      "cell_type": "markdown",
      "source": [
        "1. For translating one language into several other languages.\n",
        "2. For creating a blue print or design of a product where desicion or opinion of different human matters.\n",
        "3. For selecting course in a college foar a student\n",
        "4. For customer feedback in different shooping platforms.\n",
        "5. Can be used as decision maker for chatbot which makes it more realistic.\n",
        "6. For health care system where in a critical situation more than one human's decision is required.\n"
      ],
      "metadata": {
        "id": "3d6JFxg_ppJ7"
      }
    },
    {
      "cell_type": "markdown",
      "source": [
        "# [Bonus Marks:] Provide a better mathematical model to incorporate multiple humans based on the theory proposed in the paper. [Extra 20 points]"
      ],
      "metadata": {
        "id": "ZtwR0EL31YvC"
      }
    },
    {
      "cell_type": "markdown",
      "source": [
        "From the research paper the approach of the author what we have seen that how to incorporate decision of multiple human. \n",
        "1. In same drection if we multiply each human decision with some weight parameter (let's say imporantce score) and adding them as a linear combination and the output of the linear function will be checked against threshold value of each class label and identify the object as that class label for which the the output value satisfies with label threshold.\n",
        "\n",
        "2.  Another approach can be if each and every human gives their prediction in a probablity distribution manner and the model aggregates the multiple distribbution into a single distribution which can be used for decision making for identifying an object label."
      ],
      "metadata": {
        "id": "n2GwVo9a5sqd"
      }
    },
    {
      "cell_type": "markdown",
      "source": [
        "#Q.3. Neural Network for Calibrated Probabilities: [35 points]"
      ],
      "metadata": {
        "id": "7szsUK33apFx"
      }
    },
    {
      "cell_type": "code",
      "source": [
        "%cd /content/gdrive/MyDrive/Colab Notebooks/conf_matrix_and_calibration-main"
      ],
      "metadata": {
        "colab": {
          "base_uri": "https://localhost:8080/"
        },
        "id": "8inZyANtDi7E",
        "outputId": "104e5fc5-940d-4d73-974f-45fb119f3ced"
      },
      "execution_count": null,
      "outputs": [
        {
          "output_type": "stream",
          "name": "stdout",
          "text": [
            "/content/gdrive/MyDrive/Colab Notebooks/conf_matrix_and_calibration-main\n"
          ]
        }
      ]
    },
    {
      "cell_type": "code",
      "source": [
        "from combination_methods import *\n",
        "from metrics import *\n",
        "from sklearn.model_selection import train_test_split\n",
        "from metrics import *\n",
        "import csv\n",
        "from keras.models import Sequential\n",
        "from keras.layers import Dense\n",
        "import numpy as np\n",
        "from tensorflow.keras.utils import to_categorical"
      ],
      "metadata": {
        "id": "FrtEfewlVuZz"
      },
      "execution_count": null,
      "outputs": []
    },
    {
      "cell_type": "code",
      "source": [
        "%cd /content/gdrive/MyDrive/Colab Notebooks/conf_matrix_and_calibration-main"
      ],
      "metadata": {
        "colab": {
          "base_uri": "https://localhost:8080/"
        },
        "id": "aza1rPN9U7a_",
        "outputId": "a71a85b9-4e1c-4bc4-f4a5-c84bddcbfe14"
      },
      "execution_count": null,
      "outputs": [
        {
          "output_type": "stream",
          "name": "stdout",
          "text": [
            "/content/gdrive/MyDrive/Colab Notebooks/conf_matrix_and_calibration-main\n"
          ]
        }
      ]
    },
    {
      "cell_type": "code",
      "source": [
        "import pandas as pd\n",
        "from data_utils import *\n",
        "from utils import *"
      ],
      "metadata": {
        "id": "Z00fEC8iScwH"
      },
      "execution_count": null,
      "outputs": []
    },
    {
      "cell_type": "code",
      "source": [
        "def neural_net(X, y):\n",
        "  neural = Sequential()\n",
        "  neural.add(Dense(64, input_dim=X.shape[1], activation='relu'))\n",
        "  neural.add(Dense(32, activation='relu'))\n",
        "  neural.add(Dense(10, activation='softmax'))\n",
        "  neural.compile(loss='categorical_crossentropy', optimizer='adam', metrics=['accuracy'])\n",
        "  neural.fit(X, y, epochs=10, batch_size=1024)\n",
        "  return neural\n",
        "\n",
        "calibration_metrics = {'ECE (W)': lambda probs, y: get_ECE(probs, y, mode='width'),\n",
        "                          'ECE (M)': lambda probs, y: get_ECE(probs, y, mode='mass'),\n",
        "                          'cwECE (WT)': lambda probs, y: get_cw_ECE(probs, y, mode='width'),\n",
        "                          'cwECE (MT)': lambda probs, y: get_cw_ECE(probs, y, mode='mass'),\n",
        "                          'cwECE (WNT)': lambda probs, y: get_cw_ECE(probs, y, mode='width', threshold_mode=None),\n",
        "                          'cwECE (MNT)': lambda probs, y: get_cw_ECE(probs, y, mode='mass', threshold_mode=None),\n",
        "                          'NLL': get_NLL}\n",
        "calibration_methods = ['none', 'confusion', 'temperature scaling', 'ensemble temperature scaling', 'imax binning']"
      ],
      "metadata": {
        "id": "6swo-sBDWfk7"
      },
      "execution_count": null,
      "outputs": []
    },
    {
      "cell_type": "code",
      "source": [
        "human_counts, model_probs, y_true = load_CIFAR10H('r_low_acc')\n",
        "y_h = simulate_single_human(human_counts, seed=0)"
      ],
      "metadata": {
        "id": "N6N4Xul3VGV_"
      },
      "execution_count": null,
      "outputs": []
    },
    {
      "cell_type": "code",
      "source": [
        "y = to_categorical(y_true)"
      ],
      "metadata": {
        "id": "W_Dbnf1pVKtc"
      },
      "execution_count": null,
      "outputs": []
    },
    {
      "cell_type": "code",
      "source": [
        "def _run_experiment(y_h=None, model_probs=None, y_true=None, **kwargs):\n",
        "    seed = kwargs.pop('seed', 0)\n",
        "    n_runs = kwargs.pop('n_runs', 25)\n",
        "    test_size = kwargs.pop('test_size', 0.3)\n",
        "    calibration_methods = kwargs.pop('calibration_methods', ['none'])\n",
        "    calibration_metrics = kwargs.pop('calibration_metrics', {'ECE': get_ECE})\n",
        "    output_file_acc = kwargs.pop('output_file_acc', './acc.csv')\n",
        "    output_file_calibration = kwargs.pop('output_file_calibration', './cal.csv')\n",
        "\n",
        "    acc_data = []\n",
        "    cal_data = []\n",
        "    for i in tqdm(range(n_runs), leave=False, desc='Runs'):\n",
        "        # Train/test split\n",
        "        y_h_tr, y_h_te, model_probs_tr, model_probs_te, y_true_tr, y_true_te = train_test_split(\n",
        "            y_h, model_probs, y_true, test_size=test_size, random_state=i * seed)\n",
        "\n",
        "        acc_h = get_acc(y_h_te, y_true_te)\n",
        "        acc_m = get_acc(np.argmax(model_probs_te, axis=1), y_true_te)\n",
        "\n",
        "        _acc_data = [acc_h, acc_m]\n",
        "        _cal_data = []\n",
        "        for calibration_method in calibration_methods:\n",
        "            if calibration_method == 'confusion':\n",
        "                combiner = DoubleConfusionCombiner()\n",
        "                combiner.fit(model_probs_tr, y_h_tr, y_true_tr)\n",
        "            else:\n",
        "                combiner = OracleCombiner(calibration_method=calibration_method)\n",
        "                combiner.fit(model_probs_tr, y_h_tr, y_true_tr)\n",
        "\n",
        "            y_comb_te = combiner.combine(model_probs_te, y_h_te)\n",
        "            acc_comb = get_acc(y_comb_te, y_true_te)\n",
        "            _acc_data.append(acc_comb)\n",
        "\n",
        "            model_probs_calibrated_te = combiner.calibrate(model_probs_te)\n",
        "            y_comb_prob_te = combiner.combine_proba(model_probs_te, y_h_te)\n",
        "            for metric, fxn in calibration_metrics.items():\n",
        "                cal_m = fxn(model_probs_calibrated_te, y_true_te)\n",
        "                cal_comb = fxn(y_comb_prob_te, y_true_te)\n",
        "                _cal_data.append([calibration_method, metric, cal_m, cal_comb])\n",
        "\n",
        "        acc_data += [_acc_data]\n",
        "        cal_data += _cal_data\n",
        "\n",
        "    # Save data to CSV\n",
        "    header_acc = ['human', 'model'] + [f'comb {cal_m}' for cal_m in calibration_methods]\n",
        "    with open(output_file_acc, 'w', newline='') as f:\n",
        "        writer = csv.writer(f)\n",
        "        writer.writerow(header_acc)\n",
        "        writer.writerows(acc_data)\n",
        "    header_cal = ['calibration method', 'metric', 'model', 'comb']\n",
        "    with open(output_file_calibration, 'w', newline='') as f:\n",
        "        writer = csv.writer(f)\n",
        "        writer.writerow(header_cal)\n",
        "        writer.writerows(cal_data)\n"
      ],
      "metadata": {
        "id": "sOP7-STxXiq2"
      },
      "execution_count": null,
      "outputs": []
    },
    {
      "cell_type": "code",
      "source": [
        "from tqdm import tqdm\n",
        "out_fpath = 'neural_team'\n",
        "experiment_args = {'n_runs': 25,\n",
        "            'test_size': 0.3,\n",
        "            'calibration_methods': calibration_methods,\n",
        "            'calibration_metrics': calibration_metrics,\n",
        "            'seed': 0\n",
        "            }\n",
        "model_names = ['r_low_acc', 'resnet-110', 'preresnet-110', 'densenet-bc-L190-k40']\n",
        "for model_name in tqdm(model_names, desc='Models', leave=True):\n",
        "    # Specify output files\n",
        "    output_file_acc = out_fpath + f'{model_name}_accuracy.csv'\n",
        "    output_file_calibration = out_fpath + f'{model_name}_calibration.csv'\n",
        "    assert not os.path.exists(output_file_acc), 'Output filepath already exists'\n",
        "    assert not os.path.exists(output_file_calibration), 'Output filepath already exists'\n",
        "    experiment_args['output_file_acc'] = output_file_acc\n",
        "    experiment_args['output_file_calibration'] = output_file_calibration\n",
        "\n",
        "    # Load data\n",
        "    human_counts, model_probs, y_true = load_CIFAR10H(model_name)\n",
        "\n",
        "    X = np.hstack([model_probs, human_counts])\n",
        "    y = to_categorical(y_true)\n",
        "    y_h = simulate_single_human(human_counts, seed=0)\n",
        "    nn_model = neural_net(X, y)\n",
        "    nn_probs = nn_model.predict(X)\n",
        "    _run_experiment(y_h=y_h, model_probs=nn_probs, y_true=y_true, **experiment_args)"
      ],
      "metadata": {
        "colab": {
          "base_uri": "https://localhost:8080/"
        },
        "id": "yirqo61fXqSJ",
        "outputId": "09d01dbc-1505-41e4-8c24-c1e281a075d5"
      },
      "execution_count": null,
      "outputs": [
        {
          "output_type": "stream",
          "name": "stderr",
          "text": [
            "\rModels:   0%|          | 0/4 [00:00<?, ?it/s]"
          ]
        },
        {
          "output_type": "stream",
          "name": "stdout",
          "text": [
            "Epoch 1/10\n",
            "10/10 [==============================] - 1s 4ms/step - loss: 3.4588 - accuracy: 0.2586\n",
            "Epoch 2/10\n",
            "10/10 [==============================] - 0s 4ms/step - loss: 0.4678 - accuracy: 0.8936\n",
            "Epoch 3/10\n",
            "10/10 [==============================] - 0s 6ms/step - loss: 0.0952 - accuracy: 0.9860\n",
            "Epoch 4/10\n",
            "10/10 [==============================] - 0s 4ms/step - loss: 0.0628 - accuracy: 0.9895\n",
            "Epoch 5/10\n",
            "10/10 [==============================] - 0s 5ms/step - loss: 0.0521 - accuracy: 0.9914\n",
            "Epoch 6/10\n",
            "10/10 [==============================] - 0s 4ms/step - loss: 0.0461 - accuracy: 0.9922\n",
            "Epoch 7/10\n",
            "10/10 [==============================] - 0s 4ms/step - loss: 0.0420 - accuracy: 0.9928\n",
            "Epoch 8/10\n",
            "10/10 [==============================] - 0s 4ms/step - loss: 0.0391 - accuracy: 0.9933\n",
            "Epoch 9/10\n",
            "10/10 [==============================] - 0s 4ms/step - loss: 0.0369 - accuracy: 0.9936\n",
            "Epoch 10/10\n",
            "10/10 [==============================] - 0s 4ms/step - loss: 0.0350 - accuracy: 0.9941\n"
          ]
        },
        {
          "output_type": "stream",
          "name": "stderr",
          "text": [
            "\n",
            "Runs:   0%|          | 0/25 [00:00<?, ?it/s]\u001b[A\n",
            "Runs:   4%|▍         | 1/25 [00:03<01:31,  3.83s/it]\u001b[A\n",
            "Runs:   8%|▊         | 2/25 [00:07<01:30,  3.92s/it]\u001b[A\n",
            "Runs:  12%|█▏        | 3/25 [00:11<01:25,  3.88s/it]\u001b[A\n",
            "Runs:  16%|█▌        | 4/25 [00:15<01:21,  3.89s/it]\u001b[A\n",
            "Runs:  20%|██        | 5/25 [00:19<01:18,  3.93s/it]\u001b[A\n",
            "Runs:  24%|██▍       | 6/25 [00:23<01:14,  3.93s/it]\u001b[A\n",
            "Runs:  28%|██▊       | 7/25 [00:27<01:10,  3.94s/it]\u001b[A\n",
            "Runs:  32%|███▏      | 8/25 [00:31<01:06,  3.89s/it]\u001b[A\n",
            "Runs:  36%|███▌      | 9/25 [00:35<01:02,  3.90s/it]\u001b[A\n",
            "Runs:  40%|████      | 10/25 [00:39<00:58,  3.92s/it]\u001b[A\n",
            "Runs:  44%|████▍     | 11/25 [00:43<00:54,  3.93s/it]\u001b[A\n",
            "Runs:  48%|████▊     | 12/25 [00:46<00:50,  3.89s/it]\u001b[A\n",
            "Runs:  52%|█████▏    | 13/25 [00:52<00:51,  4.30s/it]\u001b[A\n",
            "Runs:  56%|█████▌    | 14/25 [00:55<00:45,  4.18s/it]\u001b[A\n",
            "Runs:  60%|██████    | 15/25 [01:00<00:41,  4.16s/it]\u001b[A\n",
            "Runs:  64%|██████▍   | 16/25 [01:03<00:36,  4.04s/it]\u001b[A\n",
            "Runs:  68%|██████▊   | 17/25 [01:07<00:31,  3.98s/it]\u001b[A\n",
            "Runs:  72%|███████▏  | 18/25 [01:11<00:27,  3.95s/it]\u001b[A\n",
            "Runs:  76%|███████▌  | 19/25 [01:15<00:23,  3.92s/it]\u001b[A\n",
            "Runs:  80%|████████  | 20/25 [01:19<00:19,  3.92s/it]\u001b[A\n",
            "Runs:  84%|████████▍ | 21/25 [01:23<00:15,  3.94s/it]\u001b[A\n",
            "Runs:  88%|████████▊ | 22/25 [01:27<00:11,  3.89s/it]\u001b[A\n",
            "Runs:  92%|█████████▏| 23/25 [01:30<00:07,  3.86s/it]\u001b[A\n",
            "Runs:  96%|█████████▌| 24/25 [01:34<00:03,  3.86s/it]\u001b[A\n",
            "Runs: 100%|██████████| 25/25 [01:38<00:00,  3.86s/it]\u001b[A\n",
            "Models:  25%|██▌       | 1/4 [01:41<05:05, 101.75s/it]"
          ]
        },
        {
          "output_type": "stream",
          "name": "stdout",
          "text": [
            "Epoch 1/10\n",
            "10/10 [==============================] - 0s 4ms/step - loss: 3.6715 - accuracy: 0.2164\n",
            "Epoch 2/10\n",
            "10/10 [==============================] - 0s 4ms/step - loss: 0.4897 - accuracy: 0.8847\n",
            "Epoch 3/10\n",
            "10/10 [==============================] - 0s 4ms/step - loss: 0.1059 - accuracy: 0.9826\n",
            "Epoch 4/10\n",
            "10/10 [==============================] - 0s 4ms/step - loss: 0.0729 - accuracy: 0.9862\n",
            "Epoch 5/10\n",
            "10/10 [==============================] - 0s 4ms/step - loss: 0.0619 - accuracy: 0.9884\n",
            "Epoch 6/10\n",
            "10/10 [==============================] - 0s 4ms/step - loss: 0.0551 - accuracy: 0.9894\n",
            "Epoch 7/10\n",
            "10/10 [==============================] - 0s 4ms/step - loss: 0.0504 - accuracy: 0.9906\n",
            "Epoch 8/10\n",
            "10/10 [==============================] - 0s 4ms/step - loss: 0.0462 - accuracy: 0.9912\n",
            "Epoch 9/10\n",
            "10/10 [==============================] - 0s 4ms/step - loss: 0.0432 - accuracy: 0.9916\n",
            "Epoch 10/10\n",
            "10/10 [==============================] - 0s 4ms/step - loss: 0.0404 - accuracy: 0.9921\n"
          ]
        },
        {
          "output_type": "stream",
          "name": "stderr",
          "text": [
            "\n",
            "Runs:   0%|          | 0/25 [00:00<?, ?it/s]\u001b[A\n",
            "Runs:   4%|▍         | 1/25 [00:03<01:34,  3.93s/it]\u001b[A\n",
            "Runs:   8%|▊         | 2/25 [00:08<01:32,  4.03s/it]\u001b[A\n",
            "Runs:  12%|█▏        | 3/25 [00:12<01:28,  4.02s/it]\u001b[A\n",
            "Runs:  16%|█▌        | 4/25 [00:16<01:24,  4.01s/it]\u001b[A\n",
            "Runs:  20%|██        | 5/25 [00:20<01:19,  4.00s/it]\u001b[A\n",
            "Runs:  24%|██▍       | 6/25 [00:24<01:16,  4.01s/it]\u001b[A\n",
            "Runs:  28%|██▊       | 7/25 [00:28<01:12,  4.02s/it]\u001b[A\n",
            "Runs:  32%|███▏      | 8/25 [00:31<01:07,  3.98s/it]\u001b[A\n",
            "Runs:  36%|███▌      | 9/25 [00:35<01:03,  3.97s/it]\u001b[A\n",
            "Runs:  40%|████      | 10/25 [00:39<00:59,  3.95s/it]\u001b[A\n",
            "Runs:  44%|████▍     | 11/25 [00:43<00:55,  3.96s/it]\u001b[A\n",
            "Runs:  48%|████▊     | 12/25 [00:47<00:51,  3.96s/it]\u001b[A\n",
            "Runs:  52%|█████▏    | 13/25 [00:51<00:46,  3.91s/it]\u001b[A\n",
            "Runs:  56%|█████▌    | 14/25 [00:55<00:43,  3.91s/it]\u001b[A\n",
            "Runs:  60%|██████    | 15/25 [00:59<00:38,  3.88s/it]\u001b[A\n",
            "Runs:  64%|██████▍   | 16/25 [01:03<00:34,  3.87s/it]\u001b[A\n",
            "Runs:  68%|██████▊   | 17/25 [01:06<00:30,  3.85s/it]\u001b[A\n",
            "Runs:  72%|███████▏  | 18/25 [01:10<00:27,  3.87s/it]\u001b[A\n",
            "Runs:  76%|███████▌  | 19/25 [01:14<00:23,  3.85s/it]\u001b[A\n",
            "Runs:  80%|████████  | 20/25 [01:18<00:19,  3.81s/it]\u001b[A\n",
            "Runs:  84%|████████▍ | 21/25 [01:22<00:15,  3.79s/it]\u001b[A\n",
            "Runs:  88%|████████▊ | 22/25 [01:26<00:11,  3.82s/it]\u001b[A\n",
            "Runs:  92%|█████████▏| 23/25 [01:29<00:07,  3.84s/it]\u001b[A\n",
            "Runs:  96%|█████████▌| 24/25 [01:33<00:03,  3.83s/it]\u001b[A\n",
            "Runs: 100%|██████████| 25/25 [01:37<00:00,  3.83s/it]\u001b[A\n",
            "Models:  50%|█████     | 2/4 [03:21<03:20, 100.34s/it]"
          ]
        },
        {
          "output_type": "stream",
          "name": "stdout",
          "text": [
            "Epoch 1/10\n",
            "10/10 [==============================] - 0s 4ms/step - loss: 7.3295 - accuracy: 0.1866\n",
            "Epoch 2/10\n",
            "10/10 [==============================] - 0s 4ms/step - loss: 2.2743 - accuracy: 0.5703\n",
            "Epoch 3/10\n",
            "10/10 [==============================] - 0s 5ms/step - loss: 0.6583 - accuracy: 0.8825\n",
            "Epoch 4/10\n",
            "10/10 [==============================] - 0s 4ms/step - loss: 0.1542 - accuracy: 0.9750\n",
            "Epoch 5/10\n",
            "10/10 [==============================] - 0s 4ms/step - loss: 0.0689 - accuracy: 0.9869\n",
            "Epoch 6/10\n",
            "10/10 [==============================] - 0s 4ms/step - loss: 0.0540 - accuracy: 0.9878\n",
            "Epoch 7/10\n",
            "10/10 [==============================] - 0s 4ms/step - loss: 0.0475 - accuracy: 0.9892\n",
            "Epoch 8/10\n",
            "10/10 [==============================] - 0s 3ms/step - loss: 0.0434 - accuracy: 0.9904\n",
            "Epoch 9/10\n",
            "10/10 [==============================] - 0s 4ms/step - loss: 0.0406 - accuracy: 0.9914\n",
            "Epoch 10/10\n",
            "10/10 [==============================] - 0s 4ms/step - loss: 0.0382 - accuracy: 0.9922\n"
          ]
        },
        {
          "output_type": "stream",
          "name": "stderr",
          "text": [
            "\n",
            "Runs:   0%|          | 0/25 [00:00<?, ?it/s]\u001b[A\n",
            "Runs:   4%|▍         | 1/25 [00:03<01:29,  3.73s/it]\u001b[A\n",
            "Runs:   8%|▊         | 2/25 [00:07<01:26,  3.77s/it]\u001b[A\n",
            "Runs:  12%|█▏        | 3/25 [00:11<01:22,  3.76s/it]\u001b[A\n",
            "Runs:  16%|█▌        | 4/25 [00:15<01:20,  3.83s/it]\u001b[A\n",
            "Runs:  20%|██        | 5/25 [00:19<01:16,  3.82s/it]\u001b[A\n",
            "Runs:  24%|██▍       | 6/25 [00:22<01:13,  3.85s/it]\u001b[A\n",
            "Runs:  28%|██▊       | 7/25 [00:26<01:09,  3.85s/it]\u001b[A\n",
            "Runs:  32%|███▏      | 8/25 [00:30<01:06,  3.92s/it]\u001b[A\n",
            "Runs:  36%|███▌      | 9/25 [00:34<01:03,  3.97s/it]\u001b[A\n",
            "Runs:  40%|████      | 10/25 [00:38<00:59,  4.00s/it]\u001b[A\n",
            "Runs:  44%|████▍     | 11/25 [00:43<00:56,  4.02s/it]\u001b[A\n",
            "Runs:  48%|████▊     | 12/25 [00:47<00:52,  4.03s/it]\u001b[A\n",
            "Runs:  52%|█████▏    | 13/25 [00:51<00:48,  4.06s/it]\u001b[A\n",
            "Runs:  56%|█████▌    | 14/25 [00:55<00:44,  4.03s/it]\u001b[A\n",
            "Runs:  60%|██████    | 15/25 [00:59<00:40,  4.02s/it]\u001b[A\n",
            "Runs:  64%|██████▍   | 16/25 [01:03<00:36,  4.02s/it]\u001b[A\n",
            "Runs:  68%|██████▊   | 17/25 [01:07<00:32,  4.04s/it]\u001b[A\n",
            "Runs:  72%|███████▏  | 18/25 [01:11<00:27,  4.00s/it]\u001b[A\n",
            "Runs:  76%|███████▌  | 19/25 [01:15<00:23,  3.99s/it]\u001b[A\n",
            "Runs:  80%|████████  | 20/25 [01:19<00:19,  3.96s/it]\u001b[A\n",
            "Runs:  84%|████████▍ | 21/25 [01:22<00:15,  3.95s/it]\u001b[A\n",
            "Runs:  88%|████████▊ | 22/25 [01:27<00:11,  3.97s/it]\u001b[A\n",
            "Runs:  92%|█████████▏| 23/25 [01:31<00:08,  4.01s/it]\u001b[A\n",
            "Runs:  96%|█████████▌| 24/25 [01:35<00:04,  4.04s/it]\u001b[A\n",
            "Runs: 100%|██████████| 25/25 [01:39<00:00,  4.04s/it]\u001b[A\n",
            "Models:  75%|███████▌  | 3/4 [05:02<01:40, 100.72s/it]"
          ]
        },
        {
          "output_type": "stream",
          "name": "stdout",
          "text": [
            "Epoch 1/10\n",
            "10/10 [==============================] - 0s 4ms/step - loss: 5.6150 - accuracy: 0.1138\n",
            "Epoch 2/10\n",
            "10/10 [==============================] - 0s 4ms/step - loss: 1.5869 - accuracy: 0.6215\n",
            "Epoch 3/10\n",
            "10/10 [==============================] - 0s 4ms/step - loss: 0.2731 - accuracy: 0.9175\n",
            "Epoch 4/10\n",
            "10/10 [==============================] - 0s 3ms/step - loss: 0.0847 - accuracy: 0.9880\n",
            "Epoch 5/10\n",
            "10/10 [==============================] - 0s 3ms/step - loss: 0.0557 - accuracy: 0.9902\n",
            "Epoch 6/10\n",
            "10/10 [==============================] - 0s 4ms/step - loss: 0.0466 - accuracy: 0.9909\n",
            "Epoch 7/10\n",
            "10/10 [==============================] - 0s 5ms/step - loss: 0.0420 - accuracy: 0.9920\n",
            "Epoch 8/10\n",
            "10/10 [==============================] - 0s 5ms/step - loss: 0.0392 - accuracy: 0.9924\n",
            "Epoch 9/10\n",
            "10/10 [==============================] - 0s 4ms/step - loss: 0.0368 - accuracy: 0.9925\n",
            "Epoch 10/10\n",
            "10/10 [==============================] - 0s 3ms/step - loss: 0.0350 - accuracy: 0.9929\n"
          ]
        },
        {
          "output_type": "stream",
          "name": "stderr",
          "text": [
            "\n",
            "Runs:   0%|          | 0/25 [00:00<?, ?it/s]\u001b[A\n",
            "Runs:   4%|▍         | 1/25 [00:03<01:32,  3.85s/it]\u001b[A\n",
            "Runs:   8%|▊         | 2/25 [00:07<01:27,  3.82s/it]\u001b[A\n",
            "Runs:  12%|█▏        | 3/25 [00:11<01:23,  3.82s/it]\u001b[A\n",
            "Runs:  16%|█▌        | 4/25 [00:15<01:20,  3.82s/it]\u001b[A\n",
            "Runs:  20%|██        | 5/25 [00:19<01:17,  3.85s/it]\u001b[A\n",
            "Runs:  24%|██▍       | 6/25 [00:23<01:13,  3.85s/it]\u001b[A\n",
            "Runs:  28%|██▊       | 7/25 [00:26<01:08,  3.83s/it]\u001b[A\n",
            "Runs:  32%|███▏      | 8/25 [00:30<01:05,  3.88s/it]\u001b[A\n",
            "Runs:  36%|███▌      | 9/25 [00:34<01:02,  3.93s/it]\u001b[A\n",
            "Runs:  40%|████      | 10/25 [00:38<00:58,  3.88s/it]\u001b[A\n",
            "Runs:  44%|████▍     | 11/25 [00:42<00:54,  3.87s/it]\u001b[A\n",
            "Runs:  48%|████▊     | 12/25 [00:46<00:50,  3.86s/it]\u001b[A\n",
            "Runs:  52%|█████▏    | 13/25 [00:50<00:46,  3.84s/it]\u001b[A\n",
            "Runs:  56%|█████▌    | 14/25 [00:53<00:42,  3.86s/it]\u001b[A\n",
            "Runs:  60%|██████    | 15/25 [00:57<00:38,  3.88s/it]\u001b[A\n",
            "Runs:  64%|██████▍   | 16/25 [01:01<00:34,  3.87s/it]\u001b[A\n",
            "Runs:  68%|██████▊   | 17/25 [01:05<00:30,  3.87s/it]\u001b[A\n",
            "Runs:  72%|███████▏  | 18/25 [01:09<00:27,  3.89s/it]\u001b[A\n",
            "Runs:  76%|███████▌  | 19/25 [01:13<00:23,  3.92s/it]\u001b[A\n",
            "Runs:  80%|████████  | 20/25 [01:17<00:19,  3.92s/it]\u001b[A\n",
            "Runs:  84%|████████▍ | 21/25 [01:21<00:15,  3.93s/it]\u001b[A\n",
            "Runs:  88%|████████▊ | 22/25 [01:25<00:11,  3.92s/it]\u001b[A\n",
            "Runs:  92%|█████████▏| 23/25 [01:29<00:07,  3.90s/it]\u001b[A\n",
            "Runs:  96%|█████████▌| 24/25 [01:33<00:03,  3.94s/it]\u001b[A\n",
            "Runs: 100%|██████████| 25/25 [01:37<00:00,  3.95s/it]\u001b[A\n",
            "Models: 100%|██████████| 4/4 [06:41<00:00, 100.35s/it]\n"
          ]
        }
      ]
    },
    {
      "cell_type": "markdown",
      "source": [
        "#comparison of above model output with the base-case and list your observations"
      ],
      "metadata": {
        "id": "mdGmURhsbIfQ"
      }
    },
    {
      "cell_type": "code",
      "source": [
        "cal_exp_densnet=pd.read_csv('/content/gdrive/MyDrive/Colab Notebooks/conf_matrix_and_calibration-main/calibration_experimentdensenet-bc-L190-k40_accuracy.csv')"
      ],
      "metadata": {
        "id": "AqRy4a1OgNCN"
      },
      "execution_count": null,
      "outputs": []
    },
    {
      "cell_type": "code",
      "source": [
        "cal_exp_preresnet=pd.read_csv('/content/gdrive/MyDrive/Colab Notebooks/conf_matrix_and_calibration-main/calibration_experimentpreresnet-110_accuracy.csv')"
      ],
      "metadata": {
        "id": "FEwHBT8shcOV"
      },
      "execution_count": null,
      "outputs": []
    },
    {
      "cell_type": "code",
      "source": [
        "team_model_densnet=pd.read_csv('/content/gdrive/MyDrive/Colab Notebooks/conf_matrix_and_calibration-main/output-teamdensenet-bc-L190-k40_accuracy.csv')"
      ],
      "metadata": {
        "id": "qF8vFWr-i1fM"
      },
      "execution_count": null,
      "outputs": []
    },
    {
      "cell_type": "code",
      "source": [
        "team_model_preresnet=pd.read_csv('/content/gdrive/MyDrive/Colab Notebooks/conf_matrix_and_calibration-main/output-teampreresnet-110_accuracy.csv')"
      ],
      "metadata": {
        "id": "D4jmR2iyjLcq"
      },
      "execution_count": null,
      "outputs": []
    },
    {
      "cell_type": "code",
      "source": [
        "trad_cal_densnet=(1-cal_exp_preresnet.mean(axis=0).round(decimals=4))*100\n",
        "trad_cal_preresnet=(1-cal_exp_densnet.mean(axis = 0).round(decimals=4))*100\n",
        "#print(trad_cal_preresnet)"
      ],
      "metadata": {
        "id": "iotHSCcchn_8"
      },
      "execution_count": null,
      "outputs": []
    },
    {
      "cell_type": "code",
      "source": [
        "team_cal_densnet=(1-team_model_densnet.mean(axis=0).round(decimals=4))*100\n",
        "team_cal_preresnet=(1-team_model_preresnet.mean(axis = 0).round(decimals=4))*100"
      ],
      "metadata": {
        "id": "3R2WmLpXjckm"
      },
      "execution_count": null,
      "outputs": []
    },
    {
      "cell_type": "code",
      "source": [
        "from prettytable import PrettyTable\n",
        "from texttable import Texttable\n",
        "t = Texttable()\n",
        "t.add_rows([['Model Type', 'Base Case Model Output','Team Model Output'],['human', trad_cal_densnet['human'],team_cal_densnet['human']],['model',trad_cal_densnet['model'],team_cal_densnet['model']],['comb none',trad_cal_densnet['comb none'],team_cal_densnet['comb none']],['comb confusion',trad_cal_densnet['comb confusion'],team_cal_densnet['comb confusion']],['comb temperature scaling',trad_cal_densnet['comb temperature scaling'],team_cal_densnet['comb temperature scaling']],['comb ensemble temperature scaling',trad_cal_densnet['comb ensemble temperature scaling'],team_cal_densnet['comb ensemble temperature scaling']],['comb imax binning', trad_cal_densnet['comb imax binning'],team_cal_densnet['comb imax binning']]])\n",
        "#t = PrettyTable(['Model Tyep', 'Base Case Model Output','Team Model Output'])\n",
        "# t.add_row(['human', trad_cal_densnet['human'],team_cal_densnet['human']])\n",
        "# t.add_row(['model',trad_cal_densnet['model'],team_cal_densnet['model']])\n",
        "# t.add_row(['comb none',trad_cal_densnet['comb none'],team_cal_densnet['comb none']])\n",
        "# t.add_row(['comb confusion',trad_cal_densnet['comb confusion'],team_cal_densnet['comb confusion']])\n",
        "# t.add_row(['comb temperature scaling',trad_cal_densnet['comb temperature scaling'],team_cal_densnet['comb temperature scaling']])\n",
        "# t.add_row(['comb ensemble temperature scaling',trad_cal_densnet['comb ensemble temperature scaling'],team_cal_densnet['comb ensemble temperature scaling']])\n",
        "# t.add_row(['comb imax binning', trad_cal_densnet['comb imax binning'],team_cal_densnet['comb imax binning']])\n",
        "print('Using Densnet Error percentage')\n",
        "print(t.draw())"
      ],
      "metadata": {
        "colab": {
          "base_uri": "https://localhost:8080/"
        },
        "id": "_hQDOfAHj1Hp",
        "outputId": "704d6104-b548-48ce-f20f-e01dfdae70e8"
      },
      "execution_count": null,
      "outputs": [
        {
          "output_type": "stream",
          "name": "stdout",
          "text": [
            "Using Densnet Error percentage\n",
            "+---------------------------------+------------------------+-------------------+\n",
            "|           Model Type            | Base Case Model Output | Team Model Output |\n",
            "+=================================+========================+===================+\n",
            "| human                           | 4.620                  | 4.470             |\n",
            "+---------------------------------+------------------------+-------------------+\n",
            "| model                           | 5.000                  | 0.770             |\n",
            "+---------------------------------+------------------------+-------------------+\n",
            "| comb none                       | 2.900                  | 1.670             |\n",
            "+---------------------------------+------------------------+-------------------+\n",
            "| comb confusion                  | 4.360                  | 0.930             |\n",
            "+---------------------------------+------------------------+-------------------+\n",
            "| comb temperature scaling        | 2.450                  | 1.500             |\n",
            "+---------------------------------+------------------------+-------------------+\n",
            "| comb ensemble temperature       | 2.460                  | 1.430             |\n",
            "| scaling                         |                        |                   |\n",
            "+---------------------------------+------------------------+-------------------+\n",
            "| comb imax binning               | 2.430                  | 1.530             |\n",
            "+---------------------------------+------------------------+-------------------+\n"
          ]
        }
      ]
    },
    {
      "cell_type": "code",
      "source": [
        "t = Texttable()\n",
        "t.add_rows([['Model Type', 'Base Case Model Output','Team Model Output'],['human', trad_cal_preresnet['human'],team_cal_preresnet['human']],['model',trad_cal_preresnet['model'],team_cal_preresnet['model']],['comb none',trad_cal_preresnet['comb none'],team_cal_preresnet['comb none']],['comb confusion',trad_cal_preresnet['comb confusion'],team_cal_preresnet['comb confusion']],['comb temperature scaling',trad_cal_preresnet['comb temperature scaling'],team_cal_preresnet['comb temperature scaling']],['comb ensemble temperature scaling',trad_cal_preresnet['comb ensemble temperature scaling'],team_cal_preresnet['comb ensemble temperature scaling']],['comb imax binning', trad_cal_preresnet['comb imax binning'],team_cal_preresnet['comb imax binning']]])\n",
        "print('Using Preresnet Error percentage')\n",
        "print(t.draw())"
      ],
      "metadata": {
        "colab": {
          "base_uri": "https://localhost:8080/"
        },
        "id": "c3Ggt2CbwI92",
        "outputId": "cc0ba784-1c6b-4aa5-9f38-791039b5e47c"
      },
      "execution_count": null,
      "outputs": [
        {
          "output_type": "stream",
          "name": "stdout",
          "text": [
            "Using Preresnet Error percentage\n",
            "+---------------------------------+------------------------+-------------------+\n",
            "|           Model Type            | Base Case Model Output | Team Model Output |\n",
            "+=================================+========================+===================+\n",
            "| human                           | 4.620                  | 4.470             |\n",
            "+---------------------------------+------------------------+-------------------+\n",
            "| model                           | 3.250                  | 0.800             |\n",
            "+---------------------------------+------------------------+-------------------+\n",
            "| comb none                       | 2.220                  | 1.570             |\n",
            "+---------------------------------+------------------------+-------------------+\n",
            "| comb confusion                  | 3.390                  | 1.000             |\n",
            "+---------------------------------+------------------------+-------------------+\n",
            "| comb temperature scaling        | 2.030                  | 1.500             |\n",
            "+---------------------------------+------------------------+-------------------+\n",
            "| comb ensemble temperature       | 2.170                  | 1.500             |\n",
            "| scaling                         |                        |                   |\n",
            "+---------------------------------+------------------------+-------------------+\n",
            "| comb imax binning               | 2.040                  | 1.400             |\n",
            "+---------------------------------+------------------------+-------------------+\n"
          ]
        }
      ]
    },
    {
      "cell_type": "markdown",
      "source": [
        "1. From the above two tables we can observe that in case of only human model prediction, team model output accuracy is little bit improved compared to original base case model given in this research paper. \n",
        "2. In case of only model prediction the team model output accuracy again outperformed the base case model output by a margin of almost 4%. \n",
        "3. Now we have also noticed some improvement regarding 'comb none' type prediction with team model. \n",
        "4. Again we see 4% more improvement using team model in case of 'comb confusion' section.\n",
        "5. While combined temprature scalling we observed some improvement using team model compared to base casse model.\n",
        "6. Also, in combined ensemble temperature scalling comparison team model has an edge with respect to base case model. \n",
        "7. And lastly while comparing comb imax binning, team model shows better result compared to given model.\n",
        "\n",
        "\n",
        "So, it is evident that the team model produces some better prediction accuracy compared to base case model in each and every metrices used for this experiment. We can say that Team model has a better approach to combine human and machine model output and can have the ability to produce better result compared to base case model.\n",
        "\n",
        "\n"
      ],
      "metadata": {
        "id": "4hkg9uHTrDtW"
      }
    }
  ]
}