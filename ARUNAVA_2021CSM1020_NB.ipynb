{
  "nbformat": 4,
  "nbformat_minor": 0,
  "metadata": {
    "colab": {
      "name": "ARUNAVA_2021CSM1020_NB.ipynb",
      "provenance": [],
      "collapsed_sections": []
    },
    "kernelspec": {
      "name": "python3",
      "display_name": "Python 3"
    },
    "language_info": {
      "name": "python"
    }
  },
  "cells": [
    {
      "cell_type": "markdown",
      "source": [
        "# Lab 3 : Working with Neural Networks\n",
        "\n",
        "---\n",
        "\n",
        "\n",
        "Total Points: **100**\n",
        "\n",
        "\n",
        "Submission Deadline :  **08 April 2022, 23:59 hours**\n",
        "\n",
        "\n",
        "In case of any queries, please contact the TAs Aroof Aimen (2018csz0001@iitrpr.ac.in), Vidhya Kamakshi (2017csz0005@iitrpr.ac.in)\n",
        "\n",
        "---\n",
        "\n",
        "\n",
        "\n",
        "General Instructions:\n",
        "\n",
        "---\n",
        "\n",
        "\n",
        "\n",
        "1. You have to do this lab individually\n",
        "2. **You have to perform the custom implementation in Part 1 of the assignment.** Libraries like **Keras or torch.nn are not allowed** for part 1 (except where it is mentioned).\n",
        "3. Please start early as some of the experiments take time to run \n",
        "4. All the code should be submitted in the form of a single Jupyter/colab notebook.\n",
        "5. Points for each sub-section are mentioned in the questions.\n",
        "6. You can use Google colab to run a jupyter notebook (https://colab.research.google.com/) How to load data in Google Colab ?(https://towardsdatascience.com/3-ways-to-load-csv-files-into-colab-7c14fcbdcb92) (https://www.marktechpost.com/2019/06/07/how-to-connect-google-colab-with-google-drive/)\n",
        "7. Submission must be done in the Google classroom. The code as well as the accompanying observations should be made part of the colab notebook.\n",
        "8. **Code Readability** is very important. Modularize your code by making use of classes and functions that can be flexibly reused wherever necessary. Also use self explanatory variable names and add comments to describe your approach wherever necessary. You may add additional code or text blocks as required.\n",
        "9. You are expected to submit your **detailed inferences** (preferably in a text block) and not just an error free code.\n",
        "10. Students are expected to follow the **honor code** of the class.\n",
        "11. **Please make a 10-minute video explaining your lab. Please provide a link to your video shared via the google drive in your notebook itslef (in a seperate text block). Follow the following naming convention: Name_rollnumber_NB.ipynb and Name_rollnumber_video.mkv respectively.** \n",
        "12. **Submissions without links for the videos, incorrect naming conventions, or incorrect folder arrangement will not be evaluated.**\n"
      ],
      "metadata": {
        "id": "Mw5aDgVFU2V6"
      }
    },
    {
      "cell_type": "markdown",
      "source": [
        "In this lab, we will perform one **regression** and one **multi-class classification** tasks. We will consider the Boston house Price Dataset for the regression problem, and for multi-class classification, we will consider Fashion-MNIST Dataset. For Boston house Price dataset details visit - https://scikit-learn.org/stable/datasets/toy_dataset.html. For Fashion-MNIST dataset you may get it using keras (see documentation) Fashion-MNIST: https://github.com/zalandoresearch/fashion-mnist"
      ],
      "metadata": {
        "id": "mKk72AoXaCpj"
      }
    },
    {
      "cell_type": "markdown",
      "source": [
        "\n",
        "---\n",
        "\n",
        "\n",
        "\n",
        "Section 1:  **(Total points = 50)**\n",
        "\n",
        "---\n",
        "\n",
        "Q1. Develop a Multi-Layer Perceptron (MLP) Neural Network to predict the house prices (Dataset loading function and accessing data matrix and target values have been provided in the code section) *Use of built-in library functions for the specific implementation as asked in the questions are not allowed in this section*\n",
        "\n",
        "1. Perform an exploratory analysis on the given dataset. Print the avg, max & min values of each column. Also, show the coorelation of each column with the target values in the dataset using multi-plots. **(3 point)**\n",
        "2. Perform data pre-processing operations like standardization and splitting (80:20) of data.  **(2 points)**\n",
        "3. Implement the three layer fully connected MLP feedforward model with only one hidden layer having 15 hidden units + bias. For this problem make your decision on the number of output units. Also, your implementation should facilitate a choice between Sigmoid & Tanh actionations at each layer of MLP for the user.  **( 15 points)**\n",
        "4. Implement Back-propagation algorithm to train the parameters of the MLP created in the previous section. The Backpropagation should support gradient flow for both Sigmoid and Tanh activation functions. **(15 points)**\n",
        "5. Train your model using the Mean Sqaured Errors. Mention your choices of the hyperparameters for training. Perform traning with batch gradient descent and stochastic gradeint descent. Plot the graph of traning error versus Epochs for both the training methods. Report the final accuracy you achieved on the Test Data using both the traning methods. **(2+3 = 5)**\n",
        "6. Using the best traning method from the above traning, train your MLP with different learning rates given as [ 0.5, 0.1, 0.01, 0.001, 0.0001].  **(5 points)**\n",
        "7. Plot the training error versus epochs for each learning rate in a single line graph. Also, plot accuracy versus lerning rate. Comment on your observations. **(3+2 = 5 points)**"
      ],
      "metadata": {
        "id": "A749LAmZqqZq"
      }
    },
    {
      "cell_type": "markdown",
      "source": [
        "# Assignment Video link:\n",
        "https://drive.google.com/file/d/1CuPiUG0pCbQW_10ezfTr1PSL3IemgMNP/view?usp=sharing"
      ],
      "metadata": {
        "id": "olKgG4JMGu_S"
      }
    },
    {
      "cell_type": "code",
      "source": [
        "#Declaration Block\n",
        "from sklearn.datasets import load_boston\n",
        "import pandas as pd\n",
        "import numpy as np\n"
      ],
      "metadata": {
        "id": "ei471-TdQ_vL"
      },
      "execution_count": null,
      "outputs": []
    },
    {
      "cell_type": "code",
      "source": [
        "housing = load_boston() # Loading the housing data\n",
        "#housing"
      ],
      "metadata": {
        "id": "w-br_Ol1X4N9",
        "colab": {
          "base_uri": "https://localhost:8080/"
        },
        "outputId": "96703398-0fcf-437e-8ec3-7383172324fa"
      },
      "execution_count": null,
      "outputs": [
        {
          "output_type": "stream",
          "name": "stderr",
          "text": [
            "/usr/local/lib/python3.7/dist-packages/sklearn/utils/deprecation.py:87: FutureWarning: Function load_boston is deprecated; `load_boston` is deprecated in 1.0 and will be removed in 1.2.\n",
            "\n",
            "    The Boston housing prices dataset has an ethical problem. You can refer to\n",
            "    the documentation of this function for further details.\n",
            "\n",
            "    The scikit-learn maintainers therefore strongly discourage the use of this\n",
            "    dataset unless the purpose of the code is to study and educate about\n",
            "    ethical issues in data science and machine learning.\n",
            "\n",
            "    In this special case, you can fetch the dataset from the original\n",
            "    source::\n",
            "\n",
            "        import pandas as pd\n",
            "        import numpy as np\n",
            "\n",
            "\n",
            "        data_url = \"http://lib.stat.cmu.edu/datasets/boston\"\n",
            "        raw_df = pd.read_csv(data_url, sep=\"\\s+\", skiprows=22, header=None)\n",
            "        data = np.hstack([raw_df.values[::2, :], raw_df.values[1::2, :2]])\n",
            "        target = raw_df.values[1::2, 2]\n",
            "\n",
            "    Alternative datasets include the California housing dataset (i.e.\n",
            "    :func:`~sklearn.datasets.fetch_california_housing`) and the Ames housing\n",
            "    dataset. You can load the datasets as follows::\n",
            "\n",
            "        from sklearn.datasets import fetch_california_housing\n",
            "        housing = fetch_california_housing()\n",
            "\n",
            "    for the California housing dataset and::\n",
            "\n",
            "        from sklearn.datasets import fetch_openml\n",
            "        housing = fetch_openml(name=\"house_prices\", as_frame=True)\n",
            "\n",
            "    for the Ames housing dataset.\n",
            "    \n",
            "  warnings.warn(msg, category=FutureWarning)\n"
          ]
        }
      ]
    },
    {
      "cell_type": "code",
      "source": [
        "data = pd.DataFrame(housing[\"data\"]) # Input data \n",
        "data.columns=['CRIM', 'ZN', 'INDUS', 'CHAS', 'NOX', 'RM', 'AGE', 'DIS', 'RAD', 'TAX', 'PTRATIO', 'B', 'LSTAT']\n",
        "data"
      ],
      "metadata": {
        "id": "Rm4ZH1SeoLfR",
        "colab": {
          "base_uri": "https://localhost:8080/",
          "height": 424
        },
        "outputId": "3463b37d-a683-4b21-cacc-da5c1bc8a01a"
      },
      "execution_count": null,
      "outputs": [
        {
          "output_type": "execute_result",
          "data": {
            "text/plain": [
              "        CRIM    ZN  INDUS  CHAS    NOX     RM   AGE     DIS  RAD    TAX  \\\n",
              "0    0.00632  18.0   2.31   0.0  0.538  6.575  65.2  4.0900  1.0  296.0   \n",
              "1    0.02731   0.0   7.07   0.0  0.469  6.421  78.9  4.9671  2.0  242.0   \n",
              "2    0.02729   0.0   7.07   0.0  0.469  7.185  61.1  4.9671  2.0  242.0   \n",
              "3    0.03237   0.0   2.18   0.0  0.458  6.998  45.8  6.0622  3.0  222.0   \n",
              "4    0.06905   0.0   2.18   0.0  0.458  7.147  54.2  6.0622  3.0  222.0   \n",
              "..       ...   ...    ...   ...    ...    ...   ...     ...  ...    ...   \n",
              "501  0.06263   0.0  11.93   0.0  0.573  6.593  69.1  2.4786  1.0  273.0   \n",
              "502  0.04527   0.0  11.93   0.0  0.573  6.120  76.7  2.2875  1.0  273.0   \n",
              "503  0.06076   0.0  11.93   0.0  0.573  6.976  91.0  2.1675  1.0  273.0   \n",
              "504  0.10959   0.0  11.93   0.0  0.573  6.794  89.3  2.3889  1.0  273.0   \n",
              "505  0.04741   0.0  11.93   0.0  0.573  6.030  80.8  2.5050  1.0  273.0   \n",
              "\n",
              "     PTRATIO       B  LSTAT  \n",
              "0       15.3  396.90   4.98  \n",
              "1       17.8  396.90   9.14  \n",
              "2       17.8  392.83   4.03  \n",
              "3       18.7  394.63   2.94  \n",
              "4       18.7  396.90   5.33  \n",
              "..       ...     ...    ...  \n",
              "501     21.0  391.99   9.67  \n",
              "502     21.0  396.90   9.08  \n",
              "503     21.0  396.90   5.64  \n",
              "504     21.0  393.45   6.48  \n",
              "505     21.0  396.90   7.88  \n",
              "\n",
              "[506 rows x 13 columns]"
            ],
            "text/html": [
              "\n",
              "  <div id=\"df-e983c1de-2440-4927-a7ff-9312dcf0a366\">\n",
              "    <div class=\"colab-df-container\">\n",
              "      <div>\n",
              "<style scoped>\n",
              "    .dataframe tbody tr th:only-of-type {\n",
              "        vertical-align: middle;\n",
              "    }\n",
              "\n",
              "    .dataframe tbody tr th {\n",
              "        vertical-align: top;\n",
              "    }\n",
              "\n",
              "    .dataframe thead th {\n",
              "        text-align: right;\n",
              "    }\n",
              "</style>\n",
              "<table border=\"1\" class=\"dataframe\">\n",
              "  <thead>\n",
              "    <tr style=\"text-align: right;\">\n",
              "      <th></th>\n",
              "      <th>CRIM</th>\n",
              "      <th>ZN</th>\n",
              "      <th>INDUS</th>\n",
              "      <th>CHAS</th>\n",
              "      <th>NOX</th>\n",
              "      <th>RM</th>\n",
              "      <th>AGE</th>\n",
              "      <th>DIS</th>\n",
              "      <th>RAD</th>\n",
              "      <th>TAX</th>\n",
              "      <th>PTRATIO</th>\n",
              "      <th>B</th>\n",
              "      <th>LSTAT</th>\n",
              "    </tr>\n",
              "  </thead>\n",
              "  <tbody>\n",
              "    <tr>\n",
              "      <th>0</th>\n",
              "      <td>0.00632</td>\n",
              "      <td>18.0</td>\n",
              "      <td>2.31</td>\n",
              "      <td>0.0</td>\n",
              "      <td>0.538</td>\n",
              "      <td>6.575</td>\n",
              "      <td>65.2</td>\n",
              "      <td>4.0900</td>\n",
              "      <td>1.0</td>\n",
              "      <td>296.0</td>\n",
              "      <td>15.3</td>\n",
              "      <td>396.90</td>\n",
              "      <td>4.98</td>\n",
              "    </tr>\n",
              "    <tr>\n",
              "      <th>1</th>\n",
              "      <td>0.02731</td>\n",
              "      <td>0.0</td>\n",
              "      <td>7.07</td>\n",
              "      <td>0.0</td>\n",
              "      <td>0.469</td>\n",
              "      <td>6.421</td>\n",
              "      <td>78.9</td>\n",
              "      <td>4.9671</td>\n",
              "      <td>2.0</td>\n",
              "      <td>242.0</td>\n",
              "      <td>17.8</td>\n",
              "      <td>396.90</td>\n",
              "      <td>9.14</td>\n",
              "    </tr>\n",
              "    <tr>\n",
              "      <th>2</th>\n",
              "      <td>0.02729</td>\n",
              "      <td>0.0</td>\n",
              "      <td>7.07</td>\n",
              "      <td>0.0</td>\n",
              "      <td>0.469</td>\n",
              "      <td>7.185</td>\n",
              "      <td>61.1</td>\n",
              "      <td>4.9671</td>\n",
              "      <td>2.0</td>\n",
              "      <td>242.0</td>\n",
              "      <td>17.8</td>\n",
              "      <td>392.83</td>\n",
              "      <td>4.03</td>\n",
              "    </tr>\n",
              "    <tr>\n",
              "      <th>3</th>\n",
              "      <td>0.03237</td>\n",
              "      <td>0.0</td>\n",
              "      <td>2.18</td>\n",
              "      <td>0.0</td>\n",
              "      <td>0.458</td>\n",
              "      <td>6.998</td>\n",
              "      <td>45.8</td>\n",
              "      <td>6.0622</td>\n",
              "      <td>3.0</td>\n",
              "      <td>222.0</td>\n",
              "      <td>18.7</td>\n",
              "      <td>394.63</td>\n",
              "      <td>2.94</td>\n",
              "    </tr>\n",
              "    <tr>\n",
              "      <th>4</th>\n",
              "      <td>0.06905</td>\n",
              "      <td>0.0</td>\n",
              "      <td>2.18</td>\n",
              "      <td>0.0</td>\n",
              "      <td>0.458</td>\n",
              "      <td>7.147</td>\n",
              "      <td>54.2</td>\n",
              "      <td>6.0622</td>\n",
              "      <td>3.0</td>\n",
              "      <td>222.0</td>\n",
              "      <td>18.7</td>\n",
              "      <td>396.90</td>\n",
              "      <td>5.33</td>\n",
              "    </tr>\n",
              "    <tr>\n",
              "      <th>...</th>\n",
              "      <td>...</td>\n",
              "      <td>...</td>\n",
              "      <td>...</td>\n",
              "      <td>...</td>\n",
              "      <td>...</td>\n",
              "      <td>...</td>\n",
              "      <td>...</td>\n",
              "      <td>...</td>\n",
              "      <td>...</td>\n",
              "      <td>...</td>\n",
              "      <td>...</td>\n",
              "      <td>...</td>\n",
              "      <td>...</td>\n",
              "    </tr>\n",
              "    <tr>\n",
              "      <th>501</th>\n",
              "      <td>0.06263</td>\n",
              "      <td>0.0</td>\n",
              "      <td>11.93</td>\n",
              "      <td>0.0</td>\n",
              "      <td>0.573</td>\n",
              "      <td>6.593</td>\n",
              "      <td>69.1</td>\n",
              "      <td>2.4786</td>\n",
              "      <td>1.0</td>\n",
              "      <td>273.0</td>\n",
              "      <td>21.0</td>\n",
              "      <td>391.99</td>\n",
              "      <td>9.67</td>\n",
              "    </tr>\n",
              "    <tr>\n",
              "      <th>502</th>\n",
              "      <td>0.04527</td>\n",
              "      <td>0.0</td>\n",
              "      <td>11.93</td>\n",
              "      <td>0.0</td>\n",
              "      <td>0.573</td>\n",
              "      <td>6.120</td>\n",
              "      <td>76.7</td>\n",
              "      <td>2.2875</td>\n",
              "      <td>1.0</td>\n",
              "      <td>273.0</td>\n",
              "      <td>21.0</td>\n",
              "      <td>396.90</td>\n",
              "      <td>9.08</td>\n",
              "    </tr>\n",
              "    <tr>\n",
              "      <th>503</th>\n",
              "      <td>0.06076</td>\n",
              "      <td>0.0</td>\n",
              "      <td>11.93</td>\n",
              "      <td>0.0</td>\n",
              "      <td>0.573</td>\n",
              "      <td>6.976</td>\n",
              "      <td>91.0</td>\n",
              "      <td>2.1675</td>\n",
              "      <td>1.0</td>\n",
              "      <td>273.0</td>\n",
              "      <td>21.0</td>\n",
              "      <td>396.90</td>\n",
              "      <td>5.64</td>\n",
              "    </tr>\n",
              "    <tr>\n",
              "      <th>504</th>\n",
              "      <td>0.10959</td>\n",
              "      <td>0.0</td>\n",
              "      <td>11.93</td>\n",
              "      <td>0.0</td>\n",
              "      <td>0.573</td>\n",
              "      <td>6.794</td>\n",
              "      <td>89.3</td>\n",
              "      <td>2.3889</td>\n",
              "      <td>1.0</td>\n",
              "      <td>273.0</td>\n",
              "      <td>21.0</td>\n",
              "      <td>393.45</td>\n",
              "      <td>6.48</td>\n",
              "    </tr>\n",
              "    <tr>\n",
              "      <th>505</th>\n",
              "      <td>0.04741</td>\n",
              "      <td>0.0</td>\n",
              "      <td>11.93</td>\n",
              "      <td>0.0</td>\n",
              "      <td>0.573</td>\n",
              "      <td>6.030</td>\n",
              "      <td>80.8</td>\n",
              "      <td>2.5050</td>\n",
              "      <td>1.0</td>\n",
              "      <td>273.0</td>\n",
              "      <td>21.0</td>\n",
              "      <td>396.90</td>\n",
              "      <td>7.88</td>\n",
              "    </tr>\n",
              "  </tbody>\n",
              "</table>\n",
              "<p>506 rows × 13 columns</p>\n",
              "</div>\n",
              "      <button class=\"colab-df-convert\" onclick=\"convertToInteractive('df-e983c1de-2440-4927-a7ff-9312dcf0a366')\"\n",
              "              title=\"Convert this dataframe to an interactive table.\"\n",
              "              style=\"display:none;\">\n",
              "        \n",
              "  <svg xmlns=\"http://www.w3.org/2000/svg\" height=\"24px\"viewBox=\"0 0 24 24\"\n",
              "       width=\"24px\">\n",
              "    <path d=\"M0 0h24v24H0V0z\" fill=\"none\"/>\n",
              "    <path d=\"M18.56 5.44l.94 2.06.94-2.06 2.06-.94-2.06-.94-.94-2.06-.94 2.06-2.06.94zm-11 1L8.5 8.5l.94-2.06 2.06-.94-2.06-.94L8.5 2.5l-.94 2.06-2.06.94zm10 10l.94 2.06.94-2.06 2.06-.94-2.06-.94-.94-2.06-.94 2.06-2.06.94z\"/><path d=\"M17.41 7.96l-1.37-1.37c-.4-.4-.92-.59-1.43-.59-.52 0-1.04.2-1.43.59L10.3 9.45l-7.72 7.72c-.78.78-.78 2.05 0 2.83L4 21.41c.39.39.9.59 1.41.59.51 0 1.02-.2 1.41-.59l7.78-7.78 2.81-2.81c.8-.78.8-2.07 0-2.86zM5.41 20L4 18.59l7.72-7.72 1.47 1.35L5.41 20z\"/>\n",
              "  </svg>\n",
              "      </button>\n",
              "      \n",
              "  <style>\n",
              "    .colab-df-container {\n",
              "      display:flex;\n",
              "      flex-wrap:wrap;\n",
              "      gap: 12px;\n",
              "    }\n",
              "\n",
              "    .colab-df-convert {\n",
              "      background-color: #E8F0FE;\n",
              "      border: none;\n",
              "      border-radius: 50%;\n",
              "      cursor: pointer;\n",
              "      display: none;\n",
              "      fill: #1967D2;\n",
              "      height: 32px;\n",
              "      padding: 0 0 0 0;\n",
              "      width: 32px;\n",
              "    }\n",
              "\n",
              "    .colab-df-convert:hover {\n",
              "      background-color: #E2EBFA;\n",
              "      box-shadow: 0px 1px 2px rgba(60, 64, 67, 0.3), 0px 1px 3px 1px rgba(60, 64, 67, 0.15);\n",
              "      fill: #174EA6;\n",
              "    }\n",
              "\n",
              "    [theme=dark] .colab-df-convert {\n",
              "      background-color: #3B4455;\n",
              "      fill: #D2E3FC;\n",
              "    }\n",
              "\n",
              "    [theme=dark] .colab-df-convert:hover {\n",
              "      background-color: #434B5C;\n",
              "      box-shadow: 0px 1px 3px 1px rgba(0, 0, 0, 0.15);\n",
              "      filter: drop-shadow(0px 1px 2px rgba(0, 0, 0, 0.3));\n",
              "      fill: #FFFFFF;\n",
              "    }\n",
              "  </style>\n",
              "\n",
              "      <script>\n",
              "        const buttonEl =\n",
              "          document.querySelector('#df-e983c1de-2440-4927-a7ff-9312dcf0a366 button.colab-df-convert');\n",
              "        buttonEl.style.display =\n",
              "          google.colab.kernel.accessAllowed ? 'block' : 'none';\n",
              "\n",
              "        async function convertToInteractive(key) {\n",
              "          const element = document.querySelector('#df-e983c1de-2440-4927-a7ff-9312dcf0a366');\n",
              "          const dataTable =\n",
              "            await google.colab.kernel.invokeFunction('convertToInteractive',\n",
              "                                                     [key], {});\n",
              "          if (!dataTable) return;\n",
              "\n",
              "          const docLinkHtml = 'Like what you see? Visit the ' +\n",
              "            '<a target=\"_blank\" href=https://colab.research.google.com/notebooks/data_table.ipynb>data table notebook</a>'\n",
              "            + ' to learn more about interactive tables.';\n",
              "          element.innerHTML = '';\n",
              "          dataTable['output_type'] = 'display_data';\n",
              "          await google.colab.output.renderOutput(dataTable, element);\n",
              "          const docLink = document.createElement('div');\n",
              "          docLink.innerHTML = docLinkHtml;\n",
              "          element.appendChild(docLink);\n",
              "        }\n",
              "      </script>\n",
              "    </div>\n",
              "  </div>\n",
              "  "
            ]
          },
          "metadata": {},
          "execution_count": 3
        }
      ]
    },
    {
      "cell_type": "code",
      "source": [
        "housing[\"feature_names\"] # List of features"
      ],
      "metadata": {
        "id": "r8g7cTrNyRhA",
        "outputId": "9d008f37-e2a2-44b6-f52d-209f429eb986",
        "colab": {
          "base_uri": "https://localhost:8080/"
        }
      },
      "execution_count": null,
      "outputs": [
        {
          "output_type": "execute_result",
          "data": {
            "text/plain": [
              "array(['CRIM', 'ZN', 'INDUS', 'CHAS', 'NOX', 'RM', 'AGE', 'DIS', 'RAD',\n",
              "       'TAX', 'PTRATIO', 'B', 'LSTAT'], dtype='<U7')"
            ]
          },
          "metadata": {},
          "execution_count": 4
        }
      ]
    },
    {
      "cell_type": "code",
      "source": [
        "target = pd.DataFrame(housing[\"target\"]) # Ground truth house prices for each row of data\n",
        "target"
      ],
      "metadata": {
        "id": "ifNJWaa4qbAR",
        "colab": {
          "base_uri": "https://localhost:8080/",
          "height": 424
        },
        "outputId": "68c287c6-fbea-4625-8d2a-1fd71dd02f60"
      },
      "execution_count": null,
      "outputs": [
        {
          "output_type": "execute_result",
          "data": {
            "text/plain": [
              "        0\n",
              "0    24.0\n",
              "1    21.6\n",
              "2    34.7\n",
              "3    33.4\n",
              "4    36.2\n",
              "..    ...\n",
              "501  22.4\n",
              "502  20.6\n",
              "503  23.9\n",
              "504  22.0\n",
              "505  11.9\n",
              "\n",
              "[506 rows x 1 columns]"
            ],
            "text/html": [
              "\n",
              "  <div id=\"df-56832919-ddbe-48a8-8eb3-ebcf3622769a\">\n",
              "    <div class=\"colab-df-container\">\n",
              "      <div>\n",
              "<style scoped>\n",
              "    .dataframe tbody tr th:only-of-type {\n",
              "        vertical-align: middle;\n",
              "    }\n",
              "\n",
              "    .dataframe tbody tr th {\n",
              "        vertical-align: top;\n",
              "    }\n",
              "\n",
              "    .dataframe thead th {\n",
              "        text-align: right;\n",
              "    }\n",
              "</style>\n",
              "<table border=\"1\" class=\"dataframe\">\n",
              "  <thead>\n",
              "    <tr style=\"text-align: right;\">\n",
              "      <th></th>\n",
              "      <th>0</th>\n",
              "    </tr>\n",
              "  </thead>\n",
              "  <tbody>\n",
              "    <tr>\n",
              "      <th>0</th>\n",
              "      <td>24.0</td>\n",
              "    </tr>\n",
              "    <tr>\n",
              "      <th>1</th>\n",
              "      <td>21.6</td>\n",
              "    </tr>\n",
              "    <tr>\n",
              "      <th>2</th>\n",
              "      <td>34.7</td>\n",
              "    </tr>\n",
              "    <tr>\n",
              "      <th>3</th>\n",
              "      <td>33.4</td>\n",
              "    </tr>\n",
              "    <tr>\n",
              "      <th>4</th>\n",
              "      <td>36.2</td>\n",
              "    </tr>\n",
              "    <tr>\n",
              "      <th>...</th>\n",
              "      <td>...</td>\n",
              "    </tr>\n",
              "    <tr>\n",
              "      <th>501</th>\n",
              "      <td>22.4</td>\n",
              "    </tr>\n",
              "    <tr>\n",
              "      <th>502</th>\n",
              "      <td>20.6</td>\n",
              "    </tr>\n",
              "    <tr>\n",
              "      <th>503</th>\n",
              "      <td>23.9</td>\n",
              "    </tr>\n",
              "    <tr>\n",
              "      <th>504</th>\n",
              "      <td>22.0</td>\n",
              "    </tr>\n",
              "    <tr>\n",
              "      <th>505</th>\n",
              "      <td>11.9</td>\n",
              "    </tr>\n",
              "  </tbody>\n",
              "</table>\n",
              "<p>506 rows × 1 columns</p>\n",
              "</div>\n",
              "      <button class=\"colab-df-convert\" onclick=\"convertToInteractive('df-56832919-ddbe-48a8-8eb3-ebcf3622769a')\"\n",
              "              title=\"Convert this dataframe to an interactive table.\"\n",
              "              style=\"display:none;\">\n",
              "        \n",
              "  <svg xmlns=\"http://www.w3.org/2000/svg\" height=\"24px\"viewBox=\"0 0 24 24\"\n",
              "       width=\"24px\">\n",
              "    <path d=\"M0 0h24v24H0V0z\" fill=\"none\"/>\n",
              "    <path d=\"M18.56 5.44l.94 2.06.94-2.06 2.06-.94-2.06-.94-.94-2.06-.94 2.06-2.06.94zm-11 1L8.5 8.5l.94-2.06 2.06-.94-2.06-.94L8.5 2.5l-.94 2.06-2.06.94zm10 10l.94 2.06.94-2.06 2.06-.94-2.06-.94-.94-2.06-.94 2.06-2.06.94z\"/><path d=\"M17.41 7.96l-1.37-1.37c-.4-.4-.92-.59-1.43-.59-.52 0-1.04.2-1.43.59L10.3 9.45l-7.72 7.72c-.78.78-.78 2.05 0 2.83L4 21.41c.39.39.9.59 1.41.59.51 0 1.02-.2 1.41-.59l7.78-7.78 2.81-2.81c.8-.78.8-2.07 0-2.86zM5.41 20L4 18.59l7.72-7.72 1.47 1.35L5.41 20z\"/>\n",
              "  </svg>\n",
              "      </button>\n",
              "      \n",
              "  <style>\n",
              "    .colab-df-container {\n",
              "      display:flex;\n",
              "      flex-wrap:wrap;\n",
              "      gap: 12px;\n",
              "    }\n",
              "\n",
              "    .colab-df-convert {\n",
              "      background-color: #E8F0FE;\n",
              "      border: none;\n",
              "      border-radius: 50%;\n",
              "      cursor: pointer;\n",
              "      display: none;\n",
              "      fill: #1967D2;\n",
              "      height: 32px;\n",
              "      padding: 0 0 0 0;\n",
              "      width: 32px;\n",
              "    }\n",
              "\n",
              "    .colab-df-convert:hover {\n",
              "      background-color: #E2EBFA;\n",
              "      box-shadow: 0px 1px 2px rgba(60, 64, 67, 0.3), 0px 1px 3px 1px rgba(60, 64, 67, 0.15);\n",
              "      fill: #174EA6;\n",
              "    }\n",
              "\n",
              "    [theme=dark] .colab-df-convert {\n",
              "      background-color: #3B4455;\n",
              "      fill: #D2E3FC;\n",
              "    }\n",
              "\n",
              "    [theme=dark] .colab-df-convert:hover {\n",
              "      background-color: #434B5C;\n",
              "      box-shadow: 0px 1px 3px 1px rgba(0, 0, 0, 0.15);\n",
              "      filter: drop-shadow(0px 1px 2px rgba(0, 0, 0, 0.3));\n",
              "      fill: #FFFFFF;\n",
              "    }\n",
              "  </style>\n",
              "\n",
              "      <script>\n",
              "        const buttonEl =\n",
              "          document.querySelector('#df-56832919-ddbe-48a8-8eb3-ebcf3622769a button.colab-df-convert');\n",
              "        buttonEl.style.display =\n",
              "          google.colab.kernel.accessAllowed ? 'block' : 'none';\n",
              "\n",
              "        async function convertToInteractive(key) {\n",
              "          const element = document.querySelector('#df-56832919-ddbe-48a8-8eb3-ebcf3622769a');\n",
              "          const dataTable =\n",
              "            await google.colab.kernel.invokeFunction('convertToInteractive',\n",
              "                                                     [key], {});\n",
              "          if (!dataTable) return;\n",
              "\n",
              "          const docLinkHtml = 'Like what you see? Visit the ' +\n",
              "            '<a target=\"_blank\" href=https://colab.research.google.com/notebooks/data_table.ipynb>data table notebook</a>'\n",
              "            + ' to learn more about interactive tables.';\n",
              "          element.innerHTML = '';\n",
              "          dataTable['output_type'] = 'display_data';\n",
              "          await google.colab.output.renderOutput(dataTable, element);\n",
              "          const docLink = document.createElement('div');\n",
              "          docLink.innerHTML = docLinkHtml;\n",
              "          element.appendChild(docLink);\n",
              "        }\n",
              "      </script>\n",
              "    </div>\n",
              "  </div>\n",
              "  "
            ]
          },
          "metadata": {},
          "execution_count": 5
        }
      ]
    },
    {
      "cell_type": "markdown",
      "source": [
        "# Part 1: Exploratory data analysis on Boston Housing Price Dataset"
      ],
      "metadata": {
        "id": "TYlRuhjZwDdw"
      }
    },
    {
      "cell_type": "code",
      "source": [
        "# Exploratory data analysis on Boston Housing Price Dataset\n",
        "# Summary information\n",
        "data.info()"
      ],
      "metadata": {
        "colab": {
          "base_uri": "https://localhost:8080/"
        },
        "id": "oFCwXcaBTjWR",
        "outputId": "d2d51583-f611-44c2-9226-f36fb16f43b0"
      },
      "execution_count": null,
      "outputs": [
        {
          "output_type": "stream",
          "name": "stdout",
          "text": [
            "<class 'pandas.core.frame.DataFrame'>\n",
            "RangeIndex: 506 entries, 0 to 505\n",
            "Data columns (total 13 columns):\n",
            " #   Column   Non-Null Count  Dtype  \n",
            "---  ------   --------------  -----  \n",
            " 0   CRIM     506 non-null    float64\n",
            " 1   ZN       506 non-null    float64\n",
            " 2   INDUS    506 non-null    float64\n",
            " 3   CHAS     506 non-null    float64\n",
            " 4   NOX      506 non-null    float64\n",
            " 5   RM       506 non-null    float64\n",
            " 6   AGE      506 non-null    float64\n",
            " 7   DIS      506 non-null    float64\n",
            " 8   RAD      506 non-null    float64\n",
            " 9   TAX      506 non-null    float64\n",
            " 10  PTRATIO  506 non-null    float64\n",
            " 11  B        506 non-null    float64\n",
            " 12  LSTAT    506 non-null    float64\n",
            "dtypes: float64(13)\n",
            "memory usage: 51.5 KB\n"
          ]
        }
      ]
    },
    {
      "cell_type": "code",
      "source": [
        "# Missing Values\n",
        "data.isnull().sum()"
      ],
      "metadata": {
        "colab": {
          "base_uri": "https://localhost:8080/"
        },
        "id": "XBxH_XvYUR6M",
        "outputId": "0de83fdb-ec89-4243-ec03-054436e1ff56"
      },
      "execution_count": null,
      "outputs": [
        {
          "output_type": "execute_result",
          "data": {
            "text/plain": [
              "CRIM       0\n",
              "ZN         0\n",
              "INDUS      0\n",
              "CHAS       0\n",
              "NOX        0\n",
              "RM         0\n",
              "AGE        0\n",
              "DIS        0\n",
              "RAD        0\n",
              "TAX        0\n",
              "PTRATIO    0\n",
              "B          0\n",
              "LSTAT      0\n",
              "dtype: int64"
            ]
          },
          "metadata": {},
          "execution_count": 7
        }
      ]
    },
    {
      "cell_type": "code",
      "source": [
        "# Basic Descriptive Statistics Value and the avg, max & min values of each column\n",
        "data.describe()"
      ],
      "metadata": {
        "colab": {
          "base_uri": "https://localhost:8080/",
          "height": 300
        },
        "id": "gTrNjmc_UfZ3",
        "outputId": "ce8fc393-bdaa-4272-8dde-f3d2710cfae6"
      },
      "execution_count": null,
      "outputs": [
        {
          "output_type": "execute_result",
          "data": {
            "text/plain": [
              "             CRIM          ZN       INDUS        CHAS         NOX          RM  \\\n",
              "count  506.000000  506.000000  506.000000  506.000000  506.000000  506.000000   \n",
              "mean     3.613524   11.363636   11.136779    0.069170    0.554695    6.284634   \n",
              "std      8.601545   23.322453    6.860353    0.253994    0.115878    0.702617   \n",
              "min      0.006320    0.000000    0.460000    0.000000    0.385000    3.561000   \n",
              "25%      0.082045    0.000000    5.190000    0.000000    0.449000    5.885500   \n",
              "50%      0.256510    0.000000    9.690000    0.000000    0.538000    6.208500   \n",
              "75%      3.677083   12.500000   18.100000    0.000000    0.624000    6.623500   \n",
              "max     88.976200  100.000000   27.740000    1.000000    0.871000    8.780000   \n",
              "\n",
              "              AGE         DIS         RAD         TAX     PTRATIO           B  \\\n",
              "count  506.000000  506.000000  506.000000  506.000000  506.000000  506.000000   \n",
              "mean    68.574901    3.795043    9.549407  408.237154   18.455534  356.674032   \n",
              "std     28.148861    2.105710    8.707259  168.537116    2.164946   91.294864   \n",
              "min      2.900000    1.129600    1.000000  187.000000   12.600000    0.320000   \n",
              "25%     45.025000    2.100175    4.000000  279.000000   17.400000  375.377500   \n",
              "50%     77.500000    3.207450    5.000000  330.000000   19.050000  391.440000   \n",
              "75%     94.075000    5.188425   24.000000  666.000000   20.200000  396.225000   \n",
              "max    100.000000   12.126500   24.000000  711.000000   22.000000  396.900000   \n",
              "\n",
              "            LSTAT  \n",
              "count  506.000000  \n",
              "mean    12.653063  \n",
              "std      7.141062  \n",
              "min      1.730000  \n",
              "25%      6.950000  \n",
              "50%     11.360000  \n",
              "75%     16.955000  \n",
              "max     37.970000  "
            ],
            "text/html": [
              "\n",
              "  <div id=\"df-a43805c7-c793-4b73-bf5e-14f7119c1edb\">\n",
              "    <div class=\"colab-df-container\">\n",
              "      <div>\n",
              "<style scoped>\n",
              "    .dataframe tbody tr th:only-of-type {\n",
              "        vertical-align: middle;\n",
              "    }\n",
              "\n",
              "    .dataframe tbody tr th {\n",
              "        vertical-align: top;\n",
              "    }\n",
              "\n",
              "    .dataframe thead th {\n",
              "        text-align: right;\n",
              "    }\n",
              "</style>\n",
              "<table border=\"1\" class=\"dataframe\">\n",
              "  <thead>\n",
              "    <tr style=\"text-align: right;\">\n",
              "      <th></th>\n",
              "      <th>CRIM</th>\n",
              "      <th>ZN</th>\n",
              "      <th>INDUS</th>\n",
              "      <th>CHAS</th>\n",
              "      <th>NOX</th>\n",
              "      <th>RM</th>\n",
              "      <th>AGE</th>\n",
              "      <th>DIS</th>\n",
              "      <th>RAD</th>\n",
              "      <th>TAX</th>\n",
              "      <th>PTRATIO</th>\n",
              "      <th>B</th>\n",
              "      <th>LSTAT</th>\n",
              "    </tr>\n",
              "  </thead>\n",
              "  <tbody>\n",
              "    <tr>\n",
              "      <th>count</th>\n",
              "      <td>506.000000</td>\n",
              "      <td>506.000000</td>\n",
              "      <td>506.000000</td>\n",
              "      <td>506.000000</td>\n",
              "      <td>506.000000</td>\n",
              "      <td>506.000000</td>\n",
              "      <td>506.000000</td>\n",
              "      <td>506.000000</td>\n",
              "      <td>506.000000</td>\n",
              "      <td>506.000000</td>\n",
              "      <td>506.000000</td>\n",
              "      <td>506.000000</td>\n",
              "      <td>506.000000</td>\n",
              "    </tr>\n",
              "    <tr>\n",
              "      <th>mean</th>\n",
              "      <td>3.613524</td>\n",
              "      <td>11.363636</td>\n",
              "      <td>11.136779</td>\n",
              "      <td>0.069170</td>\n",
              "      <td>0.554695</td>\n",
              "      <td>6.284634</td>\n",
              "      <td>68.574901</td>\n",
              "      <td>3.795043</td>\n",
              "      <td>9.549407</td>\n",
              "      <td>408.237154</td>\n",
              "      <td>18.455534</td>\n",
              "      <td>356.674032</td>\n",
              "      <td>12.653063</td>\n",
              "    </tr>\n",
              "    <tr>\n",
              "      <th>std</th>\n",
              "      <td>8.601545</td>\n",
              "      <td>23.322453</td>\n",
              "      <td>6.860353</td>\n",
              "      <td>0.253994</td>\n",
              "      <td>0.115878</td>\n",
              "      <td>0.702617</td>\n",
              "      <td>28.148861</td>\n",
              "      <td>2.105710</td>\n",
              "      <td>8.707259</td>\n",
              "      <td>168.537116</td>\n",
              "      <td>2.164946</td>\n",
              "      <td>91.294864</td>\n",
              "      <td>7.141062</td>\n",
              "    </tr>\n",
              "    <tr>\n",
              "      <th>min</th>\n",
              "      <td>0.006320</td>\n",
              "      <td>0.000000</td>\n",
              "      <td>0.460000</td>\n",
              "      <td>0.000000</td>\n",
              "      <td>0.385000</td>\n",
              "      <td>3.561000</td>\n",
              "      <td>2.900000</td>\n",
              "      <td>1.129600</td>\n",
              "      <td>1.000000</td>\n",
              "      <td>187.000000</td>\n",
              "      <td>12.600000</td>\n",
              "      <td>0.320000</td>\n",
              "      <td>1.730000</td>\n",
              "    </tr>\n",
              "    <tr>\n",
              "      <th>25%</th>\n",
              "      <td>0.082045</td>\n",
              "      <td>0.000000</td>\n",
              "      <td>5.190000</td>\n",
              "      <td>0.000000</td>\n",
              "      <td>0.449000</td>\n",
              "      <td>5.885500</td>\n",
              "      <td>45.025000</td>\n",
              "      <td>2.100175</td>\n",
              "      <td>4.000000</td>\n",
              "      <td>279.000000</td>\n",
              "      <td>17.400000</td>\n",
              "      <td>375.377500</td>\n",
              "      <td>6.950000</td>\n",
              "    </tr>\n",
              "    <tr>\n",
              "      <th>50%</th>\n",
              "      <td>0.256510</td>\n",
              "      <td>0.000000</td>\n",
              "      <td>9.690000</td>\n",
              "      <td>0.000000</td>\n",
              "      <td>0.538000</td>\n",
              "      <td>6.208500</td>\n",
              "      <td>77.500000</td>\n",
              "      <td>3.207450</td>\n",
              "      <td>5.000000</td>\n",
              "      <td>330.000000</td>\n",
              "      <td>19.050000</td>\n",
              "      <td>391.440000</td>\n",
              "      <td>11.360000</td>\n",
              "    </tr>\n",
              "    <tr>\n",
              "      <th>75%</th>\n",
              "      <td>3.677083</td>\n",
              "      <td>12.500000</td>\n",
              "      <td>18.100000</td>\n",
              "      <td>0.000000</td>\n",
              "      <td>0.624000</td>\n",
              "      <td>6.623500</td>\n",
              "      <td>94.075000</td>\n",
              "      <td>5.188425</td>\n",
              "      <td>24.000000</td>\n",
              "      <td>666.000000</td>\n",
              "      <td>20.200000</td>\n",
              "      <td>396.225000</td>\n",
              "      <td>16.955000</td>\n",
              "    </tr>\n",
              "    <tr>\n",
              "      <th>max</th>\n",
              "      <td>88.976200</td>\n",
              "      <td>100.000000</td>\n",
              "      <td>27.740000</td>\n",
              "      <td>1.000000</td>\n",
              "      <td>0.871000</td>\n",
              "      <td>8.780000</td>\n",
              "      <td>100.000000</td>\n",
              "      <td>12.126500</td>\n",
              "      <td>24.000000</td>\n",
              "      <td>711.000000</td>\n",
              "      <td>22.000000</td>\n",
              "      <td>396.900000</td>\n",
              "      <td>37.970000</td>\n",
              "    </tr>\n",
              "  </tbody>\n",
              "</table>\n",
              "</div>\n",
              "      <button class=\"colab-df-convert\" onclick=\"convertToInteractive('df-a43805c7-c793-4b73-bf5e-14f7119c1edb')\"\n",
              "              title=\"Convert this dataframe to an interactive table.\"\n",
              "              style=\"display:none;\">\n",
              "        \n",
              "  <svg xmlns=\"http://www.w3.org/2000/svg\" height=\"24px\"viewBox=\"0 0 24 24\"\n",
              "       width=\"24px\">\n",
              "    <path d=\"M0 0h24v24H0V0z\" fill=\"none\"/>\n",
              "    <path d=\"M18.56 5.44l.94 2.06.94-2.06 2.06-.94-2.06-.94-.94-2.06-.94 2.06-2.06.94zm-11 1L8.5 8.5l.94-2.06 2.06-.94-2.06-.94L8.5 2.5l-.94 2.06-2.06.94zm10 10l.94 2.06.94-2.06 2.06-.94-2.06-.94-.94-2.06-.94 2.06-2.06.94z\"/><path d=\"M17.41 7.96l-1.37-1.37c-.4-.4-.92-.59-1.43-.59-.52 0-1.04.2-1.43.59L10.3 9.45l-7.72 7.72c-.78.78-.78 2.05 0 2.83L4 21.41c.39.39.9.59 1.41.59.51 0 1.02-.2 1.41-.59l7.78-7.78 2.81-2.81c.8-.78.8-2.07 0-2.86zM5.41 20L4 18.59l7.72-7.72 1.47 1.35L5.41 20z\"/>\n",
              "  </svg>\n",
              "      </button>\n",
              "      \n",
              "  <style>\n",
              "    .colab-df-container {\n",
              "      display:flex;\n",
              "      flex-wrap:wrap;\n",
              "      gap: 12px;\n",
              "    }\n",
              "\n",
              "    .colab-df-convert {\n",
              "      background-color: #E8F0FE;\n",
              "      border: none;\n",
              "      border-radius: 50%;\n",
              "      cursor: pointer;\n",
              "      display: none;\n",
              "      fill: #1967D2;\n",
              "      height: 32px;\n",
              "      padding: 0 0 0 0;\n",
              "      width: 32px;\n",
              "    }\n",
              "\n",
              "    .colab-df-convert:hover {\n",
              "      background-color: #E2EBFA;\n",
              "      box-shadow: 0px 1px 2px rgba(60, 64, 67, 0.3), 0px 1px 3px 1px rgba(60, 64, 67, 0.15);\n",
              "      fill: #174EA6;\n",
              "    }\n",
              "\n",
              "    [theme=dark] .colab-df-convert {\n",
              "      background-color: #3B4455;\n",
              "      fill: #D2E3FC;\n",
              "    }\n",
              "\n",
              "    [theme=dark] .colab-df-convert:hover {\n",
              "      background-color: #434B5C;\n",
              "      box-shadow: 0px 1px 3px 1px rgba(0, 0, 0, 0.15);\n",
              "      filter: drop-shadow(0px 1px 2px rgba(0, 0, 0, 0.3));\n",
              "      fill: #FFFFFF;\n",
              "    }\n",
              "  </style>\n",
              "\n",
              "      <script>\n",
              "        const buttonEl =\n",
              "          document.querySelector('#df-a43805c7-c793-4b73-bf5e-14f7119c1edb button.colab-df-convert');\n",
              "        buttonEl.style.display =\n",
              "          google.colab.kernel.accessAllowed ? 'block' : 'none';\n",
              "\n",
              "        async function convertToInteractive(key) {\n",
              "          const element = document.querySelector('#df-a43805c7-c793-4b73-bf5e-14f7119c1edb');\n",
              "          const dataTable =\n",
              "            await google.colab.kernel.invokeFunction('convertToInteractive',\n",
              "                                                     [key], {});\n",
              "          if (!dataTable) return;\n",
              "\n",
              "          const docLinkHtml = 'Like what you see? Visit the ' +\n",
              "            '<a target=\"_blank\" href=https://colab.research.google.com/notebooks/data_table.ipynb>data table notebook</a>'\n",
              "            + ' to learn more about interactive tables.';\n",
              "          element.innerHTML = '';\n",
              "          dataTable['output_type'] = 'display_data';\n",
              "          await google.colab.output.renderOutput(dataTable, element);\n",
              "          const docLink = document.createElement('div');\n",
              "          docLink.innerHTML = docLinkHtml;\n",
              "          element.appendChild(docLink);\n",
              "        }\n",
              "      </script>\n",
              "    </div>\n",
              "  </div>\n",
              "  "
            ]
          },
          "metadata": {},
          "execution_count": 8
        }
      ]
    },
    {
      "cell_type": "code",
      "source": [
        "# Histogram Distribution\n",
        "import matplotlib.pylab as plt\n",
        "for name in data.columns:\n",
        "    plt.title(name)\n",
        "    plt.hist(data[name], bins=50)\n",
        "    plt.show()"
      ],
      "metadata": {
        "colab": {
          "base_uri": "https://localhost:8080/",
          "height": 1000
        },
        "id": "_NI8gZsoUxt4",
        "outputId": "7d476b5a-96b8-4420-c7a6-bffb9c3171bd"
      },
      "execution_count": null,
      "outputs": [
        {
          "output_type": "display_data",
          "data": {
            "text/plain": [
              "<Figure size 432x288 with 1 Axes>"
            ],
            "image/png": "[encoded data removed]"
          },
          "metadata": {
            "needs_background": "light"
          }
        },
        {
          "output_type": "display_data",
          "data": {
            "text/plain": [
              "<Figure size 432x288 with 1 Axes>"
            ],
            "image/png": "[encoded data removed]"
          },
          "metadata": {
            "needs_background": "light"
          }
        },
        {
          "output_type": "display_data",
          "data": {
            "text/plain": [
              "<Figure size 432x288 with 1 Axes>"
            ],
            "image/png": "[encoded data removed]"
          },
          "metadata": {
            "needs_background": "light"
          }
        },
        {
          "output_type": "display_data",
          "data": {
            "text/plain": [
              "<Figure size 432x288 with 1 Axes>"
            ],
            "image/png": "[encoded data removed]"
          },
          "metadata": {
            "needs_background": "light"
          }
        },
        {
          "output_type": "display_data",
          "data": {
            "text/plain": [
              "<Figure size 432x288 with 1 Axes>"
            ],
            "image/png": "[encoded data removed]"
          },
          "metadata": {
            "needs_background": "light"
          }
        },
        {
          "output_type": "display_data",
          "data": {
            "text/plain": [
              "<Figure size 432x288 with 1 Axes>"
            ],
            "image/png": "[encoded data removed]"
          },
          "metadata": {
            "needs_background": "light"
          }
        },
        {
          "output_type": "display_data",
          "data": {
            "text/plain": [
              "<Figure size 432x288 with 1 Axes>"
            ],
            "image/png": "[encoded data removed]"
          },
          "metadata": {
            "needs_background": "light"
          }
        },
        {
          "output_type": "display_data",
          "data": {
            "text/plain": [
              "<Figure size 432x288 with 1 Axes>"
            ],
            "image/png": "[encoded data removed]"
          },
          "metadata": {
            "needs_background": "light"
          }
        },
        {
          "output_type": "display_data",
          "data": {
            "text/plain": [
              "<Figure size 432x288 with 1 Axes>"
            ],
            "image/png": "[encoded data removed]"
          },
          "metadata": {
            "needs_background": "light"
          }
        },
        {
          "output_type": "display_data",
          "data": {
            "text/plain": [
              "<Figure size 432x288 with 1 Axes>"
            ],
            "image/png": "[encoded data removed]"
          },
          "metadata": {
            "needs_background": "light"
          }
        },
        {
          "output_type": "display_data",
          "data": {
            "text/plain": [
              "<Figure size 432x288 with 1 Axes>"
            ],
            "image/png": "[encoded data removed]"
          },
          "metadata": {
            "needs_background": "light"
          }
        },
        {
          "output_type": "display_data",
          "data": {
            "text/plain": [
              "<Figure size 432x288 with 1 Axes>"
            ],
            "image/png": "[encoded data removed]"
          },
          "metadata": {
            "needs_background": "light"
          }
        },
        {
          "output_type": "display_data",
          "data": {
            "text/plain": [
              "<Figure size 432x288 with 1 Axes>"
            ],
            "image/png": "[encoded data removed]"
          },
          "metadata": {
            "needs_background": "light"
          }
        }
      ]
    },
    {
      "cell_type": "markdown",
      "source": [
        "From the above figure, we can infer that the data of “CHAS” and “RAD” are NOT continuous values. Generally, such data that is not continuous is called a categorical variable. For the above reasons, let’s check the categorical variables individually."
      ],
      "metadata": {
        "id": "4MtDuIS7VX7t"
      }
    },
    {
      "cell_type": "code",
      "source": [
        "data['RAD'].value_counts()"
      ],
      "metadata": {
        "colab": {
          "base_uri": "https://localhost:8080/"
        },
        "id": "sdlmNZQUVT2i",
        "outputId": "a7f666da-c536-4647-fe31-f2fe10ed084e"
      },
      "execution_count": null,
      "outputs": [
        {
          "output_type": "execute_result",
          "data": {
            "text/plain": [
              "24.0    132\n",
              "5.0     115\n",
              "4.0     110\n",
              "3.0      38\n",
              "6.0      26\n",
              "2.0      24\n",
              "8.0      24\n",
              "1.0      20\n",
              "7.0      17\n",
              "Name: RAD, dtype: int64"
            ]
          },
          "metadata": {},
          "execution_count": 10
        }
      ]
    },
    {
      "cell_type": "code",
      "source": [
        "# It is important to check the data visually.\n",
        "data['CHAS'].value_counts().plot.bar(title=\"CHAS\")"
      ],
      "metadata": {
        "colab": {
          "base_uri": "https://localhost:8080/",
          "height": 304
        },
        "id": "jkkcK8E3YSRs",
        "outputId": "0d83f62f-90ac-48cc-9897-844aebbec9d2"
      },
      "execution_count": null,
      "outputs": [
        {
          "output_type": "execute_result",
          "data": {
            "text/plain": [
              "<matplotlib.axes._subplots.AxesSubplot at 0x7fd140b2b350>"
            ]
          },
          "metadata": {},
          "execution_count": 11
        },
        {
          "output_type": "display_data",
          "data": {
            "text/plain": [
              "<Figure size 432x288 with 1 Axes>"
            ],
            "image/png": "[encoded data removed]"
          },
          "metadata": {
            "needs_background": "light"
          }
        }
      ]
    },
    {
      "cell_type": "code",
      "source": [
        "data['RAD'].value_counts().plot.bar(title=\"RAD\")"
      ],
      "metadata": {
        "colab": {
          "base_uri": "https://localhost:8080/",
          "height": 310
        },
        "id": "dugrXdibYfaM",
        "outputId": "b00562dd-35c9-4d1c-f0a0-27fcd6ea577f"
      },
      "execution_count": null,
      "outputs": [
        {
          "output_type": "execute_result",
          "data": {
            "text/plain": [
              "<matplotlib.axes._subplots.AxesSubplot at 0x7fd140510410>"
            ]
          },
          "metadata": {},
          "execution_count": 12
        },
        {
          "output_type": "display_data",
          "data": {
            "text/plain": [
              "<Figure size 432x288 with 1 Axes>"
            ],
            "image/png": "[encoded data removed]"
          },
          "metadata": {
            "needs_background": "light"
          }
        }
      ]
    },
    {
      "cell_type": "code",
      "source": [
        "# Correlation of Variables\n",
        "data.corr()"
      ],
      "metadata": {
        "colab": {
          "base_uri": "https://localhost:8080/",
          "height": 457
        },
        "id": "Bkb-XkJfYlTD",
        "outputId": "bbda672f-cf98-4dd5-cc67-24774e872455"
      },
      "execution_count": null,
      "outputs": [
        {
          "output_type": "execute_result",
          "data": {
            "text/plain": [
              "             CRIM        ZN     INDUS      CHAS       NOX        RM       AGE  \\\n",
              "CRIM     1.000000 -0.200469  0.406583 -0.055892  0.420972 -0.219247  0.352734   \n",
              "ZN      -0.200469  1.000000 -0.533828 -0.042697 -0.516604  0.311991 -0.569537   \n",
              "INDUS    0.406583 -0.533828  1.000000  0.062938  0.763651 -0.391676  0.644779   \n",
              "CHAS    -0.055892 -0.042697  0.062938  1.000000  0.091203  0.091251  0.086518   \n",
              "NOX      0.420972 -0.516604  0.763651  0.091203  1.000000 -0.302188  0.731470   \n",
              "RM      -0.219247  0.311991 -0.391676  0.091251 -0.302188  1.000000 -0.240265   \n",
              "AGE      0.352734 -0.569537  0.644779  0.086518  0.731470 -0.240265  1.000000   \n",
              "DIS     -0.379670  0.664408 -0.708027 -0.099176 -0.769230  0.205246 -0.747881   \n",
              "RAD      0.625505 -0.311948  0.595129 -0.007368  0.611441 -0.209847  0.456022   \n",
              "TAX      0.582764 -0.314563  0.720760 -0.035587  0.668023 -0.292048  0.506456   \n",
              "PTRATIO  0.289946 -0.391679  0.383248 -0.121515  0.188933 -0.355501  0.261515   \n",
              "B       -0.385064  0.175520 -0.356977  0.048788 -0.380051  0.128069 -0.273534   \n",
              "LSTAT    0.455621 -0.412995  0.603800 -0.053929  0.590879 -0.613808  0.602339   \n",
              "\n",
              "              DIS       RAD       TAX   PTRATIO         B     LSTAT  \n",
              "CRIM    -0.379670  0.625505  0.582764  0.289946 -0.385064  0.455621  \n",
              "ZN       0.664408 -0.311948 -0.314563 -0.391679  0.175520 -0.412995  \n",
              "INDUS   -0.708027  0.595129  0.720760  0.383248 -0.356977  0.603800  \n",
              "CHAS    -0.099176 -0.007368 -0.035587 -0.121515  0.048788 -0.053929  \n",
              "NOX     -0.769230  0.611441  0.668023  0.188933 -0.380051  0.590879  \n",
              "RM       0.205246 -0.209847 -0.292048 -0.355501  0.128069 -0.613808  \n",
              "AGE     -0.747881  0.456022  0.506456  0.261515 -0.273534  0.602339  \n",
              "DIS      1.000000 -0.494588 -0.534432 -0.232471  0.291512 -0.496996  \n",
              "RAD     -0.494588  1.000000  0.910228  0.464741 -0.444413  0.488676  \n",
              "TAX     -0.534432  0.910228  1.000000  0.460853 -0.441808  0.543993  \n",
              "PTRATIO -0.232471  0.464741  0.460853  1.000000 -0.177383  0.374044  \n",
              "B        0.291512 -0.444413 -0.441808 -0.177383  1.000000 -0.366087  \n",
              "LSTAT   -0.496996  0.488676  0.543993  0.374044 -0.366087  1.000000  "
            ],
            "text/html": [
              "\n",
              "  <div id=\"df-2930f2f3-89c9-45fd-9715-ca3fd2ab2028\">\n",
              "    <div class=\"colab-df-container\">\n",
              "      <div>\n",
              "<style scoped>\n",
              "    .dataframe tbody tr th:only-of-type {\n",
              "        vertical-align: middle;\n",
              "    }\n",
              "\n",
              "    .dataframe tbody tr th {\n",
              "        vertical-align: top;\n",
              "    }\n",
              "\n",
              "    .dataframe thead th {\n",
              "        text-align: right;\n",
              "    }\n",
              "</style>\n",
              "<table border=\"1\" class=\"dataframe\">\n",
              "  <thead>\n",
              "    <tr style=\"text-align: right;\">\n",
              "      <th></th>\n",
              "      <th>CRIM</th>\n",
              "      <th>ZN</th>\n",
              "      <th>INDUS</th>\n",
              "      <th>CHAS</th>\n",
              "      <th>NOX</th>\n",
              "      <th>RM</th>\n",
              "      <th>AGE</th>\n",
              "      <th>DIS</th>\n",
              "      <th>RAD</th>\n",
              "      <th>TAX</th>\n",
              "      <th>PTRATIO</th>\n",
              "      <th>B</th>\n",
              "      <th>LSTAT</th>\n",
              "    </tr>\n",
              "  </thead>\n",
              "  <tbody>\n",
              "    <tr>\n",
              "      <th>CRIM</th>\n",
              "      <td>1.000000</td>\n",
              "      <td>-0.200469</td>\n",
              "      <td>0.406583</td>\n",
              "      <td>-0.055892</td>\n",
              "      <td>0.420972</td>\n",
              "      <td>-0.219247</td>\n",
              "      <td>0.352734</td>\n",
              "      <td>-0.379670</td>\n",
              "      <td>0.625505</td>\n",
              "      <td>0.582764</td>\n",
              "      <td>0.289946</td>\n",
              "      <td>-0.385064</td>\n",
              "      <td>0.455621</td>\n",
              "    </tr>\n",
              "    <tr>\n",
              "      <th>ZN</th>\n",
              "      <td>-0.200469</td>\n",
              "      <td>1.000000</td>\n",
              "      <td>-0.533828</td>\n",
              "      <td>-0.042697</td>\n",
              "      <td>-0.516604</td>\n",
              "      <td>0.311991</td>\n",
              "      <td>-0.569537</td>\n",
              "      <td>0.664408</td>\n",
              "      <td>-0.311948</td>\n",
              "      <td>-0.314563</td>\n",
              "      <td>-0.391679</td>\n",
              "      <td>0.175520</td>\n",
              "      <td>-0.412995</td>\n",
              "    </tr>\n",
              "    <tr>\n",
              "      <th>INDUS</th>\n",
              "      <td>0.406583</td>\n",
              "      <td>-0.533828</td>\n",
              "      <td>1.000000</td>\n",
              "      <td>0.062938</td>\n",
              "      <td>0.763651</td>\n",
              "      <td>-0.391676</td>\n",
              "      <td>0.644779</td>\n",
              "      <td>-0.708027</td>\n",
              "      <td>0.595129</td>\n",
              "      <td>0.720760</td>\n",
              "      <td>0.383248</td>\n",
              "      <td>-0.356977</td>\n",
              "      <td>0.603800</td>\n",
              "    </tr>\n",
              "    <tr>\n",
              "      <th>CHAS</th>\n",
              "      <td>-0.055892</td>\n",
              "      <td>-0.042697</td>\n",
              "      <td>0.062938</td>\n",
              "      <td>1.000000</td>\n",
              "      <td>0.091203</td>\n",
              "      <td>0.091251</td>\n",
              "      <td>0.086518</td>\n",
              "      <td>-0.099176</td>\n",
              "      <td>-0.007368</td>\n",
              "      <td>-0.035587</td>\n",
              "      <td>-0.121515</td>\n",
              "      <td>0.048788</td>\n",
              "      <td>-0.053929</td>\n",
              "    </tr>\n",
              "    <tr>\n",
              "      <th>NOX</th>\n",
              "      <td>0.420972</td>\n",
              "      <td>-0.516604</td>\n",
              "      <td>0.763651</td>\n",
              "      <td>0.091203</td>\n",
              "      <td>1.000000</td>\n",
              "      <td>-0.302188</td>\n",
              "      <td>0.731470</td>\n",
              "      <td>-0.769230</td>\n",
              "      <td>0.611441</td>\n",
              "      <td>0.668023</td>\n",
              "      <td>0.188933</td>\n",
              "      <td>-0.380051</td>\n",
              "      <td>0.590879</td>\n",
              "    </tr>\n",
              "    <tr>\n",
              "      <th>RM</th>\n",
              "      <td>-0.219247</td>\n",
              "      <td>0.311991</td>\n",
              "      <td>-0.391676</td>\n",
              "      <td>0.091251</td>\n",
              "      <td>-0.302188</td>\n",
              "      <td>1.000000</td>\n",
              "      <td>-0.240265</td>\n",
              "      <td>0.205246</td>\n",
              "      <td>-0.209847</td>\n",
              "      <td>-0.292048</td>\n",
              "      <td>-0.355501</td>\n",
              "      <td>0.128069</td>\n",
              "      <td>-0.613808</td>\n",
              "    </tr>\n",
              "    <tr>\n",
              "      <th>AGE</th>\n",
              "      <td>0.352734</td>\n",
              "      <td>-0.569537</td>\n",
              "      <td>0.644779</td>\n",
              "      <td>0.086518</td>\n",
              "      <td>0.731470</td>\n",
              "      <td>-0.240265</td>\n",
              "      <td>1.000000</td>\n",
              "      <td>-0.747881</td>\n",
              "      <td>0.456022</td>\n",
              "      <td>0.506456</td>\n",
              "      <td>0.261515</td>\n",
              "      <td>-0.273534</td>\n",
              "      <td>0.602339</td>\n",
              "    </tr>\n",
              "    <tr>\n",
              "      <th>DIS</th>\n",
              "      <td>-0.379670</td>\n",
              "      <td>0.664408</td>\n",
              "      <td>-0.708027</td>\n",
              "      <td>-0.099176</td>\n",
              "      <td>-0.769230</td>\n",
              "      <td>0.205246</td>\n",
              "      <td>-0.747881</td>\n",
              "      <td>1.000000</td>\n",
              "      <td>-0.494588</td>\n",
              "      <td>-0.534432</td>\n",
              "      <td>-0.232471</td>\n",
              "      <td>0.291512</td>\n",
              "      <td>-0.496996</td>\n",
              "    </tr>\n",
              "    <tr>\n",
              "      <th>RAD</th>\n",
              "      <td>0.625505</td>\n",
              "      <td>-0.311948</td>\n",
              "      <td>0.595129</td>\n",
              "      <td>-0.007368</td>\n",
              "      <td>0.611441</td>\n",
              "      <td>-0.209847</td>\n",
              "      <td>0.456022</td>\n",
              "      <td>-0.494588</td>\n",
              "      <td>1.000000</td>\n",
              "      <td>0.910228</td>\n",
              "      <td>0.464741</td>\n",
              "      <td>-0.444413</td>\n",
              "      <td>0.488676</td>\n",
              "    </tr>\n",
              "    <tr>\n",
              "      <th>TAX</th>\n",
              "      <td>0.582764</td>\n",
              "      <td>-0.314563</td>\n",
              "      <td>0.720760</td>\n",
              "      <td>-0.035587</td>\n",
              "      <td>0.668023</td>\n",
              "      <td>-0.292048</td>\n",
              "      <td>0.506456</td>\n",
              "      <td>-0.534432</td>\n",
              "      <td>0.910228</td>\n",
              "      <td>1.000000</td>\n",
              "      <td>0.460853</td>\n",
              "      <td>-0.441808</td>\n",
              "      <td>0.543993</td>\n",
              "    </tr>\n",
              "    <tr>\n",
              "      <th>PTRATIO</th>\n",
              "      <td>0.289946</td>\n",
              "      <td>-0.391679</td>\n",
              "      <td>0.383248</td>\n",
              "      <td>-0.121515</td>\n",
              "      <td>0.188933</td>\n",
              "      <td>-0.355501</td>\n",
              "      <td>0.261515</td>\n",
              "      <td>-0.232471</td>\n",
              "      <td>0.464741</td>\n",
              "      <td>0.460853</td>\n",
              "      <td>1.000000</td>\n",
              "      <td>-0.177383</td>\n",
              "      <td>0.374044</td>\n",
              "    </tr>\n",
              "    <tr>\n",
              "      <th>B</th>\n",
              "      <td>-0.385064</td>\n",
              "      <td>0.175520</td>\n",
              "      <td>-0.356977</td>\n",
              "      <td>0.048788</td>\n",
              "      <td>-0.380051</td>\n",
              "      <td>0.128069</td>\n",
              "      <td>-0.273534</td>\n",
              "      <td>0.291512</td>\n",
              "      <td>-0.444413</td>\n",
              "      <td>-0.441808</td>\n",
              "      <td>-0.177383</td>\n",
              "      <td>1.000000</td>\n",
              "      <td>-0.366087</td>\n",
              "    </tr>\n",
              "    <tr>\n",
              "      <th>LSTAT</th>\n",
              "      <td>0.455621</td>\n",
              "      <td>-0.412995</td>\n",
              "      <td>0.603800</td>\n",
              "      <td>-0.053929</td>\n",
              "      <td>0.590879</td>\n",
              "      <td>-0.613808</td>\n",
              "      <td>0.602339</td>\n",
              "      <td>-0.496996</td>\n",
              "      <td>0.488676</td>\n",
              "      <td>0.543993</td>\n",
              "      <td>0.374044</td>\n",
              "      <td>-0.366087</td>\n",
              "      <td>1.000000</td>\n",
              "    </tr>\n",
              "  </tbody>\n",
              "</table>\n",
              "</div>\n",
              "      <button class=\"colab-df-convert\" onclick=\"convertToInteractive('df-2930f2f3-89c9-45fd-9715-ca3fd2ab2028')\"\n",
              "              title=\"Convert this dataframe to an interactive table.\"\n",
              "              style=\"display:none;\">\n",
              "        \n",
              "  <svg xmlns=\"http://www.w3.org/2000/svg\" height=\"24px\"viewBox=\"0 0 24 24\"\n",
              "       width=\"24px\">\n",
              "    <path d=\"M0 0h24v24H0V0z\" fill=\"none\"/>\n",
              "    <path d=\"M18.56 5.44l.94 2.06.94-2.06 2.06-.94-2.06-.94-.94-2.06-.94 2.06-2.06.94zm-11 1L8.5 8.5l.94-2.06 2.06-.94-2.06-.94L8.5 2.5l-.94 2.06-2.06.94zm10 10l.94 2.06.94-2.06 2.06-.94-2.06-.94-.94-2.06-.94 2.06-2.06.94z\"/><path d=\"M17.41 7.96l-1.37-1.37c-.4-.4-.92-.59-1.43-.59-.52 0-1.04.2-1.43.59L10.3 9.45l-7.72 7.72c-.78.78-.78 2.05 0 2.83L4 21.41c.39.39.9.59 1.41.59.51 0 1.02-.2 1.41-.59l7.78-7.78 2.81-2.81c.8-.78.8-2.07 0-2.86zM5.41 20L4 18.59l7.72-7.72 1.47 1.35L5.41 20z\"/>\n",
              "  </svg>\n",
              "      </button>\n",
              "      \n",
              "  <style>\n",
              "    .colab-df-container {\n",
              "      display:flex;\n",
              "      flex-wrap:wrap;\n",
              "      gap: 12px;\n",
              "    }\n",
              "\n",
              "    .colab-df-convert {\n",
              "      background-color: #E8F0FE;\n",
              "      border: none;\n",
              "      border-radius: 50%;\n",
              "      cursor: pointer;\n",
              "      display: none;\n",
              "      fill: #1967D2;\n",
              "      height: 32px;\n",
              "      padding: 0 0 0 0;\n",
              "      width: 32px;\n",
              "    }\n",
              "\n",
              "    .colab-df-convert:hover {\n",
              "      background-color: #E2EBFA;\n",
              "      box-shadow: 0px 1px 2px rgba(60, 64, 67, 0.3), 0px 1px 3px 1px rgba(60, 64, 67, 0.15);\n",
              "      fill: #174EA6;\n",
              "    }\n",
              "\n",
              "    [theme=dark] .colab-df-convert {\n",
              "      background-color: #3B4455;\n",
              "      fill: #D2E3FC;\n",
              "    }\n",
              "\n",
              "    [theme=dark] .colab-df-convert:hover {\n",
              "      background-color: #434B5C;\n",
              "      box-shadow: 0px 1px 3px 1px rgba(0, 0, 0, 0.15);\n",
              "      filter: drop-shadow(0px 1px 2px rgba(0, 0, 0, 0.3));\n",
              "      fill: #FFFFFF;\n",
              "    }\n",
              "  </style>\n",
              "\n",
              "      <script>\n",
              "        const buttonEl =\n",
              "          document.querySelector('#df-2930f2f3-89c9-45fd-9715-ca3fd2ab2028 button.colab-df-convert');\n",
              "        buttonEl.style.display =\n",
              "          google.colab.kernel.accessAllowed ? 'block' : 'none';\n",
              "\n",
              "        async function convertToInteractive(key) {\n",
              "          const element = document.querySelector('#df-2930f2f3-89c9-45fd-9715-ca3fd2ab2028');\n",
              "          const dataTable =\n",
              "            await google.colab.kernel.invokeFunction('convertToInteractive',\n",
              "                                                     [key], {});\n",
              "          if (!dataTable) return;\n",
              "\n",
              "          const docLinkHtml = 'Like what you see? Visit the ' +\n",
              "            '<a target=\"_blank\" href=https://colab.research.google.com/notebooks/data_table.ipynb>data table notebook</a>'\n",
              "            + ' to learn more about interactive tables.';\n",
              "          element.innerHTML = '';\n",
              "          dataTable['output_type'] = 'display_data';\n",
              "          await google.colab.output.renderOutput(dataTable, element);\n",
              "          const docLink = document.createElement('div');\n",
              "          docLink.innerHTML = docLinkHtml;\n",
              "          element.appendChild(docLink);\n",
              "        }\n",
              "      </script>\n",
              "    </div>\n",
              "  </div>\n",
              "  "
            ]
          },
          "metadata": {},
          "execution_count": 13
        }
      ]
    },
    {
      "cell_type": "code",
      "source": [
        "import seaborn as sns"
      ],
      "metadata": {
        "id": "Fm-ff04BY6Ps"
      },
      "execution_count": null,
      "outputs": []
    },
    {
      "cell_type": "code",
      "source": [
        "data['MEDV'] = housing.target\n",
        "correlation_matrix = data.corr().round(2)\n",
        "# annot = True to print the values inside the square\n",
        "fig, ax = plt.subplots(figsize=(8,8))\n",
        "sns.heatmap(data=correlation_matrix, annot=True,ax=ax)"
      ],
      "metadata": {
        "colab": {
          "base_uri": "https://localhost:8080/",
          "height": 535
        },
        "id": "Jw6ICVS8uOJ2",
        "outputId": "e3f1fb8e-c84a-410a-9083-3bc578d784d3"
      },
      "execution_count": null,
      "outputs": [
        {
          "output_type": "execute_result",
          "data": {
            "text/plain": [
              "<matplotlib.axes._subplots.AxesSubplot at 0x7fd1404a6f10>"
            ]
          },
          "metadata": {},
          "execution_count": 15
        },
        {
          "output_type": "display_data",
          "data": {
            "text/plain": [
              "<Figure size 576x576 with 2 Axes>"
            ],
            "image/png": "[encoded data removed]"
          },
          "metadata": {
            "needs_background": "light"
          }
        }
      ]
    },
    {
      "cell_type": "markdown",
      "source": [
        "Correlation of each column with target column."
      ],
      "metadata": {
        "id": "moj2yFiZwaUG"
      }
    },
    {
      "cell_type": "code",
      "source": [
        "sns.pairplot(data=data,y_vars=['MEDV'],x_vars=list(housing[\"feature_names\"]),height=2)"
      ],
      "metadata": {
        "colab": {
          "base_uri": "https://localhost:8080/",
          "height": 132
        },
        "id": "pdg5T_6Wvc8U",
        "outputId": "9f94f758-a3f9-46e5-bb83-89ade2dad7ec"
      },
      "execution_count": null,
      "outputs": [
        {
          "output_type": "execute_result",
          "data": {
            "text/plain": [
              "<seaborn.axisgrid.PairGrid at 0x7fd1408f4810>"
            ]
          },
          "metadata": {},
          "execution_count": 16
        },
        {
          "output_type": "display_data",
          "data": {
            "text/plain": [
              "<Figure size 1872x144 with 13 Axes>"
            ],
            "image/png": "[encoded data removed]"
          },
          "metadata": {
            "needs_background": "light"
          }
        }
      ]
    },
    {
      "cell_type": "markdown",
      "source": [
        "# Part 2: Perform data pre-processing operations like standardization and splitting (80:20) of data."
      ],
      "metadata": {
        "id": "n098e7DcwjAR"
      }
    },
    {
      "cell_type": "code",
      "source": [
        "# Standardize and Splitting Dataset\n",
        "def train_test_split(df1):\n",
        "    shuffle_df1 = df1.sample(frac=1)\n",
        "    train_size = int(0.8 * len(df1))\n",
        "    df_train = shuffle_df1[:train_size]\n",
        "    df_test = shuffle_df1[train_size:]\n",
        "    return df_train,df_test\n",
        "def dataset_split(df):\n",
        "    X = df.drop([df.columns[-1]], axis = 1)\n",
        "    y = df[df.columns[-1]]\n",
        "    return X, y\n",
        "\n",
        "# Standardize\n",
        "for column in data:\n",
        "    data[column] = (data[column] - data[column].mean()) / data[column].std()\n",
        "data['Prices']=target\n",
        "data_train,data_test=train_test_split(data)\n",
        "X_train,y_train=dataset_split(data_train)\n",
        "X_test,y_test=dataset_split(data_test)\n",
        "X_test = X_test.drop(columns=['MEDV'])\n",
        "X_train = X_train.drop(columns=['MEDV'])"
      ],
      "metadata": {
        "id": "EabY9_0-rrby"
      },
      "execution_count": null,
      "outputs": []
    },
    {
      "cell_type": "code",
      "source": [
        "X_train=X_train.to_numpy()\n",
        "X_test = X_test.to_numpy()"
      ],
      "metadata": {
        "id": "JXO6ITbFAYRN"
      },
      "execution_count": null,
      "outputs": []
    },
    {
      "cell_type": "code",
      "source": [
        "y_train=y_train.to_numpy()\n",
        "y_test=y_test.to_numpy()"
      ],
      "metadata": {
        "id": "mmRu_UB4BFCz"
      },
      "execution_count": null,
      "outputs": []
    },
    {
      "cell_type": "code",
      "source": [
        "y_test = (y_test-np.mean(y_test,axis=0))/np.std(y_test,axis=0)\n",
        "y_train = (y_train-np.mean(y_train,axis=0))/np.std(y_train,axis=0)"
      ],
      "metadata": {
        "id": "dexOqgJddOMV"
      },
      "execution_count": null,
      "outputs": []
    },
    {
      "cell_type": "code",
      "source": [
        "y_train = y_train.reshape(1,y_train.shape[0])\n",
        "y_test=y_test.reshape(1,y_test.shape[0])"
      ],
      "metadata": {
        "id": "y4E61UpKBUav"
      },
      "execution_count": null,
      "outputs": []
    },
    {
      "cell_type": "code",
      "source": [
        "print(type(X_train), X_train.shape)\n",
        "print(type(y_train), y_train.shape)\n",
        "print(type(X_test), X_test.shape)\n",
        "print(type(y_test), y_test.shape)"
      ],
      "metadata": {
        "colab": {
          "base_uri": "https://localhost:8080/"
        },
        "id": "pSpayjgu8pAp",
        "outputId": "08d2ef0c-c166-44f8-e832-2345b413fd1c"
      },
      "execution_count": null,
      "outputs": [
        {
          "output_type": "stream",
          "name": "stdout",
          "text": [
            "<class 'numpy.ndarray'> (404, 13)\n",
            "<class 'numpy.ndarray'> (1, 404)\n",
            "<class 'numpy.ndarray'> (102, 13)\n",
            "<class 'numpy.ndarray'> (1, 102)\n"
          ]
        }
      ]
    },
    {
      "cell_type": "markdown",
      "source": [
        "# Part 3:Implement the three layer fully connected MLP feedforward model with only one hidden layer having 15 hidden units + bias. \n",
        "  \n",
        "# Part 4: Implement Back-propagation algorithm to train the parameters of the MLP created in the previous section.\n",
        "\n",
        "\n",
        "Both part in one section"
      ],
      "metadata": {
        "id": "MoiCvEdRwwn4"
      }
    },
    {
      "cell_type": "code",
      "source": [
        "# We will perform customized forward and backward propagation\n",
        "\n",
        "\n",
        "\n",
        "\n",
        "# Define Abstract class\n",
        "# class Layer():\n",
        "\n",
        "\n",
        "# Define Fully connected Layer\n",
        "# class FCLayer():\n",
        "\n",
        "  # Forward Propagation\n",
        "\n",
        "  # Backward Propagation\n",
        "\n",
        "\n",
        "\n",
        "# Activation Layer (ReLU) \n",
        "# class ActivationLayer():\n",
        "    # Forward Propagation\n",
        "\n",
        "    # Backward Propagation\n",
        "\n",
        "# Define activation function and its derivative\n",
        "# Logistic\n",
        "\n",
        "\n",
        "# Hyperbolic tangent\n",
        "\n",
        "\n",
        "# Rectified linear\n",
        "class MLP :\n",
        "  def create(self,input_size,output_size,hidden_dims,output_type,seed=None,activation='sigmoid'):\n",
        "    self.layer_dims=[input_size]+hidden_dims+[output_size]\n",
        "    self.W = {}\n",
        "    self.b = {}\n",
        "    self.activation = activation\n",
        "    self.output_type = output_type\n",
        "    self.train_cost=[]\n",
        "    self.L = len(self.layer_dims)-1\n",
        "\n",
        "    if seed == None:\n",
        "      np.random.seed(seed)\n",
        "\n",
        "    for i in range(self.L):\n",
        "      self.W[i+1] = np.random.randn(self.layer_dims[i+1],self.layer_dims[i])\n",
        "      self.b[i+1] = np.zeros((self.layer_dims[i+1],1))\n",
        "    for i in range(self.L):\n",
        "      # self.W[i+1] = self.W[i+1]*np.sqrt(2/(self.layer_dims[i]))\n",
        "      self.W[i+1] = self.W[i+1]*np.sqrt(1/(self.layer_dims[i]))\n",
        "\n",
        "  def sigmoid(self,X):\n",
        "    return 1/(1+np.exp(-X))\n",
        "\n",
        "  def sigmoid_grad(self,X):\n",
        "    return self.sigmoid(X)*(1-self.sigmoid(X))\n",
        "\n",
        "  def tanh(self,X):\n",
        "    return np.tanh(X)\n",
        "\n",
        "  def tanh_grad(self,X):\n",
        "    return 1-((self.tanh(X))**2)\n",
        "\n",
        "  def forward_propagation(self,X,dropout=False):\n",
        "    self.Z = {}\n",
        "    self.A = {}\n",
        "\n",
        "    self.A[0] = X\n",
        "\n",
        "    for i in range (len(self.layer_dims)-2):\n",
        "      self.Z[i+1] = np.matmul(self.W[i+1],self.A[i])+self.b[i+1]\n",
        "      _ = \"self.A[i+1] = self.\"+self.activation+\"(self.Z[i+1])\"\n",
        "      exec(_)\n",
        "\n",
        "    self.Z[self.L] = np.matmul(self.W[self.L],self.A[len(self.layer_dims)-2])+self.b[self.L]\n",
        "    self.A[self.L] = self.Z[self.L] \n",
        "    return self.A\n",
        "\n",
        "\n",
        "# Define Loss function (Use mean square error)\n",
        "  def compute_cost(self,Y_pred,Y_true):\n",
        "    cost =(1/(2*Y_true.shape[1]))*np.sum((Y_pred-Y_true)**2)\n",
        "    return cost\n",
        "  \n",
        "  \n",
        "  # Implement Backpropagation\n",
        "  def backward_propagation(self,Y):\n",
        "    self.dZ = {}\n",
        "    self.dA = {}\n",
        "    self.dW = {}\n",
        "    self.db = {}\n",
        "\n",
        "    self.dZ[self.L] = self.A[self.L]-Y\n",
        "\n",
        "    for i in range(self.L,0,-1):\n",
        "\n",
        "      self.dW[i] = (1/self.dZ[i].shape[1])*np.matmul(self.dZ[i],self.A[i-1].T)\n",
        "\n",
        "      self.dW[i] += 0.1*self.W[i]\n",
        "        \n",
        "      self.db[i] = (1/self.dZ[i].shape[1])*np.sum(self.dZ[i],axis=1,keepdims=True)\n",
        "      _ = \"self.dZ[i-1] = np.matmul(self.W[i].T,self.dZ[i])*self.\"+self.activation+\"_grad(self.A[i-1])\"\n",
        "      exec(_) \n",
        "      \n",
        "    return (self.dW,self.db)\n",
        "\n",
        "\n",
        "# Training Network\n",
        "  def train(self,X_train,Y_train,X_val,Y_val,optimizer='gd',\n",
        "            keep_probs=[],mini_batch_size=32,epochs=100,learning_rate=0.01,\n",
        "            print_loss_freq=100,plot_loss=True):\n",
        "    \n",
        "\n",
        "    if keep_probs != []:\n",
        "      self.keep_probs = keep_probs\n",
        "    else:\n",
        "      self.keep_probs = [1]*(len(self.layer_dims)-2)\n",
        "\n",
        "    self.print_loss_freq = print_loss_freq  \n",
        "\n",
        "    self.Mw = {}\n",
        "    self.Mb = {}\n",
        "    self.Vw = {}\n",
        "    self.Vb = {}\n",
        "\n",
        "    for i in range(self.L):\n",
        "      self.Mw[i+1] = np.zeros(shape=self.W[i+1].shape)\n",
        "      self.Mb[i+1] = np.zeros(shape=self.b[i+1].shape)\n",
        "      self.Vw[i+1] = np.zeros(shape=self.W[i+1].shape)\n",
        "      self.Vb[i+1] = np.zeros(shape=self.b[i+1].shape)\n",
        "\n",
        "    # train_cost = []\n",
        "    val_cost = []\n",
        "    train_acc = []\n",
        "    val_acc = []\n",
        "    m = X_train.shape[1]\n",
        "\n",
        "    drop = False\n",
        "    # if(self.regularizer == 'dropout'):\n",
        "    #   drop = True\n",
        "\n",
        "    t = 1\n",
        "    \n",
        "    for e in range(epochs):\n",
        "\n",
        "      mask = np.random.permutation(m)\n",
        "\n",
        "      X_train = X_train[:,mask]\n",
        "      Y_train = Y_train[:,mask]\n",
        "\n",
        "      if optimizer == 'gd':\n",
        "\n",
        "        for i in range(0,m,mini_batch_size):\n",
        "\n",
        "          _ = self.forward_propagation(X_train[:,i:(i+mini_batch_size)],drop)\n",
        "          _ = self.backward_propagation(Y_train[:,i:(i+mini_batch_size)])\n",
        "          \n",
        "          for i in range(self.L):\n",
        "            self.W[i+1] -= learning_rate*self.dW[i+1]\n",
        "            self.b[i+1] -= learning_rate*self.db[i+1]\n",
        "      elif optimizer =='sgd':\n",
        "        p= learning_rate / (1 + epochs * 1)\n",
        "        for i in range(X_train.shape[1]):\n",
        "          indexes = np.random.randint(0, m, mini_batch_size) # random sample\n",
        "          Xs = np.take(X_train.T, indexes)\n",
        "          ys = np.take(Y_train, indexes)\n",
        "          _ = self.forward_propagation(X_train[:,i:(i+mini_batch_size)],drop)\n",
        "          _ = self.backward_propagation(Y_train[:,i:(i+mini_batch_size)])\n",
        "          \n",
        "          for i in range(self.L):\n",
        "            if learning_rate < 1*e^-7:\n",
        "              p=learning_rate\n",
        "            self.W[i+1] -= p*self.dW[i+1]\n",
        "            self.b[i+1] -= p*self.db[i+1]\n",
        "\n",
        "      Y_pred_train = self.forward_propagation(X_train)[self.L]\n",
        "      Y_pred_val = self.forward_propagation(X_val)[self.L]\n",
        "                                   \n",
        "      self.train_cost.append(self.compute_cost(Y_pred_train,Y_train))\n",
        "      val_cost.append(self.compute_cost(Y_pred_val,Y_val))\n",
        "\n",
        "      if (e+1)%self.print_loss_freq==0:\n",
        "        print(\"After \"+str(e+1)+\" epochs :    Training Loss = \"+str(self.train_cost[e]) + \n",
        "                \"    Validation Loss = \"+str(val_cost[e])+'\\n')  \n",
        "\n",
        "    if plot_loss == True:\n",
        "\n",
        "      r = list(range(1,epochs+1))\n",
        "      plt.plot(r,self.train_cost,'r',label=\"Training Error\")\n",
        "      # plt.plot(r,val_cost,'b',label=\"Validation error\")\n",
        "      plt.xlabel('Epochs')\n",
        "      if self.output_type == 'regression':\n",
        "        plt.ylabel('Error')\n",
        "      plt.legend()\n",
        "      plt.show()\n",
        "\n",
        "      print(\"\\nTraining Error : \",self.train_cost[-1])\n",
        "      # print(\"\\nValidation Error : \",val_cost[-1]) \n",
        "\n",
        "    return (self.train_cost,val_cost,train_acc,val_acc)   \n",
        "\n",
        "  def predict(self,X):\n",
        "    A = self.forward_propagation(X)\n",
        "\n",
        "    if self.output_type == 'regression':\n",
        "      return A[self.L]"
      ],
      "metadata": {
        "id": "AN7zdBSLr_VO"
      },
      "execution_count": null,
      "outputs": []
    },
    {
      "cell_type": "markdown",
      "source": [
        "# Part 5: Train your model using the Mean Sqaured Errors. Mention your choices of the hyperparameters for training."
      ],
      "metadata": {
        "id": "oLDEuINrxdO2"
      }
    },
    {
      "cell_type": "markdown",
      "source": [
        "#Using Batch Gradient descent:\n",
        "Hyperparameter: learning rate is 0.01 and activation function is tanh and 100 epoch"
      ],
      "metadata": {
        "id": "wQdWlil4xkd9"
      }
    },
    {
      "cell_type": "code",
      "source": [
        "# Using Batch Gradient descent\n",
        "model = MLP()\n",
        "\n",
        "model.create(13,1,[15,],output_type='regression',activation='tanh')\n",
        "\n",
        "costs = model.train(X_train.T,y_train,X_test.T,y_test,optimizer='gd',\n",
        "                    mini_batch_size=X_train.shape[0],epochs=100,print_loss_freq=100,\n",
        "                    learning_rate=0.01)"
      ],
      "metadata": {
        "colab": {
          "base_uri": "https://localhost:8080/",
          "height": 348
        },
        "id": "ByyDtqdVXHS9",
        "outputId": "181f5252-bb92-4866-8e1d-3ef107a514a6"
      },
      "execution_count": null,
      "outputs": [
        {
          "output_type": "stream",
          "name": "stdout",
          "text": [
            "After 100 epochs :    Training Loss = 0.24213285764262385    Validation Loss = 0.26282122828409255\n",
            "\n"
          ]
        },
        {
          "output_type": "display_data",
          "data": {
            "text/plain": [
              "<Figure size 432x288 with 1 Axes>"
            ],
            "image/png": "[encoded data removed]"
          },
          "metadata": {
            "needs_background": "light"
          }
        },
        {
          "output_type": "stream",
          "name": "stdout",
          "text": [
            "\n",
            "Training Error :  0.24213285764262385\n"
          ]
        }
      ]
    },
    {
      "cell_type": "code",
      "source": [
        "Y_p = model.predict(X_test.T)\n",
        "print(\"Test error value: \",model.compute_cost(Y_p,y_test.reshape(1,102)))"
      ],
      "metadata": {
        "colab": {
          "base_uri": "https://localhost:8080/"
        },
        "id": "3SkbKUVBXql9",
        "outputId": "eeb6e69a-89e8-4938-e142-d89aa31dd3b4"
      },
      "execution_count": null,
      "outputs": [
        {
          "output_type": "stream",
          "name": "stdout",
          "text": [
            "Test error value:  0.26282122828409255\n"
          ]
        }
      ]
    },
    {
      "cell_type": "code",
      "source": [
        "p=((y_test-np.mean(y_test))**2)\n",
        "q=((y_test-Y_p)**2)\n",
        "print(\"Model Accuracy using gradient: \",1-model.compute_cost(Y_p,y_test.reshape(1,102)))"
      ],
      "metadata": {
        "colab": {
          "base_uri": "https://localhost:8080/"
        },
        "id": "mpEYE7J5ZAZk",
        "outputId": "6bf56c1c-1b9b-4c1d-df71-fc8a6a56550e"
      },
      "execution_count": null,
      "outputs": [
        {
          "output_type": "stream",
          "name": "stdout",
          "text": [
            "Model Accuracy using gradient:  0.7371787717159075\n"
          ]
        }
      ]
    },
    {
      "cell_type": "markdown",
      "source": [
        "#Using stochastic Gradient descent:\n",
        "Hyperparameter: learning rate is 0.01 and activation function is tanh and iteration=100"
      ],
      "metadata": {
        "id": "UX89Q3azx4hQ"
      }
    },
    {
      "cell_type": "code",
      "source": [
        "# Using stochastic gradeint descent\n",
        "model = MLP()\n",
        "\n",
        "model.create(13,1,[15,],output_type='regression',activation='tanh')\n",
        "\n",
        "costs = model.train(X_train.T,y_train,X_test.T,y_test,optimizer='sgd',\n",
        "                    mini_batch_size=1,epochs=100,print_loss_freq=10,\n",
        "                    learning_rate=0.01)"
      ],
      "metadata": {
        "id": "Txg-2bk2sm2b",
        "colab": {
          "base_uri": "https://localhost:8080/",
          "height": 661
        },
        "outputId": "13e91429-5087-4540-9f48-93c3d6081999"
      },
      "execution_count": null,
      "outputs": [
        {
          "output_type": "stream",
          "name": "stdout",
          "text": [
            "After 10 epochs :    Training Loss = 0.2597066077181648    Validation Loss = 0.27642640978417393\n",
            "\n",
            "After 20 epochs :    Training Loss = 0.19223653504972735    Validation Loss = 0.22090562340463812\n",
            "\n",
            "After 30 epochs :    Training Loss = 0.1662105562223655    Validation Loss = 0.20525174739460422\n",
            "\n",
            "After 40 epochs :    Training Loss = 0.1537410783181183    Validation Loss = 0.19897911877173774\n",
            "\n",
            "After 50 epochs :    Training Loss = 0.1466433268679062    Validation Loss = 0.19490388936604475\n",
            "\n",
            "After 60 epochs :    Training Loss = 0.14212293158983974    Validation Loss = 0.19163838607036915\n",
            "\n",
            "After 70 epochs :    Training Loss = 0.13902812641633228    Validation Loss = 0.18913425691765004\n",
            "\n",
            "After 80 epochs :    Training Loss = 0.13681346740842498    Validation Loss = 0.18724559127242105\n",
            "\n",
            "After 90 epochs :    Training Loss = 0.13514114746908198    Validation Loss = 0.18557728348353295\n",
            "\n",
            "After 100 epochs :    Training Loss = 0.13386557829644938    Validation Loss = 0.18419164616317546\n",
            "\n"
          ]
        },
        {
          "output_type": "display_data",
          "data": {
            "text/plain": [
              "<Figure size 432x288 with 1 Axes>"
            ],
            "image/png": "[encoded data removed]"
          },
          "metadata": {
            "needs_background": "light"
          }
        },
        {
          "output_type": "stream",
          "name": "stdout",
          "text": [
            "\n",
            "Training Error :  0.13386557829644938\n"
          ]
        }
      ]
    },
    {
      "cell_type": "code",
      "source": [
        "# Test the Model\n",
        "Y_p = model.predict(X_test.T)\n",
        "print(\"Test model error: \",model.compute_cost(Y_p,y_test.reshape(1,102)))"
      ],
      "metadata": {
        "colab": {
          "base_uri": "https://localhost:8080/"
        },
        "id": "G8dw6IFv-0Sk",
        "outputId": "400c5bcc-9b62-4f37-92e7-6ab7ab5b6e12"
      },
      "execution_count": null,
      "outputs": [
        {
          "output_type": "stream",
          "name": "stdout",
          "text": [
            "Test model error:  0.18419164616317546\n"
          ]
        }
      ]
    },
    {
      "cell_type": "code",
      "source": [
        "p=((y_test-np.mean(y_test))**2)\n",
        "q=((y_test-Y_p)**2)\n",
        "# print(np.sum(q))\n",
        "# print(np.sum(p))\n",
        "# print(np.sum(q)/np.sum(p))\n",
        "print(\"Model Accuracy using stochastic gradient descent: \",1-model.compute_cost(Y_p,y_test.reshape(1,102)))"
      ],
      "metadata": {
        "colab": {
          "base_uri": "https://localhost:8080/"
        },
        "id": "PwdQP4kYZNJO",
        "outputId": "aec08e38-6601-4bc1-aabe-146fbd052c95"
      },
      "execution_count": null,
      "outputs": [
        {
          "output_type": "stream",
          "name": "stdout",
          "text": [
            "Model Accuracy using stochastic gradient descent:  0.8158083538368246\n"
          ]
        }
      ]
    },
    {
      "cell_type": "markdown",
      "source": [
        "#Part 6: Using the best traning method from the above traning, train your MLP with different learning rates given as [ 0.5, 0.1, 0.01, 0.001, 0.0001]"
      ],
      "metadata": {
        "id": "PwLTYGTlyGKf"
      }
    },
    {
      "cell_type": "markdown",
      "source": [
        "Hyperparameter of best model used in this experiment is: Activation function Tanh, epoch is 100 and optimizer is Stochastic gradient descent."
      ],
      "metadata": {
        "id": "x3ogxE73IBYj"
      }
    },
    {
      "cell_type": "code",
      "source": [
        "# Using the best model for learning rate 0.0001\n",
        "model = MLP()\n",
        "\n",
        "model.create(13,1,[15,],output_type='regression',activation='tanh')\n",
        "\n",
        "costs = model.train(X_train.T,y_train,X_test.T,y_test,optimizer='sgd',\n",
        "                    mini_batch_size=1,epochs=100,print_loss_freq=10,\n",
        "                    learning_rate=0.0001,plot_loss=False)\n",
        "st1=model.train_cost\n",
        "Y_p = model.predict(X_test.T)\n",
        "pt1=1-model.compute_cost(Y_p,y_test.reshape(1,102))"
      ],
      "metadata": {
        "id": "-zvZc7eEsuut",
        "colab": {
          "base_uri": "https://localhost:8080/"
        },
        "outputId": "27cade36-3370-4bb3-bba5-cb54226964d1"
      },
      "execution_count": null,
      "outputs": [
        {
          "output_type": "stream",
          "name": "stdout",
          "text": [
            "After 10 epochs :    Training Loss = 0.5993541051571812    Validation Loss = 0.4785864003803781\n",
            "\n",
            "After 20 epochs :    Training Loss = 0.5949608231788628    Validation Loss = 0.4751224027294551\n",
            "\n",
            "After 30 epochs :    Training Loss = 0.5906245553962188    Validation Loss = 0.4717096709052863\n",
            "\n",
            "After 40 epochs :    Training Loss = 0.5863443152183051    Validation Loss = 0.46834724107746317\n",
            "\n",
            "After 50 epochs :    Training Loss = 0.5821192262278253    Validation Loss = 0.4650342466209493\n",
            "\n",
            "After 60 epochs :    Training Loss = 0.5779483599134627    Validation Loss = 0.4617697836629075\n",
            "\n",
            "After 70 epochs :    Training Loss = 0.5738308230075    Validation Loss = 0.458552977325446\n",
            "\n",
            "After 80 epochs :    Training Loss = 0.5697657984486874    Validation Loss = 0.4553830186513496\n",
            "\n",
            "After 90 epochs :    Training Loss = 0.565752403602012    Validation Loss = 0.45225905173037956\n",
            "\n",
            "After 100 epochs :    Training Loss = 0.5617897903886007    Validation Loss = 0.44918025087352753\n",
            "\n"
          ]
        }
      ]
    },
    {
      "cell_type": "code",
      "source": [
        "# Using the best model for learning rate 0.001\n",
        "model = MLP()\n",
        "\n",
        "model.create(13,1,[15,],output_type='regression',activation='tanh')\n",
        "\n",
        "costs = model.train(X_train.T,y_train,X_test.T,y_test,optimizer='sgd',\n",
        "                    mini_batch_size=1,epochs=100,print_loss_freq=10,\n",
        "                    learning_rate=0.001,plot_loss=False)\n",
        "st2=model.train_cost\n",
        "Y_p = model.predict(X_test.T)\n",
        "pt2=1-model.compute_cost(Y_p,y_test.reshape(1,102))"
      ],
      "metadata": {
        "colab": {
          "base_uri": "https://localhost:8080/"
        },
        "id": "PrOOuD6ajwxX",
        "outputId": "8e65a4c6-78df-407a-a5b8-ad0b13e63ce7"
      },
      "execution_count": null,
      "outputs": [
        {
          "output_type": "stream",
          "name": "stdout",
          "text": [
            "After 10 epochs :    Training Loss = 0.49331809512327957    Validation Loss = 0.39606876104859795\n",
            "\n",
            "After 20 epochs :    Training Loss = 0.4590375949814968    Validation Loss = 0.36873081505602145\n",
            "\n",
            "After 30 epochs :    Training Loss = 0.4292532352309382    Validation Loss = 0.34531979407134666\n",
            "\n",
            "After 40 epochs :    Training Loss = 0.40321333285936306    Validation Loss = 0.32514495633719276\n",
            "\n",
            "After 50 epochs :    Training Loss = 0.3803247911389378    Validation Loss = 0.3076705377993499\n",
            "\n",
            "After 60 epochs :    Training Loss = 0.3601171940664601    Validation Loss = 0.29247023183071835\n",
            "\n",
            "After 70 epochs :    Training Loss = 0.34220789546695696    Validation Loss = 0.2792033685260852\n",
            "\n",
            "After 80 epochs :    Training Loss = 0.3262814326366549    Validation Loss = 0.26758951069862563\n",
            "\n",
            "After 90 epochs :    Training Loss = 0.3120761347390833    Validation Loss = 0.2573988326119898\n",
            "\n",
            "After 100 epochs :    Training Loss = 0.2993720958060583    Validation Loss = 0.24843886379797886\n",
            "\n"
          ]
        }
      ]
    },
    {
      "cell_type": "code",
      "source": [
        "# Using the best model for learning rate 0.01\n",
        "model = MLP()\n",
        "\n",
        "model.create(13,1,[15,],output_type='regression',activation='tanh')\n",
        "\n",
        "costs = model.train(X_train.T,y_train,X_test.T,y_test,optimizer='sgd',\n",
        "                    mini_batch_size=1,epochs=100,print_loss_freq=10,\n",
        "                    learning_rate=0.01,plot_loss=False)\n",
        "st3=model.train_cost\n",
        "Y_p = model.predict(X_test.T)\n",
        "pt3=1-model.compute_cost(Y_p,y_test.reshape(1,102))"
      ],
      "metadata": {
        "colab": {
          "base_uri": "https://localhost:8080/"
        },
        "id": "qrS-KBx7j3HV",
        "outputId": "39479b2d-3a01-4a8e-a9f5-43728431ef30"
      },
      "execution_count": null,
      "outputs": [
        {
          "output_type": "stream",
          "name": "stdout",
          "text": [
            "After 10 epochs :    Training Loss = 0.2598477484089368    Validation Loss = 0.26439102129273895\n",
            "\n",
            "After 20 epochs :    Training Loss = 0.20958592998554176    Validation Loss = 0.23131660992842837\n",
            "\n",
            "After 30 epochs :    Training Loss = 0.18513562741170714    Validation Loss = 0.21608180926227852\n",
            "\n",
            "After 40 epochs :    Training Loss = 0.1714711295133349    Validation Loss = 0.20767220073286102\n",
            "\n",
            "After 50 epochs :    Training Loss = 0.16291755711856062    Validation Loss = 0.20257816850653346\n",
            "\n",
            "After 60 epochs :    Training Loss = 0.15701605827549847    Validation Loss = 0.19895338085132114\n",
            "\n",
            "After 70 epochs :    Training Loss = 0.1526334189611355    Validation Loss = 0.19610715791182884\n",
            "\n",
            "After 80 epochs :    Training Loss = 0.14921118662444458    Validation Loss = 0.1938590414578775\n",
            "\n",
            "After 90 epochs :    Training Loss = 0.14642381881811578    Validation Loss = 0.19186097972795454\n",
            "\n",
            "After 100 epochs :    Training Loss = 0.1440886417581656    Validation Loss = 0.1900420209576167\n",
            "\n"
          ]
        }
      ]
    },
    {
      "cell_type": "code",
      "source": [
        "# Using the best model for learning rate 0.1\n",
        "model = MLP()\n",
        "\n",
        "model.create(13,1,[15,],output_type='regression',activation='tanh')\n",
        "\n",
        "costs = model.train(X_train.T,y_train,X_test.T,y_test,optimizer='sgd',\n",
        "                    mini_batch_size=4,epochs=100,print_loss_freq=10,\n",
        "                    learning_rate=0.1,plot_loss=False)\n",
        "st4=model.train_cost\n",
        "Y_p = model.predict(X_test.T)\n",
        "pt4=1-model.compute_cost(Y_p,y_test.reshape(1,102))"
      ],
      "metadata": {
        "colab": {
          "base_uri": "https://localhost:8080/"
        },
        "id": "8zZAsNmpkNx3",
        "outputId": "90cfa288-407b-4220-d9d6-f9e5af646387"
      },
      "execution_count": null,
      "outputs": [
        {
          "output_type": "stream",
          "name": "stdout",
          "text": [
            "After 10 epochs :    Training Loss = 0.1337756038513549    Validation Loss = 0.18723639654834578\n",
            "\n",
            "After 20 epochs :    Training Loss = 0.12840569005245    Validation Loss = 0.1854287739397162\n",
            "\n",
            "After 30 epochs :    Training Loss = 0.12676808072319945    Validation Loss = 0.1760098895593928\n",
            "\n",
            "After 40 epochs :    Training Loss = 0.12660360069350465    Validation Loss = 0.17457628588778887\n",
            "\n",
            "After 50 epochs :    Training Loss = 0.1268056088185742    Validation Loss = 0.17880058599302262\n",
            "\n",
            "After 60 epochs :    Training Loss = 0.1255924298209631    Validation Loss = 0.1754779187190178\n",
            "\n",
            "After 70 epochs :    Training Loss = 0.12543664349478947    Validation Loss = 0.17815389076398078\n",
            "\n",
            "After 80 epochs :    Training Loss = 0.12464905556529376    Validation Loss = 0.17482431050422392\n",
            "\n",
            "After 90 epochs :    Training Loss = 0.12402339825644612    Validation Loss = 0.17759043582759498\n",
            "\n",
            "After 100 epochs :    Training Loss = 0.12294629310380363    Validation Loss = 0.17431711736825256\n",
            "\n"
          ]
        }
      ]
    },
    {
      "cell_type": "code",
      "source": [
        "# Using the best model for learning rate 0.5\n",
        "model = MLP()\n",
        "\n",
        "model.create(13,1,[15,],output_type='regression',activation='tanh')\n",
        "\n",
        "costs = model.train(X_train.T,y_train,X_test.T,y_test,optimizer='sgd',\n",
        "                    mini_batch_size=4,epochs=100,print_loss_freq=10,\n",
        "                    learning_rate=0.5,plot_loss=False)\n",
        "st5=model.train_cost\n",
        "Y_p = model.predict(X_test.T)\n",
        "pt5=1-model.compute_cost(Y_p,y_test.reshape(1,102))"
      ],
      "metadata": {
        "colab": {
          "base_uri": "https://localhost:8080/"
        },
        "id": "rNOigtcTkhZ8",
        "outputId": "b53deb19-4baa-4dab-affb-85b2a8cdef56"
      },
      "execution_count": null,
      "outputs": [
        {
          "output_type": "stream",
          "name": "stdout",
          "text": [
            "After 10 epochs :    Training Loss = 0.1266739285927515    Validation Loss = 0.1817232952519979\n",
            "\n",
            "After 20 epochs :    Training Loss = 0.12344288876703842    Validation Loss = 0.18275474135665268\n",
            "\n",
            "After 30 epochs :    Training Loss = 0.1226321270278885    Validation Loss = 0.17884270369661712\n",
            "\n",
            "After 40 epochs :    Training Loss = 0.12650377323790127    Validation Loss = 0.18705816538084669\n",
            "\n",
            "After 50 epochs :    Training Loss = 0.11557815594158764    Validation Loss = 0.16735921222926015\n",
            "\n",
            "After 60 epochs :    Training Loss = 0.11399467623998376    Validation Loss = 0.1699236987884185\n",
            "\n",
            "After 70 epochs :    Training Loss = 0.11831455171749002    Validation Loss = 0.17033077521941398\n",
            "\n",
            "After 80 epochs :    Training Loss = 0.11882145650509529    Validation Loss = 0.18093979863625187\n",
            "\n",
            "After 90 epochs :    Training Loss = 0.11807410916040945    Validation Loss = 0.17822582927086586\n",
            "\n",
            "After 100 epochs :    Training Loss = 0.11361138199050388    Validation Loss = 0.1738142719438746\n",
            "\n"
          ]
        }
      ]
    },
    {
      "cell_type": "markdown",
      "source": [
        "# Part 7: Plot the training error versus epochs for each learning rate in a single line graph. Also, plot accuracy versus lerning rate."
      ],
      "metadata": {
        "id": "PPIQ94g-yQjK"
      }
    },
    {
      "cell_type": "code",
      "source": [
        "# Plots\n",
        "# Plot for training error against each learning rate\n",
        "r =list(range(1,101))\n",
        "plt.plot(st1,label=\"lr=0.0001\")\n",
        "plt.plot(st2,label=\"lr=0.001\")\n",
        "plt.plot(st3,label=\"lr=0.01\")\n",
        "plt.plot(st4,label=\"lr=0.1\")\n",
        "plt.plot(st5,label=\"lr=0.5\")\n",
        "plt.xlabel('Epochs')\n",
        "plt.ylabel('Error')\n",
        "plt.legend(loc='upper right')\n",
        "plt.title(\"Training Error vs Epoch\")\n",
        "# plt.legend(['train','test'], loc='upper left')\n",
        "plt.show()\n",
        "\n"
      ],
      "metadata": {
        "id": "KtVIjYDS1WHv",
        "colab": {
          "base_uri": "https://localhost:8080/",
          "height": 295
        },
        "outputId": "96a1daab-89cc-402d-f69b-546291d20c8d"
      },
      "execution_count": null,
      "outputs": [
        {
          "output_type": "display_data",
          "data": {
            "text/plain": [
              "<Figure size 432x288 with 1 Axes>"
            ],
            "image/png": "[encoded data removed]"
          },
          "metadata": {
            "needs_background": "light"
          }
        }
      ]
    },
    {
      "cell_type": "code",
      "source": [
        "#print(pt1,pt2,pt3,pt4,pt5)"
      ],
      "metadata": {
        "id": "JcSroGeMqvrP"
      },
      "execution_count": null,
      "outputs": []
    },
    {
      "cell_type": "code",
      "source": [
        "# Plot for training accuracy against each learning rate\n",
        "r =list(range(1,6))\n",
        "q=[pt1,pt2,pt3,pt4,pt5]\n",
        "plt.plot(r,q)\n",
        "plt.xlabel('Learning Rate')\n",
        "plt.ylabel('Accuracy')\n",
        "plt.xticks([r + 0.25 for r in range(1,len(q)+1)],['0.0001','0.001','0.01','0.1','0.5'])\n",
        "# plt.legend(loc='upper right')\n",
        "# plt.legend(['train','test'], loc='upper left')\n",
        "plt.title(\"Accuracy vs Learning Rate\")\n",
        "plt.show()"
      ],
      "metadata": {
        "colab": {
          "base_uri": "https://localhost:8080/",
          "height": 295
        },
        "id": "hGqTf2RUqXPh",
        "outputId": "201e1595-177a-48a6-f291-34bec0d50d62"
      },
      "execution_count": null,
      "outputs": [
        {
          "output_type": "display_data",
          "data": {
            "text/plain": [
              "<Figure size 432x288 with 1 Axes>"
            ],
            "image/png": "[encoded data removed]"
          },
          "metadata": {
            "needs_background": "light"
          }
        }
      ]
    },
    {
      "cell_type": "code",
      "source": [
        "# Challenges and Observations"
      ],
      "metadata": {
        "id": "aqRy7OfF1Xpb"
      },
      "execution_count": null,
      "outputs": []
    },
    {
      "cell_type": "markdown",
      "source": [
        "#Part 7: Observation\n",
        "1. From above experiment on different learning rate we can observe that high learning rate for a regression type of problem solving model can cause unexpected behaviour for learning cure of a neural network model. \n",
        "\n",
        "2.  We know that the learning rate controls how quickly the model is adapted to the problem. Smaller learning rates require more training epochs given the smaller changes made to the weights each update, whereas larger learning rates result in rapid changes and require fewer training epochs.\n",
        "\n",
        "3. The plots show oscillations in behavior for the too-large learning rate of 0.5 and the inability of the model to learn anything with the too-small learning rates of 0.0001. \n",
        "\n",
        "4. On several experiment it has been found that learning rate that is too large can cause the model to converge too quickly to a suboptimal solution, whereas a learning rate that is too small can cause the process to get stuck. \n",
        "\n",
        "5. The challenge of training deep learning neural networks involves carefully selecting the learning rate. It may be the most important hyperparameter for the model. \n",
        "\n",
        "6.  Above experiment gives us a nice intution about how a learning rate for a model should be chosen. As we can see for our model learning rate of value 0.01 semms to be well tuned for all of the experiment. Along with SGD optimizer and Tanh activation function gives us a preety good result for this problem.\n",
        "\n"
      ],
      "metadata": {
        "id": "FG8l83V4ya2h"
      }
    },
    {
      "cell_type": "markdown",
      "source": [
        "\n",
        "---\n",
        "\n",
        "\n",
        "\n",
        "Section 2:  **(Total points = 50)**\n",
        "\n",
        "---\n",
        "Q2. In this question, we will learn to perform multi-class classification on Fashion-MNIST using a convolutional neural network. \n",
        "\n",
        "\n",
        "1. Explore the Dataset. Display one randomly selected image from each fashion class. **(5 points)**\n",
        "\n",
        "2. Plot the distribution of number of images in each fashion class. Is the distribution uniform? Comment. **(5 points)**\n",
        "\n",
        "3. Implememnt the 2D convolution function using a kernel size of 3x3. Use the [sobel kernel](https://en.wikipedia.org/wiki/Sobel_operator) and display the feature map for one example from each fashion class. For using sobel kernel, you need to calculate two convolutions, one for x-direction (x) and one for y-direction (y), the feature map then can be calculated as $F_m = \\sqrt(x^2 + y^2)$**(10 points)**\n",
        "\n",
        "4. Using the Keras library, implement a CNN model for classification. Use the following network architecture:  **(5 points)**\n",
        "*  Input layer\n",
        "*  Con2D with 32 3x3 kernals and ReLU activation\n",
        "*  Max Pooling layer with pool-size 2x2\n",
        "*  Con2D with 64 3x3 kernals and ReLU ReLU activation\n",
        "*  Max Pooling layer with size 2x2\n",
        "*  Dropout\n",
        "*  Fully Connected Layer with softmax activation\n",
        "\n",
        "3. Implement a custom cross-entropy loss (error function) for the multi-class classification. Use it for traning the model. **(5 points)**\n",
        "\n",
        "4. Compile and train your model with four different optimizers viz. SGD\n",
        "RMSprop, Adam, Adagrad. Plot the training loss for all four optimizers. Comment on your observations. **(10 points)**\n",
        "\n",
        "5. Choose different hyperparameters for Conv Layers, change number of Conv layer and drop-out rate and train your model. Plot training and test accuracies and losses wrt epochs for different hyper-parameters. Do you find any improvement in classification performance. Report your analysis. **(10 points)**\n"
      ],
      "metadata": {
        "id": "kW85Ns3gR1r8"
      }
    },
    {
      "cell_type": "code",
      "source": [
        "# import Fashion MNIST dataset\n",
        "import keras\n",
        "from keras.datasets import fashion_mnist\n",
        "import numpy as np"
      ],
      "metadata": {
        "id": "g4FSt6yWWDyK"
      },
      "execution_count": null,
      "outputs": []
    },
    {
      "cell_type": "code",
      "source": [
        "fashion_data = fashion_mnist.load_data() #load dataset\n",
        "fashion_data"
      ],
      "metadata": {
        "id": "DqJkhAxZbCYZ",
        "colab": {
          "base_uri": "https://localhost:8080/"
        },
        "outputId": "360b6a2c-9596-40b6-d5cb-187e79842b54"
      },
      "execution_count": null,
      "outputs": [
        {
          "output_type": "execute_result",
          "data": {
            "text/plain": [
              "((array([[[0, 0, 0, ..., 0, 0, 0],\n",
              "          [0, 0, 0, ..., 0, 0, 0],\n",
              "          [0, 0, 0, ..., 0, 0, 0],\n",
              "          ...,\n",
              "          [0, 0, 0, ..., 0, 0, 0],\n",
              "          [0, 0, 0, ..., 0, 0, 0],\n",
              "          [0, 0, 0, ..., 0, 0, 0]],\n",
              "  \n",
              "         [[0, 0, 0, ..., 0, 0, 0],\n",
              "          [0, 0, 0, ..., 0, 0, 0],\n",
              "          [0, 0, 0, ..., 0, 0, 0],\n",
              "          ...,\n",
              "          [0, 0, 0, ..., 0, 0, 0],\n",
              "          [0, 0, 0, ..., 0, 0, 0],\n",
              "          [0, 0, 0, ..., 0, 0, 0]],\n",
              "  \n",
              "         [[0, 0, 0, ..., 0, 0, 0],\n",
              "          [0, 0, 0, ..., 0, 0, 0],\n",
              "          [0, 0, 0, ..., 0, 0, 0],\n",
              "          ...,\n",
              "          [0, 0, 0, ..., 0, 0, 0],\n",
              "          [0, 0, 0, ..., 0, 0, 0],\n",
              "          [0, 0, 0, ..., 0, 0, 0]],\n",
              "  \n",
              "         ...,\n",
              "  \n",
              "         [[0, 0, 0, ..., 0, 0, 0],\n",
              "          [0, 0, 0, ..., 0, 0, 0],\n",
              "          [0, 0, 0, ..., 0, 0, 0],\n",
              "          ...,\n",
              "          [0, 0, 0, ..., 0, 0, 0],\n",
              "          [0, 0, 0, ..., 0, 0, 0],\n",
              "          [0, 0, 0, ..., 0, 0, 0]],\n",
              "  \n",
              "         [[0, 0, 0, ..., 0, 0, 0],\n",
              "          [0, 0, 0, ..., 0, 0, 0],\n",
              "          [0, 0, 0, ..., 0, 0, 0],\n",
              "          ...,\n",
              "          [0, 0, 0, ..., 0, 0, 0],\n",
              "          [0, 0, 0, ..., 0, 0, 0],\n",
              "          [0, 0, 0, ..., 0, 0, 0]],\n",
              "  \n",
              "         [[0, 0, 0, ..., 0, 0, 0],\n",
              "          [0, 0, 0, ..., 0, 0, 0],\n",
              "          [0, 0, 0, ..., 0, 0, 0],\n",
              "          ...,\n",
              "          [0, 0, 0, ..., 0, 0, 0],\n",
              "          [0, 0, 0, ..., 0, 0, 0],\n",
              "          [0, 0, 0, ..., 0, 0, 0]]], dtype=uint8),\n",
              "  array([9, 0, 0, ..., 3, 0, 5], dtype=uint8)),\n",
              " (array([[[0, 0, 0, ..., 0, 0, 0],\n",
              "          [0, 0, 0, ..., 0, 0, 0],\n",
              "          [0, 0, 0, ..., 0, 0, 0],\n",
              "          ...,\n",
              "          [0, 0, 0, ..., 0, 0, 0],\n",
              "          [0, 0, 0, ..., 0, 0, 0],\n",
              "          [0, 0, 0, ..., 0, 0, 0]],\n",
              "  \n",
              "         [[0, 0, 0, ..., 0, 0, 0],\n",
              "          [0, 0, 0, ..., 0, 0, 0],\n",
              "          [0, 0, 0, ..., 0, 0, 0],\n",
              "          ...,\n",
              "          [0, 0, 0, ..., 0, 0, 0],\n",
              "          [0, 0, 0, ..., 0, 0, 0],\n",
              "          [0, 0, 0, ..., 0, 0, 0]],\n",
              "  \n",
              "         [[0, 0, 0, ..., 0, 0, 0],\n",
              "          [0, 0, 0, ..., 0, 0, 0],\n",
              "          [0, 0, 0, ..., 0, 0, 0],\n",
              "          ...,\n",
              "          [0, 0, 0, ..., 0, 0, 0],\n",
              "          [0, 0, 0, ..., 0, 0, 0],\n",
              "          [0, 0, 0, ..., 0, 0, 0]],\n",
              "  \n",
              "         ...,\n",
              "  \n",
              "         [[0, 0, 0, ..., 0, 0, 0],\n",
              "          [0, 0, 0, ..., 0, 0, 0],\n",
              "          [0, 0, 0, ..., 0, 0, 0],\n",
              "          ...,\n",
              "          [0, 0, 0, ..., 0, 0, 0],\n",
              "          [0, 0, 0, ..., 0, 0, 0],\n",
              "          [0, 0, 0, ..., 0, 0, 0]],\n",
              "  \n",
              "         [[0, 0, 0, ..., 0, 0, 0],\n",
              "          [0, 0, 0, ..., 0, 0, 0],\n",
              "          [0, 0, 0, ..., 0, 0, 0],\n",
              "          ...,\n",
              "          [0, 0, 0, ..., 0, 0, 0],\n",
              "          [0, 0, 0, ..., 0, 0, 0],\n",
              "          [0, 0, 0, ..., 0, 0, 0]],\n",
              "  \n",
              "         [[0, 0, 0, ..., 0, 0, 0],\n",
              "          [0, 0, 0, ..., 0, 0, 0],\n",
              "          [0, 0, 0, ..., 0, 0, 0],\n",
              "          ...,\n",
              "          [0, 0, 0, ..., 0, 0, 0],\n",
              "          [0, 0, 0, ..., 0, 0, 0],\n",
              "          [0, 0, 0, ..., 0, 0, 0]]], dtype=uint8),\n",
              "  array([9, 2, 1, ..., 8, 1, 5], dtype=uint8)))"
            ]
          },
          "metadata": {},
          "execution_count": 20
        }
      ]
    },
    {
      "cell_type": "markdown",
      "source": [
        "# Part 1: Explore the Dataset. Display one randomly selected image from each fashion class."
      ],
      "metadata": {
        "id": "-qzvEONO_rIA"
      }
    },
    {
      "cell_type": "code",
      "source": [
        "#Dataset Exploration\n",
        "import matplotlib.pylab as plt\n",
        "(x_train, y_train), (x_test, y_test)=fashion_data\n",
        "x_train = x_train / 255.0\n",
        "x_test = x_test / 255.0\n",
        "print(\"Train dataset shape: \",x_train.shape)\n",
        "print(\"Test dataset shape: \",x_test.shape)\n",
        "print(\"Number of Classes: \",len(np.unique(y_train)))\n",
        "fig, axes = plt.subplots(2, 5, figsize=(3*5,3*2))\n",
        "for i in range(len(np.unique(y_train))):\n",
        "  indx=np.random.choice(np.where(y_train==i)[0])\n",
        "  ax = axes[i//5, i%5]\n",
        "  ax.imshow(np.squeeze(x_train[indx])) #,cmap=plt.get_cmap('gray'))\n",
        "  ax.set_title('Label: {}'.format(y_train[indx]))\n",
        "plt.tight_layout()\n",
        "plt.show()"
      ],
      "metadata": {
        "id": "kC_L72B-RT9Q",
        "colab": {
          "base_uri": "https://localhost:8080/",
          "height": 497
        },
        "outputId": "d50659fc-ea88-4919-a67d-499e5f4e7ae6"
      },
      "execution_count": null,
      "outputs": [
        {
          "output_type": "stream",
          "name": "stdout",
          "text": [
            "Train dataset shape:  (60000, 28, 28)\n",
            "Test dataset shape:  (10000, 28, 28)\n",
            "Number of Classes:  10\n"
          ]
        },
        {
          "output_type": "display_data",
          "data": {
            "text/plain": [
              "<Figure size 1080x432 with 10 Axes>"
            ],
            "image/png": "[encoded data removed]"
          },
          "metadata": {
            "needs_background": "light"
          }
        }
      ]
    },
    {
      "cell_type": "markdown",
      "source": [
        "# Part 2: Plot the distribution of number of images in each fashion class."
      ],
      "metadata": {
        "id": "Yn5Anw1u_wcD"
      }
    },
    {
      "cell_type": "code",
      "source": [
        "# Plot the distribution of number of images in each fashion class\n",
        "labels_map = {0 : \"T-shirt/top\", 1: \"Trouser\", 2: \"Pullover\", 3: \"Dress\", 4: \"Coat\",\n",
        "          5: \"Sandal\", 6: \"Shirt\", 7: \"Sneaker\", 8: \"Bag\", 9: \"Ankle Boot\"}\n",
        "\n",
        "def get_classes_distribution(data):\n",
        "    # Get the count for each label\n",
        "    unique, counts = np.unique(data, return_counts=True)\n",
        "    label_counts=dict(zip(unique, counts))\n",
        "    #label_counts = data.value_counts()\n",
        "    print(label_counts)\n",
        "    # Get total number of samples\n",
        "    total_samples = len(data)\n",
        "\n",
        "\n",
        "    # Count the number of items in each class\n",
        "    for i in range(len(label_counts)):\n",
        "        label = labels_map[i]\n",
        "        count = label_counts[i]\n",
        "        #count=np.where(y_train==i)[0]\n",
        "        percent = (count / total_samples) * 100\n",
        "        print(\"{:<20s}:   {} or {}%\".format(label, count, percent))\n",
        "\n",
        "print(\"Class distribution of train data: \")\n",
        "get_classes_distribution(y_train)\n",
        "print(\"Class distribution of test data: \")\n",
        "get_classes_distribution(y_test)"
      ],
      "metadata": {
        "colab": {
          "base_uri": "https://localhost:8080/"
        },
        "id": "GT9NIclRY5V0",
        "outputId": "81a81651-1685-4471-d84a-e150b896db3e"
      },
      "execution_count": null,
      "outputs": [
        {
          "output_type": "stream",
          "name": "stdout",
          "text": [
            "Class distribution of train data: \n",
            "{0: 6000, 1: 6000, 2: 6000, 3: 6000, 4: 6000, 5: 6000, 6: 6000, 7: 6000, 8: 6000, 9: 6000}\n",
            "T-shirt/top         :   6000 or 10.0%\n",
            "Trouser             :   6000 or 10.0%\n",
            "Pullover            :   6000 or 10.0%\n",
            "Dress               :   6000 or 10.0%\n",
            "Coat                :   6000 or 10.0%\n",
            "Sandal              :   6000 or 10.0%\n",
            "Shirt               :   6000 or 10.0%\n",
            "Sneaker             :   6000 or 10.0%\n",
            "Bag                 :   6000 or 10.0%\n",
            "Ankle Boot          :   6000 or 10.0%\n",
            "Class distribution of test data: \n",
            "{0: 1000, 1: 1000, 2: 1000, 3: 1000, 4: 1000, 5: 1000, 6: 1000, 7: 1000, 8: 1000, 9: 1000}\n",
            "T-shirt/top         :   1000 or 10.0%\n",
            "Trouser             :   1000 or 10.0%\n",
            "Pullover            :   1000 or 10.0%\n",
            "Dress               :   1000 or 10.0%\n",
            "Coat                :   1000 or 10.0%\n",
            "Sandal              :   1000 or 10.0%\n",
            "Shirt               :   1000 or 10.0%\n",
            "Sneaker             :   1000 or 10.0%\n",
            "Bag                 :   1000 or 10.0%\n",
            "Ankle Boot          :   1000 or 10.0%\n"
          ]
        }
      ]
    },
    {
      "cell_type": "code",
      "source": [
        "#print(y_test.label)\n",
        "import pandas as pd\n",
        "import seaborn as sns\n",
        "def plot_label_per_class(data):\n",
        "    f, ax = plt.subplots(1,1, figsize=(12,4))\n",
        "    g = sns.countplot(data.label, order = [x for x in range(10)])\n",
        "    g.set_title(\"Number of labels for each class\")\n",
        "    i=0\n",
        "    for p, label in zip(g.patches, data[\"label\"].value_counts().index):\n",
        "        g.annotate(labels_map[i], (p.get_x(), p.get_height()+0.1))\n",
        "        i+=1\n",
        "    plt.show()  \n",
        "df = pd.DataFrame(y_test,columns =[\"label\"])\n",
        "print(\"Class distribution plot of test data: \")\n",
        "plot_label_per_class(df)\n",
        "df = pd.DataFrame(y_train,columns =[\"label\"])   \n",
        "print(\"Class distribution plot of train data: \")\n",
        "plot_label_per_class(df)"
      ],
      "metadata": {
        "colab": {
          "base_uri": "https://localhost:8080/",
          "height": 697
        },
        "id": "Otnt7BVHbicf",
        "outputId": "6cae608d-6394-4696-9c0f-73aa128f3034"
      },
      "execution_count": null,
      "outputs": [
        {
          "output_type": "stream",
          "name": "stdout",
          "text": [
            "Class distribution plot of test data: \n"
          ]
        },
        {
          "output_type": "stream",
          "name": "stderr",
          "text": [
            "/usr/local/lib/python3.7/dist-packages/seaborn/_decorators.py:43: FutureWarning: Pass the following variable as a keyword arg: x. From version 0.12, the only valid positional argument will be `data`, and passing other arguments without an explicit keyword will result in an error or misinterpretation.\n",
            "  FutureWarning\n"
          ]
        },
        {
          "output_type": "display_data",
          "data": {
            "text/plain": [
              "<Figure size 864x288 with 1 Axes>"
            ],
            "image/png": "[encoded data removed]"
          },
          "metadata": {
            "needs_background": "light"
          }
        },
        {
          "output_type": "stream",
          "name": "stdout",
          "text": [
            "Class distribution plot of train data: \n"
          ]
        },
        {
          "output_type": "stream",
          "name": "stderr",
          "text": [
            "/usr/local/lib/python3.7/dist-packages/seaborn/_decorators.py:43: FutureWarning: Pass the following variable as a keyword arg: x. From version 0.12, the only valid positional argument will be `data`, and passing other arguments without an explicit keyword will result in an error or misinterpretation.\n",
            "  FutureWarning\n"
          ]
        },
        {
          "output_type": "display_data",
          "data": {
            "text/plain": [
              "<Figure size 864x288 with 1 Axes>"
            ],
            "image/png": "[encoded data removed]"
          },
          "metadata": {
            "needs_background": "light"
          }
        }
      ]
    },
    {
      "cell_type": "markdown",
      "source": [
        "# Part 2: Observation \n",
        "1. From above distribution plot and also the data extrated from the given dataset we can see that all data points of test dataset and train dataset is equally distributed among all the classes. \n",
        "2. For train dataset all classes have 6000 data points each and in test data all classes has 1000 data points each.\n",
        "\n",
        "So, using this experiment we can ensure that dataset is uniformly distributed among each class of this dataset."
      ],
      "metadata": {
        "id": "sbWdBqXb-g1r"
      }
    },
    {
      "cell_type": "markdown",
      "source": [
        "# Part 3:\n",
        "# Implememnt the 2D convolution function using a kernel size of 3x3. Use the sobel kernel and display the feature map for one example from each fashion class."
      ],
      "metadata": {
        "id": "1ZEmhYWjAB5G"
      }
    },
    {
      "cell_type": "code",
      "source": [
        "\n",
        "def convolution(image, kernel, average=False):\n",
        "    image_row, image_col = image.shape\n",
        "    kernel_row, kernel_col = kernel.shape\n",
        "    output = np.zeros(image.shape)\n",
        "    pad_height = int((kernel_row - 1) / 2)\n",
        "    pad_width = int((kernel_col - 1) / 2)\n",
        "    padded_image = np.zeros((image_row + (2 * pad_height), image_col + (2 * pad_width)))\n",
        "    padded_image[pad_height:padded_image.shape[0] - pad_height, pad_width:padded_image.shape[1] - pad_width] = image\n",
        "    for row in range(image_row):\n",
        "        for col in range(image_col):\n",
        "            output[row, col] = np.sum(kernel * padded_image[row:row + kernel_row, col:col + kernel_col])\n",
        "            if average:\n",
        "                output[row, col] /= kernel.shape[0] * kernel.shape[1]\n",
        "\n",
        "    return output\n"
      ],
      "metadata": {
        "id": "AZa3DYjbExx4"
      },
      "execution_count": null,
      "outputs": []
    },
    {
      "cell_type": "code",
      "source": [
        "# Sobel Kernel\n",
        "def sobel_kernel(image, filter):\n",
        "    new_image_x = convolution(image, filter)\n",
        "    new_image_y = convolution(image, np.flip(filter.T, axis=0))\n",
        "    gradient_magnitude = np.sqrt(np.square(new_image_x) + np.square(new_image_y))\n",
        "    gradient_magnitude *= 255.0 / gradient_magnitude.max()\n",
        "    return gradient_magnitude"
      ],
      "metadata": {
        "id": "mRgztBrjFlee"
      },
      "execution_count": null,
      "outputs": []
    },
    {
      "cell_type": "code",
      "source": [
        "# Display the feature map for one example from each fashion class\n",
        "filter = np.array([[-1, 0, 1], [-2, 0, 2], [-1, 0, 1]])\n",
        "fig, axes = plt.subplots(2, 5, figsize=(3*5,3*2))\n",
        "for i in range(len(np.unique(y_train))):\n",
        "  indx=np.random.choice(np.where(y_train==i)[0])\n",
        "  ax = axes[i//5, i%5]\n",
        "  a=sobel_kernel(x_train[indx], filter)\n",
        "  ax.imshow(np.squeeze(a),cmap=plt.cm.binary) #,cmap=plt.get_cmap('gray'))\n",
        "  ax.set_title('Label: {}'.format(labels_map[y_train[indx]]))\n",
        "plt.tight_layout()\n",
        "plt.show()\n"
      ],
      "metadata": {
        "id": "YexaTEkPHEqv",
        "colab": {
          "base_uri": "https://localhost:8080/",
          "height": 445
        },
        "outputId": "40abbc84-ca94-4f92-9938-0edc18ec16fd"
      },
      "execution_count": null,
      "outputs": [
        {
          "output_type": "display_data",
          "data": {
            "text/plain": [
              "<Figure size 1080x432 with 10 Axes>"
            ],
            "image/png": "[encoded data removed]"
          },
          "metadata": {
            "needs_background": "light"
          }
        }
      ]
    },
    {
      "cell_type": "markdown",
      "source": [
        "# Part 4: Using the Keras library, implement a CNN model for classification."
      ],
      "metadata": {
        "id": "7i1RpCFVA0i0"
      }
    },
    {
      "cell_type": "code",
      "source": [
        "# Model Structure \n",
        "model = keras.models.Sequential()\n",
        "model.add(\n",
        "        keras.layers.Conv2D(\n",
        "        filters=32, # How many filters we will learn \n",
        "        kernel_size=(3, 3), # Size of feature map that will slide over image\n",
        "        #strides=(1, 1), # How the feature map \"steps\" across the image\n",
        "        #padding='valid', # We are not using padding\n",
        "        activation='relu', # Rectified Linear Unit Activation Function\n",
        "        input_shape=(28, 28, 1) # The expected input shape for this layer\n",
        "    )\n",
        ") \n",
        "model.add(\n",
        "    keras.layers.MaxPooling2D(\n",
        "        pool_size=(2, 2), # Size feature will be mapped to\n",
        "        #strides=(2, 2) # How the pool \"steps\" across the feature\n",
        "    )\n",
        ")\n",
        "model.add(\n",
        "        keras.layers.Conv2D(\n",
        "        filters=64, # How many filters we will learn \n",
        "        kernel_size=(3, 3), # Size of feature map that will slide over image\n",
        "        #strides=(1, 1), # How the feature map \"steps\" across the image\n",
        "        #padding='valid', # We are not using padding\n",
        "        activation='relu', # Rectified Linear Unit Activation Function\n",
        "        #input_shape=(28, 28, 1) # The expected input shape for this layer\n",
        "    )\n",
        ")\n",
        "model.add(\n",
        "    keras.layers.MaxPooling2D(\n",
        "        pool_size=(2, 2), # Size feature will be mapped to\n",
        "        #strides=(2, 2) # How the pool \"steps\" across the feature\n",
        "    )\n",
        ")\n",
        "model.add(\n",
        "    keras.layers.Dropout(\n",
        "        rate=0.25 # Randomly disable 25% of neurons\n",
        "    )\n",
        ")\n",
        "model.add(\n",
        "    keras.layers.Flatten()\n",
        ")\n",
        "\n",
        "# A dense (interconnected) layer is added for mapping the derived features \n",
        "# to the required class.\n",
        "# model.add(\n",
        "#     tf.keras.layers.Dense(\n",
        "#         units=128, # Output shape\n",
        "#         activation='relu' # Rectified Linear Unit Activation Function\n",
        "#     )\n",
        "# )\n",
        "model.add(\n",
        "    keras.layers.Dense(\n",
        "        units=10, # Output shape\n",
        "        activation='softmax' # Softmax Activation Function\n",
        "    )\n",
        ")\n"
      ],
      "metadata": {
        "id": "jU3ahTZhZhjA"
      },
      "execution_count": null,
      "outputs": []
    },
    {
      "cell_type": "markdown",
      "source": [
        "# Part 5: Implement a custom cross-entropy loss (error function) for the multi-class classification"
      ],
      "metadata": {
        "id": "FcRDRGDABcJZ"
      }
    },
    {
      "cell_type": "code",
      "source": [
        "# Implement a custom cross-entropy loss (error function) for the multi-class classification\n",
        "import tensorflow as tf\n",
        "def cross_entropy(y,y_pre):\n",
        "  # print(\"y true shape\",y.shape, y)\n",
        "  # print(\"y pred shape\",y_pre.shape, y_pre)\n",
        "  #y=tf.cast(y, tf.float32)\n",
        "  # print(\"y true shape\",y)\n",
        "  loss=-tf.math.reduce_sum(y*tf.math.log(y_pre))\n",
        "  # print(\"y pred shape\",y_pre.shape, y_pre)\n",
        "  return loss/float(y_pre.shape[1])"
      ],
      "metadata": {
        "id": "T08eno0i1Ewp"
      },
      "execution_count": null,
      "outputs": []
    },
    {
      "cell_type": "markdown",
      "source": [
        "# Part 6: Compile and train your model with four different optimizers viz. SGD RMSprop, Adam, Adagrad. Plot the training loss for all four optimizers"
      ],
      "metadata": {
        "id": "pok6zLVGBm96"
      }
    },
    {
      "cell_type": "code",
      "source": [
        "# Training of the model \n",
        "# With adagrad optimizer\n",
        "model.compile(\n",
        "    loss=cross_entropy, # loss function\n",
        "    optimizer='adagrad', # optimizer function\n",
        "    metrics=['accuracy'] # reporting metric\n",
        ")\n",
        "print(model.summary())"
      ],
      "metadata": {
        "id": "sRIuY_zB1K7F",
        "colab": {
          "base_uri": "https://localhost:8080/"
        },
        "outputId": "56d8a30f-80ae-4ebe-beba-5a355af140d4"
      },
      "execution_count": null,
      "outputs": [
        {
          "output_type": "stream",
          "name": "stdout",
          "text": [
            "Model: \"sequential\"\n",
            "_________________________________________________________________\n",
            " Layer (type)                Output Shape              Param #   \n",
            "=================================================================\n",
            " conv2d (Conv2D)             (None, 26, 26, 32)        320       \n",
            "                                                                 \n",
            " max_pooling2d (MaxPooling2D  (None, 13, 13, 32)       0         \n",
            " )                                                               \n",
            "                                                                 \n",
            " conv2d_1 (Conv2D)           (None, 11, 11, 64)        18496     \n",
            "                                                                 \n",
            " max_pooling2d_1 (MaxPooling  (None, 5, 5, 64)         0         \n",
            " 2D)                                                             \n",
            "                                                                 \n",
            " dropout (Dropout)           (None, 5, 5, 64)          0         \n",
            "                                                                 \n",
            " flatten (Flatten)           (None, 1600)              0         \n",
            "                                                                 \n",
            " dense (Dense)               (None, 10)                16010     \n",
            "                                                                 \n",
            "=================================================================\n",
            "Total params: 34,826\n",
            "Trainable params: 34,826\n",
            "Non-trainable params: 0\n",
            "_________________________________________________________________\n",
            "None\n"
          ]
        }
      ]
    },
    {
      "cell_type": "code",
      "source": [
        "(x_train, y_train), (x_test, y_test) = tf.keras.datasets.fashion_mnist.load_data()\n",
        "x_train = x_train / 255\n",
        "x_test = x_test / 255\n",
        "y_train = tf.keras.utils.to_categorical(y_train, 10)\n",
        "y_test = tf.keras.utils.to_categorical(y_test, 10)\n",
        "#print(x_train.shape)\n",
        "# Train the CNN on the training data\n",
        "history = model.fit(\n",
        "    \n",
        "      # Training data : features (images) and classes.\n",
        "      x_train, y_train,\n",
        "                    \n",
        "      # number of samples to work through before updating the \n",
        "      # internal model parameters via back propagation.\n",
        "      batch_size=256, \n",
        "\n",
        "      # An epoch is an iteration over the entire training data.\n",
        "      epochs=10,\n",
        "\n",
        "      # The model will set apart his fraction of the training \n",
        "      # data, will not train on it, and will evaluate the loss\n",
        "      # and any model metrics on this data at the end of \n",
        "      # each epoch. \n",
        "      #validation_split=0.2, \n",
        "      validation_data=(x_test, y_test))"
      ],
      "metadata": {
        "id": "SpJgPpnY1NbP",
        "colab": {
          "base_uri": "https://localhost:8080/"
        },
        "outputId": "37b78761-c882-48c3-ef0e-1f6c6603c925"
      },
      "execution_count": null,
      "outputs": [
        {
          "output_type": "stream",
          "name": "stdout",
          "text": [
            "Epoch 1/10\n",
            "235/235 [==============================] - 41s 173ms/step - loss: 37.7496 - accuracy: 0.5186 - val_loss: 24.7091 - val_accuracy: 0.6920\n",
            "Epoch 2/10\n",
            "235/235 [==============================] - 42s 178ms/step - loss: 23.4519 - accuracy: 0.6708 - val_loss: 20.3656 - val_accuracy: 0.7302\n",
            "Epoch 3/10\n",
            "235/235 [==============================] - 47s 201ms/step - loss: 20.6209 - accuracy: 0.7108 - val_loss: 18.7680 - val_accuracy: 0.7431\n",
            "Epoch 4/10\n",
            "235/235 [==============================] - 41s 175ms/step - loss: 19.2283 - accuracy: 0.7257 - val_loss: 17.8410 - val_accuracy: 0.7502\n",
            "Epoch 5/10\n",
            "235/235 [==============================] - 41s 175ms/step - loss: 18.3601 - accuracy: 0.7372 - val_loss: 17.1677 - val_accuracy: 0.7552\n",
            "Epoch 6/10\n",
            "235/235 [==============================] - 43s 183ms/step - loss: 17.6735 - accuracy: 0.7473 - val_loss: 16.6273 - val_accuracy: 0.7617\n",
            "Epoch 7/10\n",
            "235/235 [==============================] - 41s 174ms/step - loss: 17.1443 - accuracy: 0.7541 - val_loss: 16.2114 - val_accuracy: 0.7674\n",
            "Epoch 8/10\n",
            "235/235 [==============================] - 42s 177ms/step - loss: 16.6621 - accuracy: 0.7610 - val_loss: 15.8457 - val_accuracy: 0.7748\n",
            "Epoch 9/10\n",
            "235/235 [==============================] - 41s 174ms/step - loss: 16.3364 - accuracy: 0.7656 - val_loss: 15.5314 - val_accuracy: 0.7788\n",
            "Epoch 10/10\n",
            "235/235 [==============================] - 41s 174ms/step - loss: 16.0225 - accuracy: 0.7699 - val_loss: 15.2590 - val_accuracy: 0.7810\n"
          ]
        }
      ]
    },
    {
      "cell_type": "code",
      "source": [
        "## Plots\n",
        "for_adagrad=history.history['loss']\n",
        "print(y_train.shape)\n",
        "plt.plot(history.history['loss'])\n",
        "plt.plot(history.history['val_loss'])\n",
        "plt.title('model loss')\n",
        "plt.ylabel('loss')\n",
        "plt.xlabel('epoch')\n",
        "plt.legend(['train','test'], loc='upper left')\n",
        "plt.show()"
      ],
      "metadata": {
        "id": "BsahMH6w1TTL",
        "colab": {
          "base_uri": "https://localhost:8080/",
          "height": 312
        },
        "outputId": "c59cc6a0-f4ca-4fb8-acf2-40ecc6d78543"
      },
      "execution_count": null,
      "outputs": [
        {
          "output_type": "stream",
          "name": "stdout",
          "text": [
            "(60000, 10)\n"
          ]
        },
        {
          "output_type": "display_data",
          "data": {
            "text/plain": [
              "<Figure size 432x288 with 1 Axes>"
            ],
            "image/png": "[encoded data removed]"
          },
          "metadata": {
            "needs_background": "light"
          }
        }
      ]
    },
    {
      "cell_type": "code",
      "source": [
        "# with SGD optimizer\n",
        "(x_train, y_train), (x_test, y_test) = tf.keras.datasets.fashion_mnist.load_data()\n",
        "x_train = x_train / 255\n",
        "x_test = x_test / 255\n",
        "y_train = tf.keras.utils.to_categorical(y_train, 10)\n",
        "y_test = tf.keras.utils.to_categorical(y_test, 10)\n",
        "model.compile(\n",
        "    loss=cross_entropy, # loss function\n",
        "    optimizer='sgd', # optimizer function\n",
        "    metrics=['accuracy'] # reporting metric\n",
        ")\n",
        "#print(model.summary())\n",
        "history = model.fit(x_train, y_train,batch_size=256, epochs=10, validation_data=(x_test, y_test))\n",
        "for_sgd=history.history['loss']\n",
        "plt.plot(history.history['loss'])\n",
        "plt.plot(history.history['val_loss'])\n",
        "plt.title('model loss')\n",
        "plt.ylabel('loss')\n",
        "plt.xlabel('epoch')\n",
        "plt.legend(['train','test'], loc='upper left')\n",
        "plt.show()"
      ],
      "metadata": {
        "colab": {
          "base_uri": "https://localhost:8080/",
          "height": 642
        },
        "id": "jpIDkgwPyaGA",
        "outputId": "54b5778e-5017-42ef-86cd-42e1a342080c"
      },
      "execution_count": null,
      "outputs": [
        {
          "output_type": "stream",
          "name": "stdout",
          "text": [
            "Epoch 1/10\n",
            "235/235 [==============================] - 46s 193ms/step - loss: 25.6838 - accuracy: 0.6697 - val_loss: 13.5942 - val_accuracy: 0.8094\n",
            "Epoch 2/10\n",
            "235/235 [==============================] - 38s 162ms/step - loss: 13.6566 - accuracy: 0.8023 - val_loss: 12.5896 - val_accuracy: 0.8236\n",
            "Epoch 3/10\n",
            "235/235 [==============================] - 39s 166ms/step - loss: 12.3522 - accuracy: 0.8224 - val_loss: 11.4223 - val_accuracy: 0.8381\n",
            "Epoch 4/10\n",
            "235/235 [==============================] - 40s 169ms/step - loss: 11.7020 - accuracy: 0.8326 - val_loss: 11.4956 - val_accuracy: 0.8321\n",
            "Epoch 5/10\n",
            "235/235 [==============================] - 38s 163ms/step - loss: 11.2495 - accuracy: 0.8388 - val_loss: 10.8162 - val_accuracy: 0.8473\n",
            "Epoch 6/10\n",
            "235/235 [==============================] - 38s 163ms/step - loss: 10.9676 - accuracy: 0.8431 - val_loss: 10.6768 - val_accuracy: 0.8489\n",
            "Epoch 7/10\n",
            "235/235 [==============================] - 38s 163ms/step - loss: 10.6770 - accuracy: 0.8463 - val_loss: 10.4674 - val_accuracy: 0.8479\n",
            "Epoch 8/10\n",
            "235/235 [==============================] - 38s 164ms/step - loss: 10.4634 - accuracy: 0.8503 - val_loss: 9.9507 - val_accuracy: 0.8575\n",
            "Epoch 9/10\n",
            "235/235 [==============================] - 38s 163ms/step - loss: 10.2835 - accuracy: 0.8512 - val_loss: 10.0407 - val_accuracy: 0.8585\n",
            "Epoch 10/10\n",
            "235/235 [==============================] - 38s 163ms/step - loss: 10.1574 - accuracy: 0.8529 - val_loss: 9.7648 - val_accuracy: 0.8610\n"
          ]
        },
        {
          "output_type": "display_data",
          "data": {
            "text/plain": [
              "<Figure size 432x288 with 1 Axes>"
            ],
            "image/png": "[encoded data removed]"
          },
          "metadata": {
            "needs_background": "light"
          }
        }
      ]
    },
    {
      "cell_type": "code",
      "source": [
        "# RmsProp\n",
        "model.compile(\n",
        "    loss=cross_entropy, # loss function\n",
        "    optimizer='rmsprop', # optimizer function\n",
        "    metrics=['accuracy'] # reporting metric\n",
        ")\n",
        "# print(model.summary())\n",
        "print(model.summary())\n",
        "history = model.fit(x_train, y_train,batch_size=256, epochs=10,validation_data=(x_test, y_test))\n",
        "for_rmsprop=history.history['loss']\n",
        "plt.plot(history.history['loss'])\n",
        "plt.plot(history.history['val_loss'])\n",
        "plt.title('model loss')\n",
        "plt.ylabel('loss')\n",
        "plt.xlabel('epoch')\n",
        "plt.legend(['train', 'test'], loc='upper left')\n",
        "plt.show()"
      ],
      "metadata": {
        "colab": {
          "base_uri": "https://localhost:8080/",
          "height": 1000
        },
        "id": "BvfUqk6LzFWr",
        "outputId": "f494a706-1264-4a12-8bcb-011e9558274d"
      },
      "execution_count": null,
      "outputs": [
        {
          "output_type": "stream",
          "name": "stdout",
          "text": [
            "Model: \"sequential\"\n",
            "_________________________________________________________________\n",
            " Layer (type)                Output Shape              Param #   \n",
            "=================================================================\n",
            " conv2d (Conv2D)             (None, 26, 26, 32)        320       \n",
            "                                                                 \n",
            " max_pooling2d (MaxPooling2D  (None, 13, 13, 32)       0         \n",
            " )                                                               \n",
            "                                                                 \n",
            " conv2d_1 (Conv2D)           (None, 11, 11, 64)        18496     \n",
            "                                                                 \n",
            " max_pooling2d_1 (MaxPooling  (None, 5, 5, 64)         0         \n",
            " 2D)                                                             \n",
            "                                                                 \n",
            " dropout (Dropout)           (None, 5, 5, 64)          0         \n",
            "                                                                 \n",
            " flatten (Flatten)           (None, 1600)              0         \n",
            "                                                                 \n",
            " dense (Dense)               (None, 10)                16010     \n",
            "                                                                 \n",
            "=================================================================\n",
            "Total params: 34,826\n",
            "Trainable params: 34,826\n",
            "Non-trainable params: 0\n",
            "_________________________________________________________________\n",
            "None\n",
            "Epoch 1/10\n",
            "235/235 [==============================] - 39s 165ms/step - loss: 9.6411 - accuracy: 0.8611 - val_loss: 9.4687 - val_accuracy: 0.8656\n",
            "Epoch 2/10\n",
            "235/235 [==============================] - 39s 165ms/step - loss: 9.4351 - accuracy: 0.8645 - val_loss: 9.3488 - val_accuracy: 0.8689\n",
            "Epoch 3/10\n",
            "235/235 [==============================] - 39s 165ms/step - loss: 9.2862 - accuracy: 0.8656 - val_loss: 9.2663 - val_accuracy: 0.8693\n",
            "Epoch 4/10\n",
            "235/235 [==============================] - 39s 165ms/step - loss: 9.1410 - accuracy: 0.8673 - val_loss: 9.0747 - val_accuracy: 0.8718\n",
            "Epoch 5/10\n",
            "235/235 [==============================] - 39s 165ms/step - loss: 8.9018 - accuracy: 0.8719 - val_loss: 9.0525 - val_accuracy: 0.8699\n",
            "Epoch 6/10\n",
            "235/235 [==============================] - 39s 165ms/step - loss: 8.7202 - accuracy: 0.8742 - val_loss: 9.0173 - val_accuracy: 0.8734\n",
            "Epoch 7/10\n",
            "235/235 [==============================] - 39s 165ms/step - loss: 8.6132 - accuracy: 0.8758 - val_loss: 8.7278 - val_accuracy: 0.8769\n",
            "Epoch 8/10\n",
            "235/235 [==============================] - 39s 165ms/step - loss: 8.4568 - accuracy: 0.8799 - val_loss: 8.6479 - val_accuracy: 0.8779\n",
            "Epoch 9/10\n",
            "235/235 [==============================] - 39s 165ms/step - loss: 8.3046 - accuracy: 0.8796 - val_loss: 8.4952 - val_accuracy: 0.8800\n",
            "Epoch 10/10\n",
            "235/235 [==============================] - 39s 164ms/step - loss: 8.2028 - accuracy: 0.8826 - val_loss: 8.3922 - val_accuracy: 0.8819\n"
          ]
        },
        {
          "output_type": "display_data",
          "data": {
            "text/plain": [
              "<Figure size 432x288 with 1 Axes>"
            ],
            "image/png": "[encoded data removed]"
          },
          "metadata": {
            "needs_background": "light"
          }
        }
      ]
    },
    {
      "cell_type": "code",
      "source": [
        "# With Adam optimizer\n",
        "model.compile(\n",
        "    loss=cross_entropy, # loss function\n",
        "    optimizer='adam', # optimizer function\n",
        "    metrics=['accuracy'] # reporting metric\n",
        ")\n",
        "# print(model.summary())\n",
        "print(model.summary())\n",
        "history = model.fit(x_train, y_train,batch_size=256, epochs=10,validation_data=(x_test, y_test))\n",
        "for_adam=history.history['loss']\n",
        "plt.plot(history.history['loss'])\n",
        "plt.plot(history.history['val_loss'])\n",
        "plt.title('model loss')\n",
        "plt.ylabel('loss')\n",
        "plt.xlabel('epoch')\n",
        "plt.legend(['train', 'test'], loc='upper left')\n",
        "plt.show()"
      ],
      "metadata": {
        "colab": {
          "base_uri": "https://localhost:8080/",
          "height": 1000
        },
        "id": "XjJU1p5EzVTG",
        "outputId": "54a6f537-e163-411d-eea0-9e83d1c2c22b"
      },
      "execution_count": null,
      "outputs": [
        {
          "output_type": "stream",
          "name": "stdout",
          "text": [
            "Model: \"sequential\"\n",
            "_________________________________________________________________\n",
            " Layer (type)                Output Shape              Param #   \n",
            "=================================================================\n",
            " conv2d (Conv2D)             (None, 26, 26, 32)        320       \n",
            "                                                                 \n",
            " max_pooling2d (MaxPooling2D  (None, 13, 13, 32)       0         \n",
            " )                                                               \n",
            "                                                                 \n",
            " conv2d_1 (Conv2D)           (None, 11, 11, 64)        18496     \n",
            "                                                                 \n",
            " max_pooling2d_1 (MaxPooling  (None, 5, 5, 64)         0         \n",
            " 2D)                                                             \n",
            "                                                                 \n",
            " dropout (Dropout)           (None, 5, 5, 64)          0         \n",
            "                                                                 \n",
            " flatten (Flatten)           (None, 1600)              0         \n",
            "                                                                 \n",
            " dense (Dense)               (None, 10)                16010     \n",
            "                                                                 \n",
            "=================================================================\n",
            "Total params: 34,826\n",
            "Trainable params: 34,826\n",
            "Non-trainable params: 0\n",
            "_________________________________________________________________\n",
            "None\n",
            "Epoch 1/10\n",
            "235/235 [==============================] - 39s 166ms/step - loss: 8.0550 - accuracy: 0.8840 - val_loss: 8.3662 - val_accuracy: 0.8830\n",
            "Epoch 2/10\n",
            "235/235 [==============================] - 39s 165ms/step - loss: 7.9347 - accuracy: 0.8857 - val_loss: 8.3098 - val_accuracy: 0.8851\n",
            "Epoch 3/10\n",
            "235/235 [==============================] - 39s 164ms/step - loss: 7.8143 - accuracy: 0.8880 - val_loss: 8.0983 - val_accuracy: 0.8869\n",
            "Epoch 4/10\n",
            "235/235 [==============================] - 39s 164ms/step - loss: 7.6467 - accuracy: 0.8905 - val_loss: 7.9729 - val_accuracy: 0.8888\n",
            "Epoch 5/10\n",
            "235/235 [==============================] - 39s 165ms/step - loss: 7.6209 - accuracy: 0.8892 - val_loss: 7.9339 - val_accuracy: 0.8871\n",
            "Epoch 6/10\n",
            "235/235 [==============================] - 39s 165ms/step - loss: 7.4431 - accuracy: 0.8934 - val_loss: 7.9067 - val_accuracy: 0.8899\n",
            "Epoch 7/10\n",
            "235/235 [==============================] - 39s 166ms/step - loss: 7.3687 - accuracy: 0.8934 - val_loss: 7.8782 - val_accuracy: 0.8917\n",
            "Epoch 8/10\n",
            "235/235 [==============================] - 39s 164ms/step - loss: 7.3246 - accuracy: 0.8942 - val_loss: 7.8236 - val_accuracy: 0.8900\n",
            "Epoch 9/10\n",
            "235/235 [==============================] - 39s 165ms/step - loss: 7.2523 - accuracy: 0.8965 - val_loss: 7.7958 - val_accuracy: 0.8908\n",
            "Epoch 10/10\n",
            "235/235 [==============================] - 39s 165ms/step - loss: 7.1710 - accuracy: 0.8967 - val_loss: 7.7414 - val_accuracy: 0.8898\n"
          ]
        },
        {
          "output_type": "display_data",
          "data": {
            "text/plain": [
              "<Figure size 432x288 with 1 Axes>"
            ],
            "image/png": "[encoded data removed]"
          },
          "metadata": {
            "needs_background": "light"
          }
        }
      ]
    },
    {
      "cell_type": "code",
      "source": [
        "# Plot of training loss for different optimizer\n",
        "plt.plot(for_adagrad)\n",
        "plt.plot(for_adam)\n",
        "plt.plot(for_rmsprop)\n",
        "plt.plot(for_sgd)\n",
        "plt.title('model loss for different optimizer')\n",
        "plt.ylabel('loss')\n",
        "plt.xlabel('epoch')\n",
        "plt.legend(['Adagrad', 'Adam','RmsProp','SGD'], loc='upper right')\n",
        "plt.show()"
      ],
      "metadata": {
        "colab": {
          "base_uri": "https://localhost:8080/",
          "height": 295
        },
        "id": "yITyfdlNUo0w",
        "outputId": "d6d9077b-963f-4987-c4c8-65462a6ac6b3"
      },
      "execution_count": null,
      "outputs": [
        {
          "output_type": "display_data",
          "data": {
            "text/plain": [
              "<Figure size 432x288 with 1 Axes>"
            ],
            "image/png": "[encoded data removed]"
          },
          "metadata": {
            "needs_background": "light"
          }
        }
      ]
    },
    {
      "cell_type": "markdown",
      "source": [
        "# Part 6: Observation\n",
        "1.  From above error graph plot and also above individual error graph plot we observe that Adam optimizer has produced some of the best result using this dataset. \n",
        "\n",
        "2.  Although this optimizer is computationally costly but this method is too fast and converges rapidly. It also rectifies vanishing learning rate, high variance quickly. \n",
        "\n",
        "3.  We have also noticed that Adagrad has worst result compared to the all other optimizer as the learning rate is always decreasing results in slow training. \n",
        "\n",
        "4.  For SGD we can say that it has high variance in model parameters and may shoot even after achieving global minima.If we want to get the same convergence as gradient descent we need to slowly reduce the value of learning rate.\n",
        "\n",
        "5.  Although RmsProp also produces some good result, but in some senarios it may fall behind Adam as Adam optimizer combines the heuristics of both Momentum and RMSProp.\n",
        "\n",
        "Adam is the best optimizers if one wants to train the neural network in less time and more efficiently."
      ],
      "metadata": {
        "id": "nL_2ZRl1Bvcu"
      }
    },
    {
      "cell_type": "markdown",
      "source": [
        "# Part 7: Choose different hyperparameters for Conv Layers, change number of Conv layer and drop-out rate and train your model."
      ],
      "metadata": {
        "id": "kA_vTKeOGaZJ"
      }
    },
    {
      "cell_type": "markdown",
      "source": [
        "Hyperparameter: 3 convolutional layer size 32, 64, 128 and kernal size 3X3 and activation function as relu, 2 maxpooling layer with size (2,2), 2 dropout layer with dropout rate 0.5, one flatten layer, one dense layer with unit=128, and one output layer with softmax activation function. we have compile this code with adam optimizer and custom cross entropy function and fit the model with batch size 512 and 30 epochs."
      ],
      "metadata": {
        "id": "hDJw-OAvUMQw"
      }
    },
    {
      "cell_type": "code",
      "source": [
        "conv1 = keras.layers.Conv2D(32, (3,3), activation='relu', input_shape=(28,28,1) )\n",
        "conv2 = keras.layers.Conv2D(64, (3,3), activation='relu')\n",
        "conv3 = keras.layers.Conv2D(128, (3,3), activation='relu')\n",
        "max_pool_1 = keras.layers.MaxPooling2D((2,2))\n",
        "max_pool_2 = keras.layers.MaxPooling2D((2,2))\n",
        "max_pool_3 = keras.layers.MaxPooling2D((2,2))\n",
        "flat_layer = keras.layers.Flatten()\n",
        "fc = keras.layers.Dense(128, activation='relu')\n",
        "output = keras.layers.Dense(10, 'softmax')\n",
        "drop_1 = keras.layers.Dropout(0.5)\n",
        "drop_2 = keras.layers.Dropout(0.5)\n",
        "drop_3 = keras.layers.Dropout(0.5)\n",
        "#model = keras.models.Sequential()\n",
        "\n",
        "new_model = keras.models.Sequential()\n",
        "\n",
        "new_model.add(conv1)\n",
        "new_model.add(conv2)\n",
        "new_model.add(max_pool_2)\n",
        "new_model.add(drop_2)\n",
        "new_model.add(conv3)\n",
        "new_model.add(max_pool_3)\n",
        "new_model.add(drop_3)\n",
        "new_model.add(flat_layer)\n",
        "new_model.add(fc)\n",
        "new_model.add(output)\n",
        "new_model.summary()"
      ],
      "metadata": {
        "colab": {
          "base_uri": "https://localhost:8080/"
        },
        "id": "H9CL1OOYi_mQ",
        "outputId": "ec75f108-7df5-4a84-a8e4-333408b25b90"
      },
      "execution_count": null,
      "outputs": [
        {
          "output_type": "stream",
          "name": "stdout",
          "text": [
            "Model: \"sequential_1\"\n",
            "_________________________________________________________________\n",
            " Layer (type)                Output Shape              Param #   \n",
            "=================================================================\n",
            " conv2d_2 (Conv2D)           (None, 26, 26, 32)        320       \n",
            "                                                                 \n",
            " conv2d_3 (Conv2D)           (None, 24, 24, 64)        18496     \n",
            "                                                                 \n",
            " max_pooling2d_3 (MaxPooling  (None, 12, 12, 64)       0         \n",
            " 2D)                                                             \n",
            "                                                                 \n",
            " dropout_2 (Dropout)         (None, 12, 12, 64)        0         \n",
            "                                                                 \n",
            " conv2d_4 (Conv2D)           (None, 10, 10, 128)       73856     \n",
            "                                                                 \n",
            " max_pooling2d_4 (MaxPooling  (None, 5, 5, 128)        0         \n",
            " 2D)                                                             \n",
            "                                                                 \n",
            " dropout_3 (Dropout)         (None, 5, 5, 128)         0         \n",
            "                                                                 \n",
            " flatten_1 (Flatten)         (None, 3200)              0         \n",
            "                                                                 \n",
            " dense_1 (Dense)             (None, 128)               409728    \n",
            "                                                                 \n",
            " dense_2 (Dense)             (None, 10)                1290      \n",
            "                                                                 \n",
            "=================================================================\n",
            "Total params: 503,690\n",
            "Trainable params: 503,690\n",
            "Non-trainable params: 0\n",
            "_________________________________________________________________\n"
          ]
        }
      ]
    },
    {
      "cell_type": "code",
      "source": [
        "new_model.compile(optimizer='adam',\n",
        "              loss=cross_entropy,\n",
        "              metrics=['accuracy'])\n",
        "history=new_model.fit(x_train, y_train, epochs=30, batch_size=512, shuffle=True, validation_split=0.2)"
      ],
      "metadata": {
        "colab": {
          "base_uri": "https://localhost:8080/"
        },
        "id": "CbI1-rQijq0S",
        "outputId": "66c41e5a-2a9a-48bf-d42c-43780c11f6b9"
      },
      "execution_count": null,
      "outputs": [
        {
          "output_type": "stream",
          "name": "stdout",
          "text": [
            "Epoch 1/30\n",
            "94/94 [==============================] - 161s 2s/step - loss: 42.0540 - accuracy: 0.6945 - val_loss: 25.7270 - val_accuracy: 0.8153\n",
            "Epoch 2/30\n",
            "94/94 [==============================] - 159s 2s/step - loss: 24.3850 - accuracy: 0.8238 - val_loss: 20.2965 - val_accuracy: 0.8574\n",
            "Epoch 3/30\n",
            "94/94 [==============================] - 159s 2s/step - loss: 20.8048 - accuracy: 0.8515 - val_loss: 18.2264 - val_accuracy: 0.8740\n",
            "Epoch 4/30\n",
            "94/94 [==============================] - 160s 2s/step - loss: 18.9652 - accuracy: 0.8665 - val_loss: 17.1048 - val_accuracy: 0.8821\n",
            "Epoch 5/30\n",
            "94/94 [==============================] - 160s 2s/step - loss: 17.3448 - accuracy: 0.8754 - val_loss: 15.5336 - val_accuracy: 0.8909\n",
            "Epoch 6/30\n",
            "94/94 [==============================] - 159s 2s/step - loss: 16.2765 - accuracy: 0.8856 - val_loss: 14.8308 - val_accuracy: 0.8973\n",
            "Epoch 7/30\n",
            "94/94 [==============================] - 159s 2s/step - loss: 15.2092 - accuracy: 0.8922 - val_loss: 13.6521 - val_accuracy: 0.9049\n",
            "Epoch 8/30\n",
            "94/94 [==============================] - 160s 2s/step - loss: 14.4345 - accuracy: 0.8970 - val_loss: 13.2651 - val_accuracy: 0.9088\n",
            "Epoch 9/30\n",
            "94/94 [==============================] - 160s 2s/step - loss: 13.8113 - accuracy: 0.9019 - val_loss: 12.7414 - val_accuracy: 0.9122\n",
            "Epoch 10/30\n",
            "94/94 [==============================] - 159s 2s/step - loss: 13.5783 - accuracy: 0.9013 - val_loss: 12.4249 - val_accuracy: 0.9137\n",
            "Epoch 11/30\n",
            "94/94 [==============================] - 158s 2s/step - loss: 12.9819 - accuracy: 0.9075 - val_loss: 12.2826 - val_accuracy: 0.9144\n",
            "Epoch 12/30\n",
            "94/94 [==============================] - 158s 2s/step - loss: 12.6006 - accuracy: 0.9095 - val_loss: 11.7253 - val_accuracy: 0.9192\n",
            "Epoch 13/30\n",
            "94/94 [==============================] - 158s 2s/step - loss: 12.1099 - accuracy: 0.9131 - val_loss: 12.0226 - val_accuracy: 0.9180\n",
            "Epoch 14/30\n",
            "94/94 [==============================] - 158s 2s/step - loss: 11.7963 - accuracy: 0.9141 - val_loss: 11.2286 - val_accuracy: 0.9208\n",
            "Epoch 15/30\n",
            "94/94 [==============================] - 160s 2s/step - loss: 11.5592 - accuracy: 0.9185 - val_loss: 11.5743 - val_accuracy: 0.9172\n",
            "Epoch 16/30\n",
            "94/94 [==============================] - 157s 2s/step - loss: 11.0726 - accuracy: 0.9205 - val_loss: 10.8191 - val_accuracy: 0.9239\n",
            "Epoch 17/30\n",
            "94/94 [==============================] - 157s 2s/step - loss: 10.9609 - accuracy: 0.9203 - val_loss: 11.4527 - val_accuracy: 0.9193\n",
            "Epoch 18/30\n",
            "94/94 [==============================] - 157s 2s/step - loss: 10.7296 - accuracy: 0.9212 - val_loss: 10.7495 - val_accuracy: 0.9257\n",
            "Epoch 19/30\n",
            "94/94 [==============================] - 157s 2s/step - loss: 10.4490 - accuracy: 0.9244 - val_loss: 10.6276 - val_accuracy: 0.9267\n",
            "Epoch 20/30\n",
            "94/94 [==============================] - 157s 2s/step - loss: 10.2372 - accuracy: 0.9244 - val_loss: 10.5534 - val_accuracy: 0.9251\n",
            "Epoch 21/30\n",
            "94/94 [==============================] - 158s 2s/step - loss: 9.9916 - accuracy: 0.9278 - val_loss: 10.1374 - val_accuracy: 0.9274\n",
            "Epoch 22/30\n",
            "94/94 [==============================] - 157s 2s/step - loss: 9.6520 - accuracy: 0.9299 - val_loss: 9.9532 - val_accuracy: 0.9279\n",
            "Epoch 23/30\n",
            "94/94 [==============================] - 158s 2s/step - loss: 9.5242 - accuracy: 0.9287 - val_loss: 9.9577 - val_accuracy: 0.9296\n",
            "Epoch 24/30\n",
            "94/94 [==============================] - 157s 2s/step - loss: 9.3176 - accuracy: 0.9321 - val_loss: 9.8646 - val_accuracy: 0.9292\n",
            "Epoch 25/30\n",
            "94/94 [==============================] - 157s 2s/step - loss: 9.0345 - accuracy: 0.9339 - val_loss: 9.8345 - val_accuracy: 0.9320\n",
            "Epoch 26/30\n",
            "94/94 [==============================] - 158s 2s/step - loss: 8.8461 - accuracy: 0.9352 - val_loss: 9.6031 - val_accuracy: 0.9317\n",
            "Epoch 27/30\n",
            "94/94 [==============================] - 159s 2s/step - loss: 8.7242 - accuracy: 0.9357 - val_loss: 9.7746 - val_accuracy: 0.9315\n",
            "Epoch 28/30\n",
            "94/94 [==============================] - 157s 2s/step - loss: 8.5664 - accuracy: 0.9378 - val_loss: 9.5249 - val_accuracy: 0.9325\n",
            "Epoch 29/30\n",
            "94/94 [==============================] - 158s 2s/step - loss: 8.3111 - accuracy: 0.9390 - val_loss: 9.6421 - val_accuracy: 0.9318\n",
            "Epoch 30/30\n",
            "94/94 [==============================] - 158s 2s/step - loss: 8.2762 - accuracy: 0.9392 - val_loss: 9.7627 - val_accuracy: 0.9298\n"
          ]
        }
      ]
    },
    {
      "cell_type": "code",
      "source": [
        "test_loss, test_accuracy = new_model.evaluate(x_test, y_test)"
      ],
      "metadata": {
        "colab": {
          "base_uri": "https://localhost:8080/"
        },
        "id": "UAe_oA-kkWp_",
        "outputId": "4f716df7-05b4-4b6b-f116-7ff3772d7b05"
      },
      "execution_count": null,
      "outputs": [
        {
          "output_type": "stream",
          "name": "stdout",
          "text": [
            "313/313 [==============================] - 9s 27ms/step - loss: 0.6568 - accuracy: 0.9276\n"
          ]
        }
      ]
    },
    {
      "cell_type": "code",
      "source": [
        "plt.plot(history.history['loss'])\n",
        "plt.plot(history.history['val_loss'])\n",
        "plt.title(\"Loss\")\n",
        "plt.ylabel(\"loss\")\n",
        "plt.xlabel(\"epoch\")\n",
        "plt.legend(['train', 'test'], loc='upper left')\n",
        "plt.show()"
      ],
      "metadata": {
        "colab": {
          "base_uri": "https://localhost:8080/",
          "height": 295
        },
        "id": "W6sTICUqkbqf",
        "outputId": "7ba58af3-8976-4184-8ee3-654440fbbe0d"
      },
      "execution_count": null,
      "outputs": [
        {
          "output_type": "display_data",
          "data": {
            "text/plain": [
              "<Figure size 432x288 with 1 Axes>"
            ],
            "image/png": "[encoded data removed]"
          },
          "metadata": {
            "needs_background": "light"
          }
        }
      ]
    },
    {
      "cell_type": "code",
      "source": [
        "plt.plot(history.history['accuracy'])\n",
        "plt.plot(history.history['val_accuracy'])\n",
        "plt.title(\"Accuracy\")\n",
        "plt.ylabel(\"accuracy\")\n",
        "plt.xlabel(\"epoch\")\n",
        "plt.legend(['train', 'test'], loc='upper left')\n",
        "plt.show()"
      ],
      "metadata": {
        "colab": {
          "base_uri": "https://localhost:8080/",
          "height": 295
        },
        "id": "ji_Ipqv1ka0B",
        "outputId": "e75ac4cd-3b1c-4d50-a6bb-13c53735b728"
      },
      "execution_count": null,
      "outputs": [
        {
          "output_type": "display_data",
          "data": {
            "text/plain": [
              "<Figure size 432x288 with 1 Axes>"
            ],
            "image/png": "[encoded data removed]"
          },
          "metadata": {
            "needs_background": "light"
          }
        }
      ]
    },
    {
      "cell_type": "code",
      "source": [
        ""
      ],
      "metadata": {
        "id": "pCbuwy1qceYx"
      },
      "execution_count": null,
      "outputs": []
    },
    {
      "cell_type": "code",
      "source": [
        "# Challenges and observations"
      ],
      "metadata": {
        "id": "FDiIitjq1QMP"
      },
      "execution_count": null,
      "outputs": []
    },
    {
      "cell_type": "markdown",
      "source": [
        "#Part 7: Challenges\n",
        "1.  If we want to increase the number of Conv2D layer and maxplooing we can but it  will make the evaluation model more complex. \n",
        "2.  Eventually it creates limitation such that it will be somewhat more time taking as the model complexity goes on. \n",
        "3.  And sometimes using of 5 convolutional layers or more cannot create any type of improvement if you run the model less number of epochs. \n",
        "\n",
        "So we have to balance the model complexity as well as number of epochs to get the best performance out of it. "
      ],
      "metadata": {
        "id": "2GgOse-Vd0yM"
      }
    },
    {
      "cell_type": "markdown",
      "source": [
        "# Part 7: Observation and Analysis\n",
        "\n",
        "\n",
        "1.   From above experiment we can say that we have achieved some amount of performance improment compared to what the default model was given in the question.\n",
        "\n",
        "2.   We have already mentioned that Adam optimizer can give better result so we have chosen that for this experiment. Also as mentioned in the question we have tried to change the hyperparameters for this experiment. Such that, we have used 3 Convolutional layer with different sizes of 32, 64 and 128 with relu activation. Along with 2 maxpooling layer of size 2X2 and 2 dropout layer of value 0.5. And we have also used two dense l flatten layer and one dense layer with relu activation function and size 128. At last we have used one output layer with 10 units and softmax activation function.\n",
        "\n",
        "3.   We have noticed that after running for 30 epochs it produced some significant improvement in classification using this model. \n",
        "\n",
        "4.   The addition of one Conv2D layer and maxpolling layer although makes the model complex but eventually it generating good output for our experiment. \n",
        "\n",
        "5.   Also we have to run for more about 100 epochs to get effective accuracy using these models. \n",
        "\n",
        "So we can say that  even with these model configuration we can see more improvement if we train it for more number of epochs."
      ],
      "metadata": {
        "id": "MNvK1wgPGm6M"
      }
    }
  ]
}